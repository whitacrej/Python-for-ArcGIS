{
 "cells": [
  {
   "cell_type": "markdown",
   "metadata": {},
   "source": [
    "# Python for ArcGIS Advanced\n",
    "---"
   ]
  },
  {
   "cell_type": "markdown",
   "metadata": {},
   "source": [
    "## Description"
   ]
  },
  {
   "cell_type": "markdown",
   "metadata": {},
   "source": [
    "Building on Python ArcGIS Introduction, this workshop will expand on those skills to further use Python in ArcGIS. The workshop will focus on the ArcPy Python site package to expand geoprocessing capabilities with Python. Participants will learn to build multiple standalone geoprocessing scripts covering different GIS tasks and workflows. The workshop will also cover how to create custom script tools in ArcGIS toolboxes for reuse and sharing. Participants will finish with the skills to explore more resources and options for utilizing Python in ArcGIS.\n",
    "\n",
    "### Specific Topics Include:\n",
    "* Work with the ArcPy Python site package for ArcGIS\n",
    "* Explore the difference between Python scripts and ModelBuilder models\n",
    "* Build and share custom ArcGIS script tools for automation\n",
    "* Learn tips and tricks for validating script syntax and error handling"
   ]
  },
  {
   "cell_type": "markdown",
   "metadata": {},
   "source": [
    "# Outline\n",
    "---"
   ]
  },
  {
   "cell_type": "markdown",
   "metadata": {},
   "source": [
    "<table style=\"width: 95%; margin-left: auto; margin-right: auto;\">\n",
    "<thead>\n",
    "  <tr>\n",
    "    <th style=\"font-size: large; text-align: center; width: 47.5%\">Part I</th>\n",
    "    <th style=\"font-size: large; text-align: center; width: 5%\">\n",
    "\n",
    "**[Break](#Break)**</th>\n",
    "    <th style=\"font-size: large; text-align: center; width: 47.5%\">Part II</th>\n",
    "  </tr>\n",
    "</thead>\n",
    "<tbody>\n",
    "  <tr>\n",
    "    <td style=\"vertical-align: center; padding: 20px; font-size: large;\">\n",
    "\n",
    "[**I. Introduction**](#I.-Introduction)\n",
    "\n",
    "[**II. Data and Software**](#II.-Data-and-Software)\n",
    "* [Downloads](#Downloads)\n",
    "* [ArcGIS Pro](#ArcGIS-Pro)\n",
    "* [ArcGIS Notebooks](#ArcGIS-Notebooks)\n",
    "* [Code Editors](#Code-Editors)\n",
    "\n",
    "[**III. *Python for ArcGIS Introduction* Quick Review**](#III.-Python-for-ArcGIS-Introduction-Quick-Review)\n",
    "\n",
    "[**IV. Working with Files in Python**](#IV.-Working-with-Files-in-Python)\n",
    "* [Reading Files with Python](#Reading-Files-with-Python)\n",
    "* [`csv` Module](#csv-Module)\n",
    "\n",
    "[**V. Creating Scripts with Python**](#V.-Creating-Scripts-with-Python)\n",
    "* [What is a Script?](#What-is-a-Script?)\n",
    "* [Planning a Script](#Planning-a-Script)\n",
    "    * [Create Pseudo Code](#Create-Pseudo-Code)\n",
    "* [Develop the Script](#Develop-the-Script)\n",
    "    * [Cursors](#Cursors)\n",
    "    * [Creating and Writing to CSV Files](#Creating-and-Writing-to-CSV-Files)</td>\n",
    "    <td style=\"background-color: #808080\"></td>\n",
    "    <td style=\"vertical-align: center; padding: 20px; font-size: large;\">\n",
    "\n",
    "[**VI. Adding Geoprocessing Tools to Scripts**](#VI.-Adding-Geoprocessing-Tools-to-Scripts)\n",
    "\n",
    "[**VII. Creating Custom ArcGIS Script Tools**](#VII.-Creating-Custom-ArcGIS-Script-Tools)\n",
    "* [What is an ArcGIS Script Tool?](#What-is-an-ArcGIS-Script-Tool?)\n",
    "* [Create a Script Tool](#Create-a-Script-Tool)\n",
    "* [Prepare Script for ArcGIS Script Tool](#Prepare-Script-for-ArcGIS-Script-Tool)\n",
    "* [Handling Errors and Debugging](#Handling-Errors-and-Debugging)\n",
    "* [Tool Parameter Validation](#Tool-Parameter-Validation)\n",
    "* [Documenting Script Tools](#Documenting-Script-Tools)\n",
    "\n",
    "[**VIII. Conclusion and Moving Forward**](#VIII.-Conclusion-and-Moving-Forward)</td>\n",
    "  </tr>\n",
    "</tbody>\n",
    "</table>"
   ]
  },
  {
   "cell_type": "markdown",
   "metadata": {},
   "source": [
    "# I. Introduction\n",
    "---\n",
    "[**Top**](#Outline)"
   ]
  },
  {
   "cell_type": "markdown",
   "metadata": {},
   "source": [
    "## Instructor"
   ]
  },
  {
   "cell_type": "markdown",
   "metadata": {},
   "source": [
    "<img style=\"float: right; padding: 20px\" alt=\"Image of James Whitacre\" src=\"https://github.com/whitacrej/Python-for-ArcGIS/blob/main/Notebooks/Images/JamesWhitacre.jpg?raw=true\" width=\"300\" height=\"300\" />\n",
    "\n",
    "### James Whitacre\n",
    "\n",
    "**Chief, GIS Services Division | Pennsylvania Game Commission**\n",
    "\n",
    "jawhitacre@pa.gov\n",
    "\n",
    "James Whitacre is Chief of the GIS Services Division of the Pennsylvania Game Commission where he leads, manages, and provides vision for the Agency’s geospatial and mapping program. Formerly, he was the GIS Research Scientist for the Carnegie Museum of Natural History where he managed the GIS Lab at Powdermill Nature Reserve, the Museum’s environmental research center, and supported museum staff and affiliated researchers with geospatial technologies and needs. Whitacre was also the GIS Manager from 2011 to 2014 at the Museum. Before returning to the Museum in 2018, Whitacre was the GIS Specialist for the Main Library at the University of Illinois at Urbana-Champaign where he provided GIS consultations for researchers and scholars, and taught GIS workshops to promote the use of GIS in research. Whitacre holds a Bachelor of Arts in Zoology from Ohio Wesleyan University and a Master of Science in Geography, concentrating on GIS and cartography, from Indiana University of Pennsylvania. Whitacre is past board member and Past President of Keystone GIS (formerly PaMAGIC)."
   ]
  },
  {
   "cell_type": "markdown",
   "metadata": {},
   "source": [
    "<img style=\"float: right; padding: 20px\" alt=\"Image of Emily Clees\" src=\"https://github.com/whitacrej/Python-for-ArcGIS/blob/main/Notebooks/Images/EmilyClees.jpg?raw=true\" width=\"300\" height=\"300\" />\n",
    "\n",
    "\n",
    "### Emily Clees\n",
    "\n",
    "**Geospatial Specialist II, Northcentral Region, GIS Services Division | Pennsylvania Game Commission**\n",
    "\n",
    "eclees@pa.gov\n",
    "\n",
    "Emily Clees is a Geospatial Specialist II for the Northcentral Region of the Pennsylvania Game Commission where she completes quality control checks on collected data, runs analysis for regional and state-wide projects, and creates tools to help visualize data collected in the Pennsylvania Game Commission. Prior to her role as a Geospatial Specialist, she received a Bachelor of Science in Environmental Resource Management with a minor in GIS and a Master of Science in Forest Resources from Penn State. Emily also received a GIS certificate from Penn State World Campus."
   ]
  },
  {
   "cell_type": "markdown",
   "metadata": {},
   "source": [
    "## Welcome (Back) to Python Bootcamp!"
   ]
  },
  {
   "cell_type": "markdown",
   "metadata": {},
   "source": [
    "<img style=\"float: right; padding: 20px\" alt=\"Boot Camp\" src=\"http://clipart-library.com/image_gallery/11714.jpg\" width=\"300\" />\n",
    "\n",
    "* That is what this will feel like!! And that is what is intended!\n",
    "* Lots of information in a short amount of time...your brain will hurt!\n",
    "* You may feel lost at first...practice and perseverance will help (I will try to go slow!)\n",
    "* Have patience...it will take time for it all to settle into your head...and heart!"
   ]
  },
  {
   "cell_type": "markdown",
   "metadata": {},
   "source": [
    "## Philosophy Over Practice"
   ]
  },
  {
   "cell_type": "markdown",
   "metadata": {},
   "source": [
    "* I am not a traditional Python developer...my journey comes only through GIS\n",
    "* I will be presenting a philosophy of how to approach Python in ArcGIS\n",
    "* The focus will be on:\n",
    "    * Foundational principles\n",
    "    * Methods for how to systematically approach a project that would benefit from Python\n",
    "* There will be some practice today, but it will be minimal\n",
    "* Practice will be on YOU after the workshop!!! You will only get better if you dive in and start implementing Python in your everyday work.\n",
    "\n",
    "<p style=\"text-align: center; font-size: x-large; font-weight: bold; line-height: 1.25;\">Why do I teach Python?<br>Because of <a href=\"https://www.volvobuses.com/en/news/2019/jul/the-three-point-seat-belt-an-innovation-that-saved-over-1-million-lives.html\" target=\"_blank\">Volvo and Seatbelts</a>!</p>"
   ]
  },
  {
   "cell_type": "markdown",
   "metadata": {},
   "source": [
    "# II. Data and Software\n",
    "---\n",
    "[**Top**](#Outline)"
   ]
  },
  {
   "cell_type": "markdown",
   "metadata": {},
   "source": [
    "## Downloads\n",
    "[**Top**](#Outline)"
   ]
  },
  {
   "cell_type": "markdown",
   "metadata": {},
   "source": [
    "* Go to repo at **https://github.com/whitacrej/Python-For-ArcGIS**\n",
    "* Click **Code** then click **Download Zip**\n",
    "* **Extract** zip file to your Desktop or other well-known folder"
   ]
  },
  {
   "cell_type": "markdown",
   "metadata": {},
   "source": [
    "## ArcGIS Pro\n",
    "[**Top**](#Outline)"
   ]
  },
  {
   "cell_type": "markdown",
   "metadata": {},
   "source": [
    "* Recommended to use latest version 3.4+ or 2.9+\n",
    "* Minimum version of 2.7+ required\n",
    "\n",
    "**See [ArcGIS Pro Documentation](https://www.esri.com/en-us/arcgis/products/arcgis-pro/resources)**"
   ]
  },
  {
   "cell_type": "markdown",
   "metadata": {},
   "source": [
    "### ArcGIS Pro vs. ArcMap"
   ]
  },
  {
   "cell_type": "markdown",
   "metadata": {},
   "source": [
    "* Stop using ArcMap! Seriously...it's time! ArcMap is currently in mature support and is being retired March 2026 (see [ArcMap Life Cycle](https://support.esri.com/en-us/products/arcmap/life-cycle))\n",
    "* Oh, you HAVE to use it? Stop...but...\n",
    "    * Nearly everything in this workshop still applies!!!\n",
    "    * Except:\n",
    "        * ArcMap does not use ArcGIS Notebooks...Use a code editor or the Python Window instead\n",
    "        * ArcMap uses Python 2, which is being deprecated...just like ArcMap!\n",
    "        * I'll point out a few other things that are different along the way...\n",
    "* No, sorry, I don't have time to address every ArcMap concern...stop using it..."
   ]
  },
  {
   "cell_type": "markdown",
   "metadata": {},
   "source": [
    "## ArcGIS Notebooks\n",
    "[**Top**](#Outline)"
   ]
  },
  {
   "cell_type": "markdown",
   "metadata": {},
   "source": [
    "* Built on top of **[Jupyter Notebook](https://jupyter.org/)**\n",
    "* Included and integrated with ArcGIS Pro (starting at version 2.5)\n",
    "* Optimized for ArcGIS Pro and Python 3\n",
    "* Used to easily and quickly write and run code directly in ArcGIS Pro\n",
    "\n",
    "\n",
    "### Python in ArcGIS Notebooks\n",
    "\n",
    "* Can perform analysis and immediately view results in a geographic context, interact with the emerging data, document and automate your workflow, and save it for later use or share it\n",
    "* ALL Python functionality in ArcGIS Pro is available through ArcGIS Notebooks\n",
    "* Provides access to content in your map allowing for interactive workflows\n",
    "\n",
    "\n",
    "### Markdown and HTML in ArcGIS Notebooks\n",
    "\n",
    "* ArcGIS Notebooks utilize Markdown and HTML markup languages to format Markdown cells in a Notebook\n",
    "* Markdown:\n",
    "    * Lightweight markup language that you can use to add formatting elements to plaintext text documents\n",
    "    * One of the world’s most popular markup languages\n",
    "    * Markdown syntax is added to text to indicate which words and phrases should look different\n",
    "* HTML:\n",
    "    * Stands for Hyper Text Markup Language\n",
    "    * The standard markup language for creating Web pages\n",
    "    * Describes the structure of a Web page and tell the browser how to display the content\n",
    "* This Notebook uses Markdown and HTML **EXTENSIVLEY** to make it look the way it does!\n",
    "* We will not go over Markdown in detail, but will a little bit\n",
    "\n",
    "\n",
    "**See:**\n",
    "* **[ArcGIS Notebooks Get Started](https://pro.arcgis.com/en/pro-app/arcpy/get-started/pro-notebooks.htm)**\n",
    "* **[The Markdown Guide](https://www.markdownguide.org/)**\n",
    "* **[W3 Schools HTML Tutorial](https://www.w3schools.com/html/html_intro.asp)**"
   ]
  },
  {
   "cell_type": "markdown",
   "metadata": {},
   "source": [
    "### Create a new ArcGIS Notebook"
   ]
  },
  {
   "cell_type": "markdown",
   "metadata": {},
   "source": [
    "<img style=\"float: right; padding: 20px\" alt=\"ArcGIS Notebook\" width=\"539px\" src=\"https://pro.arcgis.com/en/pro-app/latest/arcpy/get-started/GUID-A23406B5-1690-4694-AC77-6A18D3E8F18C-web.png\" />\n",
    "\n",
    "* Click the **Insert** tab, and click the **New Notebook** dropdown, and click <img style=\"display: inline-block; vertical-align: bottom;\" alt=\"New Notebook\" title=\"New Notebook\" src=\"https://pro.arcgis.com/en/pro-app/latest/arcpy/get-started/GUID-81D9C66A-5C7F-49D4-9F62-0CDDD212114F-web.png\" width=\"20\"> **New Notebook**\n",
    "* In the **Catalog Pane**, **right-click on the folder** where you want to create it, click **New** (at the top), the click <img style=\"display: inline-block; vertical-align: bottom;\" alt=\"New Notebook\" title=\"New Notebook\" src=\"https://pro.arcgis.com/en/pro-app/arcpy/get-started/GUID-81D9C66A-5C7F-49D4-9F62-0CDDD212114F-web.png\" width=\"20\"> **Notebook**\n",
    "\n",
    "#### **We will be using ArcGIS Notebooks for nearly all our coding int he workshop!!!**\n",
    "#### **I will go over tips and tricks as we go!**"
   ]
  },
  {
   "cell_type": "markdown",
   "metadata": {},
   "source": [
    "## Code Editors\n",
    "[**Top**](#Outline)"
   ]
  },
  {
   "cell_type": "markdown",
   "metadata": {},
   "source": [
    "### Visual Studio Code (or VS Code for short)"
   ]
  },
  {
   "cell_type": "markdown",
   "metadata": {},
   "source": [
    "<img style=\"float: right; padding: 20px\" alt=\"Visual Studio Code Screenshot\" width=\"75%\" src=\"https://code.visualstudio.com/assets/home/home-screenshot-win-lg.png\" />\n",
    "\n",
    "* Great all purpose code and text editor...an essential application for coding in numerous languages!\n",
    "* Lightweight but powerful desktop source code editor\n",
    "* Available for Windows, macOS and Linux\n",
    "* Comes with built-in support for JavaScript, TypeScript and Node.js\n",
    "* Rich ecosystem of extensions for other languages (such as C++, C#, Java, **Python**, PHP, Go) and runtimes (such as .NET and Unity).\n",
    "* Requires some application savvy-ness to unleash full potential\n",
    "*Requires special setup for use with ArcGIS Pro...but it is easy!\n",
    "\n",
    "\n",
    "**Download [Visual Studio Code](https://code.visualstudio.com/)**\n",
    "\n",
    "\n",
    "**See:**\n",
    "* **[Getting Started with Python in VS Code](https://code.visualstudio.com/docs/python/python-tutorial)**\n",
    "* **[How to configure Visual Studio Code with ArcGIS Pro’s Python Environment](https://resources.esri.ca/getting-technical/how-to-configure-visual-studio-code-with-arcgis-pro-s-python-environment)**\n",
    "\n",
    "<p style=\"text-align: center; font-size: x-large; font-weight: bold; line-height: 1.25;\">This is my favorite code editor!!!</p>"
   ]
  },
  {
   "cell_type": "markdown",
   "metadata": {},
   "source": [
    "###  PyCharm (Community Edition)"
   ]
  },
  {
   "cell_type": "markdown",
   "metadata": {},
   "source": [
    "<img style=\"float: right; padding: 20px\" alt=\"PyCharm Screenshot\" width=\"75%\" src=\"https://resources.jetbrains.com/help/img/idea/2022.3/py_mainWindow.png\" />\n",
    "\n",
    "* Good for all around Python 3 development\n",
    "* Can be installed without admin rights\n",
    "* Easily run code in the application, but requires some setup\n",
    "\n",
    "**Download [PyCharm](https://www.jetbrains.com/pycharm/)**\n",
    "\n",
    "\n",
    "**See:**\n",
    "* **[PyCharm Setup for ArcGIS Desktop](https://community.esri.com/t5/python-documents/pycharm-setup-for-arcgis-desktop/ta-p/1125129)**\n",
    "* **[Configuring PyCharm for use with ArcGIS Pro (and ArcMap)](https://epjmorris.wordpress.com/2020/09/16/configuring-pycharm-for-use-with-arcgis-pro-and-arcmap/)**\n",
    "\n"
   ]
  },
  {
   "cell_type": "markdown",
   "metadata": {},
   "source": [
    "###  Notepad++"
   ]
  },
  {
   "cell_type": "markdown",
   "metadata": {},
   "source": [
    "<img style=\"float: right; padding: 20px\" alt=\"Notepad++ Screenshot\" src=\"https://notepad-plus-plus.org/assets/images/notepad4ever.gif\" />\n",
    "\n",
    "* Great all purpose text editor for Windows\n",
    "* Free (as in “free speech” and also as in “free beer”) source code editor and Notepad\n",
    "* Comes with built-in support for JavaScript, TypeScript and Node.js\n",
    "* Rich ecosystem of extensions for other languages (such as C++, C#, Java, **Python**, PHP, Go) and runtimes (such as .NET and Unity).\n",
    "* Highlights Python syntax so can be used to develop Python scripts\n",
    "* Not very easy to run code in the application\n",
    "\n",
    "\n",
    "**Download [Notepad++](https://notepad-plus-plus.org/downloads/)**\n",
    "\n",
    "\n",
    "**Note sure how to set it up for use in ArcGIS Pro**"
   ]
  },
  {
   "cell_type": "markdown",
   "metadata": {},
   "source": [
    "# III. *Python for ArcGIS Introduction* Quick Review\n",
    "---\n",
    "[**Top**](#Outline)"
   ]
  },
  {
   "cell_type": "markdown",
   "metadata": {},
   "source": [
    "**Review of minimal skills needed for those who didn't attend first session**\n",
    "\n",
    "### Python Basics\n",
    "\n",
    "* What is Python?\n",
    "* Print Function\n",
    "* Variables \n",
    "* Basic Data Types: Strings, Numbers, Booleans, Lists, Tuples, Dictionaries\n",
    "* Data Type Conversions\n",
    "* Simple Math with Python\n",
    "* Python Syntax and Style\n",
    "* Conditional Statements and Decision Making\n",
    "* Loops\n",
    "* Functions\n",
    "* Classes and Methods\n",
    "\n",
    "\n",
    "### Calculate Fields Using Python\n",
    "\n",
    "### Introduction to ArcPy\n",
    "\n",
    "* What is ArcPy?\n",
    "* Modules vs. Site Packages\n",
    "* `import` Statements\n",
    "* ArcPy Help Documentation\n",
    "\n",
    "### Using ArcPy\n",
    "\n",
    "* Describing Data\n",
    "    * System Paths vs. Catalog paths\n",
    "    * Formatting Strings\n",
    "* Listing Data\n",
    "    * Geoprocessing Environment Settings\n",
    "    * List Comprehensions\n",
    "* Geoprocessing Tools"
   ]
  },
  {
   "cell_type": "markdown",
   "metadata": {},
   "source": [
    "# IV. Working with Files in Python\n",
    "---\n",
    "[**Top**](#Outline)"
   ]
  },
  {
   "cell_type": "markdown",
   "metadata": {},
   "source": [
    "## Reading Files with Python\n",
    "[**Top**](#Outline)"
   ]
  },
  {
   "cell_type": "markdown",
   "metadata": {},
   "source": [
    "* When files are read with Python, files need to be stored as a variable \n",
    "* There are two methods of opening a file: \n",
    "    * **`open(file_name, access_mode)`** and **`.close()`**\n",
    "        * This method requires you to close the file\n",
    "    * **`with open(file_name, access_mode) as file:` *code indented below...***\n",
    "        * This method closes the file automatically\n",
    "* We will go over both, but will work with the **`with`** statement the most\n",
    "\n",
    "For more commands and options see:\n",
    "* **[Python Documentation: Reading and Writing Files](https://docs.python.org/3/tutorial/inputoutput.html#reading-and-writing-files)**\n",
    "* **[Tutorials Point: Python - File Handling](https://www.tutorialspoint.com/python/python_file_handling.htm)**\n",
    "\n",
    "**In both cases, start with the file path as a string variable.**"
   ]
  },
  {
   "cell_type": "code",
   "execution_count": 1,
   "metadata": {
    "scrolled": true
   },
   "outputs": [
    {
     "name": "stdout",
     "output_type": "stream",
     "text": [
      "C:\\Users\\james\\Documents\\GitHub\\Python-for-ArcGIS\n"
     ]
    }
   ],
   "source": [
    "# Get the ArcGIS Project Home (i.e. Default) folder path\n",
    "# See: ArcPy Help: ArcGISProject Class Documentation: https://pro.arcgis.com/en/pro-app/latest/arcpy/mapping/arcgisproject-class.htm\n",
    "\n",
    "import arcpy\n",
    "\n",
    "aprx = arcpy.mp.ArcGISProject('CURRENT')\n",
    "\n",
    "aprx_folder = aprx.homeFolder\n",
    "\n",
    "print(aprx_folder) # Check to ensure the folder is correct"
   ]
  },
  {
   "cell_type": "code",
   "execution_count": 2,
   "metadata": {},
   "outputs": [
    {
     "name": "stdout",
     "output_type": "stream",
     "text": [
      "C:\\Users\\james\\Documents\\GitHub\\Python-for-ArcGIS\\CSV\\JeopardyContestants_LatLon.csv\n"
     ]
    }
   ],
   "source": [
    "# Get the file name for the CSV file\n",
    "# Tip: Copy Path in Catalog Pane\n",
    "\n",
    "csv_file =  fr'{aprx_folder}\\CSV\\JeopardyContestants_LatLon.csv' # f = format string; r = raw string\n",
    "\n",
    "print(csv_file)"
   ]
  },
  {
   "cell_type": "markdown",
   "metadata": {},
   "source": [
    "**Now we need to make our file object/variable. We will print the result to see what it looks like**"
   ]
  },
  {
   "cell_type": "code",
   "execution_count": null,
   "metadata": {},
   "outputs": [],
   "source": [
    "# Open the CSV file\n",
    "f = open(csv_file, 'r') # 'r' is the access_mode\n",
    "\n",
    "print(f.closed)"
   ]
  },
  {
   "cell_type": "markdown",
   "metadata": {},
   "source": [
    "**Notice that it is indicating that the file (i.e. the object) is open**\n",
    "\n",
    "### File Access Modes\n",
    "\n",
    "| Modes | Description |\n",
    "|:---:|:--- |\n",
    "| r | Opens a file for reading only. The file pointer is placed at the beginning of the file. This is the default mode. |\n",
    "| rb | Opens a file for reading only in binary format. The file pointer is placed at the beginning of the file. This is the default mode. |\n",
    "| r+ | Opens a file for both reading and writing. The file pointer placed at the beginning of the file. |\n",
    "| rb+ | Opens a file for both reading and writing in binary format. The file pointer placed at the beginning of the file. |\n",
    "| w | Opens a file for writing only. Overwrites the file if the file exists. If the file does not exist, creates a new file for writing. |\n",
    "| wb | Opens a file for writing only in binary format. Overwrites the file if the file exists. If the file does not exist, creates a new file for writing. |\n",
    " |w+ | Opens a file for both writing and reading. Overwrites the existing file if the file exists. If the file does not exist, creates a new file for reading and writing. |\n",
    "| wb+ | Opens a file for both writing and reading in binary format. Overwrites the existing file if the file exists. If the file does not exist, creates a new file for reading and writing. |\n",
    "| a | Opens a file for appending. The file pointer is at the end of the file if the file exists. That is, the file is in the append mode. If the file does not exist, it creates a new file for writing. |\n",
    "| ab | Opens a file for appending in binary format. The file pointer is at the end of the file if the file exists. That is, the file is in the append mode. If the file does not exist, it creates a new file for writing. |\n",
    "| a+ | Opens a file for both appending and reading. The file pointer is at the end of the file if the file exists. The file opens in the append mode. If the file does not exist, it creates a new file for reading and writing. |\n",
    "| ab+ | Opens a file for both appending and reading in binary format. The file pointer is at the end of the file if the file exists. The file opens in the append mode. If the file does not exist, it creates a new file for reading and writing. |\n",
    "\n",
    "\n",
    "* **[Tutorials Point: Python - File Handling](https://www.tutorialspoint.com/python/python_file_handling.htm)**\n",
    "\n",
    "\n",
    "**Now we can read in the file. We can see the raw text values using a `print()` statement**"
   ]
  },
  {
   "cell_type": "code",
   "execution_count": null,
   "metadata": {},
   "outputs": [],
   "source": [
    "# Get the CSV file text data\n",
    "data = f.read()\n",
    "\n",
    "print(data)"
   ]
  },
  {
   "cell_type": "code",
   "execution_count": null,
   "metadata": {},
   "outputs": [],
   "source": [
    "# Get the data type of the file data\n",
    "print(type(data))"
   ]
  },
  {
   "cell_type": "code",
   "execution_count": null,
   "metadata": {},
   "outputs": [],
   "source": [
    "# Close the file\n",
    "\n",
    "f.close()\n",
    "\n",
    "print(f.closed)"
   ]
  },
  {
   "cell_type": "markdown",
   "metadata": {},
   "source": [
    "### Reading Lines in a File\n",
    "\n",
    "* Many ways to read files, and well worth some investigation time...but not today!\n",
    "* There is a better, very common method to read a file line by line: **`.readlines()`**\n",
    "\n",
    "**This time, we will use the `with` statement**\n"
   ]
  },
  {
   "cell_type": "code",
   "execution_count": null,
   "metadata": {},
   "outputs": [],
   "source": [
    "with open(csv_file, 'r') as f:\n",
    "    data = f.readlines()\n",
    "\n",
    "# Check if the file open or closed\n",
    "print(f.closed)\n"
   ]
  },
  {
   "cell_type": "code",
   "execution_count": null,
   "metadata": {},
   "outputs": [],
   "source": [
    "# Print the data\n",
    "print(data)"
   ]
  },
  {
   "cell_type": "markdown",
   "metadata": {},
   "source": [
    "**What type of data does the `.readline()` method produce?**\n",
    "\n",
    "**Is the output very readable?**\n",
    "\n",
    "**Let's make it more readable using a `for` statement**"
   ]
  },
  {
   "cell_type": "code",
   "execution_count": null,
   "metadata": {
    "scrolled": true
   },
   "outputs": [],
   "source": [
    "for line in data:\n",
    "    print(line)"
   ]
  },
  {
   "cell_type": "markdown",
   "metadata": {},
   "source": [
    "**Check out those extra blank lines. This can be an artifact from coming in from Excel.**\n",
    "\n",
    "**We can use `.strip()` string method to clean things up. This function cleans off any white space characters from both the left and the right of a line of text.**\n",
    "\n",
    "**There are also `.rstrip()` and `.lstrip()` methods in case those would be useful.**"
   ]
  },
  {
   "cell_type": "code",
   "execution_count": null,
   "metadata": {},
   "outputs": [],
   "source": [
    "for line in data:\n",
    "    print(line.strip())"
   ]
  },
  {
   "cell_type": "markdown",
   "metadata": {},
   "source": [
    "## `csv` Module\n",
    "[**Top**](#Outline)"
   ]
  },
  {
   "cell_type": "markdown",
   "metadata": {},
   "source": [
    "### What is the CSV module?\n",
    "\n",
    "* **`csv`** module knows what a CSV is, how the text should behave or look, and how it should be sanitized, etc.\n",
    "* It brings in helper functions for working with CSV files to help the programmer save time\n",
    "* When opening a CSV file, the **`csv`** module is imported using the **`import csv`** statement\n",
    "* After **`import csv`**, we can now call the **`csv`** module functions by appending them to **`csv.`**.\n",
    "* **`csv`** module is included in when ArcGIS is installed\n",
    "* You ***can*** program this all yourself starting with the code we just ran...but you don't want to (trust me!). Use the CSV module!\n",
    "\n",
    "## Two core functions:\n",
    "\n",
    "* **`csv.reader(file_object)`** to create a reading object\n",
    "* **`csv.writer(file_object)`** to create a writing object.\n",
    "\n",
    "## To write files, use these two functions:\n",
    "\n",
    "* **`writerow(row)`** to write a single row\n",
    "* **`writerows(list_of_lists)`** to write many rows\n",
    "\n",
    "**See [Python Documentation: CSV File Reading and Writing](https://docs.python.org/3/library/csv.html)**"
   ]
  },
  {
   "cell_type": "code",
   "execution_count": null,
   "metadata": {},
   "outputs": [],
   "source": [
    "import csv\n",
    "\n",
    "# Open the File\n",
    "with open(csv_file, 'r') as file_in:\n",
    "    \n",
    "    # Check the file type prior to CSV module\n",
    "    print(type(file_in))\n",
    "    \n",
    "    # Read the file using the csv module reader\n",
    "    file_in = csv.reader(file_in)\n",
    "    \n",
    "    # Check the file type after CSV module\n",
    "    print(type(file_in))\n",
    "        \n",
    "    # Read the first line to store the headers as a list\n",
    "    headers = next(file_in) # The next() method reads the line as a list and moves to the next line of the csv file\n",
    "    \n",
    "    # Create an empty list to store the data\n",
    "    data = []\n",
    "    \n",
    "    # Loop through the remaining lines and append each line as a list element to the data list\n",
    "    for line in file_in:\n",
    "        data.append(line)"
   ]
  },
  {
   "cell_type": "code",
   "execution_count": null,
   "metadata": {},
   "outputs": [],
   "source": [
    "# Print the headers and data\n",
    "# What are the data types?\n",
    "print('Headers: {}'.format(headers))\n",
    "\n",
    "print('Data: {}'.format(data))"
   ]
  },
  {
   "cell_type": "code",
   "execution_count": null,
   "metadata": {},
   "outputs": [],
   "source": [
    "# Print each line in the CSV file \n",
    "for line in data:\n",
    "    print(line)"
   ]
  },
  {
   "cell_type": "markdown",
   "metadata": {},
   "source": [
    "**Now this looks like something we can start working with...**\n",
    "\n",
    "**Each row is a list, with each table cell value as an element within the list.**\n",
    "\n",
    "**What do you notice about the data type of each value in the list?**\n",
    "\n",
    "**Let's do some quick sanity checking...**"
   ]
  },
  {
   "cell_type": "code",
   "execution_count": null,
   "metadata": {},
   "outputs": [],
   "source": [
    "# Does each row contain the same number of elements (i.e. table columns)\n",
    "for row in data:\n",
    "    print(len(row))"
   ]
  },
  {
   "cell_type": "markdown",
   "metadata": {},
   "source": [
    "**Is each row the same length?**\n",
    "\n",
    "**If it looks good, we can now loop through and get all the contestant names...**\n"
   ]
  },
  {
   "cell_type": "code",
   "execution_count": null,
   "metadata": {},
   "outputs": [],
   "source": [
    "for row in data:\n",
    "    print(row[1])"
   ]
  },
  {
   "cell_type": "markdown",
   "metadata": {},
   "source": [
    "**There are many ways to get at the data from a CSV file. What I've shown here is one of the simplest possible ways. There are more advanced methods for more complex data.**\n",
    "\n",
    "**We will cover writing CSV files in a little bit...promise!**"
   ]
  },
  {
   "cell_type": "markdown",
   "metadata": {},
   "source": [
    "# V. Creating Scripts with Python\n",
    "---\n",
    "[**Top**](#Outline)"
   ]
  },
  {
   "cell_type": "markdown",
   "metadata": {},
   "source": [
    "## What is a Script?\n",
    "[**Top**](#Outline)"
   ]
  },
  {
   "cell_type": "markdown",
   "metadata": {},
   "source": [
    "* A script is a file of part of file containing multiple lines of code that is intended to run that code directly.\n",
    "* Can be ran independently (e.g., command prompt) or in another application that can run code (e.g., ArcGIS Pro or Python Notebooks).\n",
    "* In Python, the file is a '.py' file or ran in a Python Notebook (or other similar file for other applications)\n",
    "* In ArcGIS, we generally distinguish between standalone scripts and custom script tools...we will cover both!\n",
    "\n",
    "### Why Create Scripts?\n",
    "\n",
    "1. Scripts inherently document workflows and data transformations in a consistent and standard way...No more wondering what you did a year ago to create that ALL-IMPORTANT dataset!!\n",
    "2. Scripts can be designed to be repeatable and replicable for when the workflow may work on other files or datasets or when there are updates to data or files\n",
    "3. Scripts encourage you to think critically and efficiently about your workflows...this makes you a better GIS professional and data manager!\n",
    "4. Scripts save time and ROI in the long run! Not in the short run though...we'll talk about that later!"
   ]
  },
  {
   "cell_type": "markdown",
   "metadata": {},
   "source": [
    "## Planning a Script\n",
    "[**Top**](#Outline)"
   ]
  },
  {
   "cell_type": "markdown",
   "metadata": {},
   "source": [
    "* Very important step in the process of coding!\n",
    "* Requires you to think critically about the workflow and how you will organize your script\n",
    "* Always recommended to write pseudo code as a starting point\n",
    "\n",
    "\n",
    "### What is Pseudo Code?\n",
    "\n",
    "* A plain-language explanation or outline of the script workflow\n",
    "* Helps to organize and plan the script workflow\n",
    "* Allows others reading the code to understand more clearly what is being done\n",
    "* Can be written directly in the code using comments (i.e., '#')\n",
    "\n",
    "\n",
    "#### Note: I am teaching you just one of many methodologies...\n",
    "* You can modify this as much as you want\n",
    "* Find a structure that works for you\n",
    "* Keep it simple"
   ]
  },
  {
   "cell_type": "markdown",
   "metadata": {},
   "source": [
    "### Scenario:\n",
    "\n",
    ">Many of your GIS workflows require creating an Excel file of feature classes and standalone tables as a final standalone file to share with your colleagues. The ArcGIS **[Table to Excel](https://pro.arcgis.com/en/pro-app/latest/tool-reference/conversion/table-to-excel.htm)** tool has been working great! But, you recently learned that your colleagues have been deleting unnecessary fields and exporting the Excel files to CSV and they would like to eliminate these steps from their workflow. Therefore, they have asked you to deliver files as CSV files without the unnecessary fields.\n",
    "\n",
    ">Existing ArcGIS tools don't ***easily*** allow for selecting a subset of fields to be exported. Therefore, you would like to create a custom script to make this task easier. So, you decide to create a standalone script...\n",
    "\n",
    "\n",
    "### This is a great example for when a simple standalone script can solve a simple workflow that needs to be completed often\n"
   ]
  },
  {
   "cell_type": "markdown",
   "metadata": {},
   "source": [
    "### General Components of a Standalone Script for ArcGIS\n",
    "\n",
    "#### Let's review the template script below...\n",
    "\n",
    "Note: I have provided template files for ArcGIS Notebooks and an ArcGIS Custom Script Tools"
   ]
  },
  {
   "cell_type": "code",
   "execution_count": null,
   "metadata": {},
   "outputs": [],
   "source": [
    "# -*- coding: UTF-8 -*-\n",
    "\n",
    "''' Metadata, Copyright, License:\n",
    "------------------------------------------------------------------------\n",
    "Name:       <FileName>.py\n",
    "Purpose:    <Purpose>\n",
    "Author:     <Name, Your>\n",
    "Created:    <YYYY/MM/DD>\n",
    "Copyright:  Copyright <YYYY> <Your Name or Organization>\n",
    "License:    <License text>\n",
    "------------------------------------------------------------------------\n",
    "'''\n",
    "\n",
    "''' Import Modules '''\n",
    "# arcpy and other modules needed to complete your code\n",
    "\n",
    "''' Functions '''\n",
    "# Any reusable functions\n",
    "\n",
    "''' Parameters '''\n",
    "# Inputs and outputs that may change each time the code is run\n",
    "\n",
    "''' Script '''\n",
    "\n",
    "# Environments\n",
    "    # Gets the house in order for how data and outputs will be dealt with\n",
    "    # These may also be dispersed contextually throughout the script\n",
    "\n",
    "# Variables\n",
    "    # Anything that is not a parameter that may be used multiple times\n",
    "    # These may also be dispersed contextually throughout the script\n",
    "\n",
    "# Processes\n",
    "    # The code that dictates the workflow\n"
   ]
  },
  {
   "cell_type": "markdown",
   "metadata": {},
   "source": [
    "### Create Pseudo Code\n",
    "[**Top**](#Outline)"
   ]
  },
  {
   "cell_type": "markdown",
   "metadata": {},
   "source": [
    "#### 1. Create a copy of the ArcGIS Notebook Template\n",
    "\n",
    "* Copy it to the **Notebooks** folder\n",
    "* Name it **Convert_Table_to_CSV.ipynb**\n",
    "* Review the ArcGIS Notebook Template\n",
    "\n",
    "#### 2. Update the Metadata, Copyright, License section as below"
   ]
  },
  {
   "cell_type": "code",
   "execution_count": null,
   "metadata": {},
   "outputs": [],
   "source": [
    "# -*- coding: UTF-8 -*-\n",
    "\n",
    "''' Metadata, Copyright, License: \n",
    "------------------------------------------------------------------------\n",
    "Name:       Convert_Table_to_CSV.ipynb\n",
    "Purpose:    This script converts a table to a CSV table with selected\n",
    "            fields.\n",
    "Author:     Whitacre, James\n",
    "Created:    2024/04/10\n",
    "Version:    0.0.1\n",
    "Copyright:  Copyright <YYYY> <Your Name or Organization>\n",
    "License:    Licensed under the Apache License, Version 2.0 (the\n",
    "            \"License\"); you may not use this file except in compliance\n",
    "            with the License. You may obtain a copy of the License at\n",
    "            http://www.apache.org/licenses/LICENSE-2.0\n",
    "            Unless required by applicable law or agreed to in writing,\n",
    "            software distributed under the License is distributed on an\n",
    "            \"AS IS\" BASIS, WITHOUT WARRANTIES OR CONDITIONS OF ANY KIND,\n",
    "            either express or implied. See the License for the specific\n",
    "            language governing permissions and limitations under the\n",
    "            License.\n",
    "------------------------------------------------------------------------\n",
    "'''"
   ]
  },
  {
   "cell_type": "markdown",
   "metadata": {},
   "source": [
    "#### 3. Record the steps needed to create the script (i.e., the pseudo code in plain language)\n",
    "\n",
    "* Think like a computer (remember, coding is a new way of thinking, like a foreign language)\n",
    "* Not all steps may be known at first...that is ok! This is an iterative process\n",
    "* The original order you expected may change or need modified...that is ok too!\n",
    "* Think about how the `csv` module read CSV files \n",
    "\n",
    "\n",
    "#### Human-readable Pseudo Code:\n",
    "\n",
    "1. Input a feature class or standalone table\n",
    "2. Identify list of field names to be exported\n",
    "3. Read the feature class or standalone table data\n",
    "4. Create an output CSV file\n",
    "5. Open the output CSV file\n",
    "6. Write the field names to the new CSV file\n",
    "7. Write the feature class or standalone table data to the new CSV file"
   ]
  },
  {
   "cell_type": "markdown",
   "metadata": {},
   "source": [
    "#### 4. Identify which pseudo code elements should be parameters\n",
    "\n",
    "* *Hint: Which steps require user input or may be changed each time the code is ran? We will cover this in more detail soon!*\n",
    "\n",
    "\n",
    "**Add the pseudo code below to the in the `''' Parameters '''` and `''' Script '''` sections of the Notebook**"
   ]
  },
  {
   "cell_type": "code",
   "execution_count": null,
   "metadata": {},
   "outputs": [],
   "source": [
    "''' Parameters '''\n",
    "# Input feature class or standalone table\n",
    "\n",
    "# Identify list of field names to be exported\n",
    "\n",
    "# Output CSV file path and name"
   ]
  },
  {
   "cell_type": "code",
   "execution_count": null,
   "metadata": {},
   "outputs": [],
   "source": [
    "''' Script '''\n",
    "# Read the feature class or standalone table data\n",
    "\n",
    "# Create and open the output CSV file\n",
    "\n",
    "# Write the field names to the new CSV file\n",
    "\n",
    "# Write the feature class or standalone table data to the new CSV file"
   ]
  },
  {
   "cell_type": "markdown",
   "metadata": {},
   "source": [
    "#### 5. What Python modules are needed?\n",
    "\n",
    "* Are there already some Python modules available to help write this code more efficiently?\n",
    "* This is dependent on the processes and you may not know right away that there is (which is ok)\n",
    "* Remember, there are many more modules out there! We cannot go over all of them...\n",
    "\n",
    "\n",
    "* `arcpy` is required if we are working with ArcGIS\n",
    "* Reading or writing  a CSV? Yes!...Then also want to import the `csv` module\n",
    "\n",
    "\n",
    "**Add the following `import` statements and parameter variables to your script in the `''' Import Modules '''` section**"
   ]
  },
  {
   "cell_type": "code",
   "execution_count": null,
   "metadata": {},
   "outputs": [],
   "source": [
    "''' Import Modules '''\n",
    "import arcpy\n",
    "import csv\n"
   ]
  },
  {
   "cell_type": "markdown",
   "metadata": {},
   "source": [
    "## Develop the Script\n",
    "[**Top**](#Outline)"
   ]
  },
  {
   "cell_type": "markdown",
   "metadata": {},
   "source": [
    "### Make it Work, Make it Pretty, Make it Fast\n",
    "\n",
    "* When developing code, prioritize development in this order\n",
    "* When starting out, shoot for making scripts work first!\n",
    "* When it works, go back to ensure the code is readable and well documented (i.e., pretty!)\n",
    "* If needed, try to make the code more efficient to work faster. This is not always needed...\n",
    "\n",
    "\n",
    "### 1. Create input and output parameters\n",
    "\n",
    "* Think about this like an ArcGIS tool...\n",
    "* What variables will change every time the script is run?\n",
    "* Typically these are paths or other values that may be dynamic\n",
    "* What is the path to the feature class we want to read? \n",
    "* If the script requires this from the user, it should be a parameter\n",
    "    \n",
    "\n",
    "**Add the following parameter variables to your script in the `''' Parameters '''` section**\n",
    "\n",
    "**Don't Forget to update paths! Use 'Copy Path' (ArcGIS Pro 3.x)...\n",
    "\n",
    "\n",
    "* Which parameters are inputs vs. outputs?\n",
    "* What are the data types of each variable?\n"
   ]
  },
  {
   "cell_type": "code",
   "execution_count": null,
   "metadata": {},
   "outputs": [],
   "source": [
    "''' Parameters '''\n",
    "\n",
    "# Input feature class or standalone table\n",
    "input_table = arcpy.management.MakeFeatureLayer('https://services2.arcgis.com/eQgAMgHr2CRobt2r/arcgis/rest/services/UnconventionalWellsPA/FeatureServer/0',\n",
    "                                                'Unconventional Wells')\n",
    "\n",
    "# Identify list of field names to be exported\n",
    "field_names = ['Shape', 'PERMIT_NO', 'FARM_NAME', 'COUNTY', 'PROD_GAS_QUANT']\n",
    "\n",
    "# Output CSV file path and name\n",
    "output_csv = r'{Copy Home folder Path here...}\\CSV\\UnconventionalWells.csv'\n"
   ]
  },
  {
   "cell_type": "markdown",
   "metadata": {},
   "source": [
    "### 2. Include any ArcGIS Environments and Variables\n",
    "\n",
    "* These items may or may not be needed; as you develop your code, this will become more apparent based on what functions are needed/used\n",
    "* Environments and Variables may also be better situated within the context of the code\n",
    "* As you gain experience, you will have a better idea if/when you need to create these components\n",
    "\n",
    "**Because this is a simple script, we will not need to set any `# Environments` or `# Variables`; we will revisit this later**"
   ]
  },
  {
   "cell_type": "markdown",
   "metadata": {},
   "source": [
    "### 3. Develop the code"
   ]
  },
  {
   "cell_type": "markdown",
   "metadata": {
    "heading_collapsed": true
   },
   "source": [
    "#### 3 a. Read the table\n",
    "* Read the feature class table or standalone table\n",
    "* Because we are using ArcPy, reading the table can be accomplished using a **Search Cursor**\n",
    "\n",
    "**Note the added comments to the code for workflow clarity...this is best practice!!**"
   ]
  },
  {
   "cell_type": "markdown",
   "metadata": {},
   "source": [
    "### Cursors\n",
    "[**Top**](#Outline)"
   ]
  },
  {
   "cell_type": "markdown",
   "metadata": {},
   "source": [
    "#### What are Cursors?\n",
    "\n",
    "* Data access object that can be used either to iterate through the set of rows in a table or to insert new rows into a table\n",
    "* Have three forms: Search, Insert, or Update\n",
    "* Commonly used to read and update attributes.\n",
    "* Work similarly to reading CSV files by using a `with` statement:<br>\n",
    "    **`with arcpy.da.SearchCursor(input_table, field_list) as cursor:`**\n",
    "* Search cursors are read-only\n",
    "* Two other types of cursors, **Insert** and **Update**, that allow writing (we won't work with these in this workshop)\n",
    "\n",
    "**Note:** *There are two types of cursors in ArcPy, one directly in ArcPy (e.g. `arcpy.SearchCursor(dataset)`) and the other in the Data Access module within ArcPy (e.g. `arcpy.da.SearchCursor(dataset)`). The **ArcPy Data Access module** version of cursors is newer and faster and is recommended over the normal cursors. Also, the Data Access search cursor requires a list of fields, whereas for the normal cursor a field list is optional.*\n",
    "\n",
    "**See: [ArcPy Documentation: Data Access using cursors](https://pro.arcgis.com/en/pro-app/arcpy/get-started/data-access-using-cursors.htm)**"
   ]
  },
  {
   "cell_type": "code",
   "execution_count": null,
   "metadata": {},
   "outputs": [],
   "source": [
    "''' Script '''\n",
    "\n",
    "# Read the feature class or standalone table data\n",
    "\n",
    "# Create an empty list to append data to\n",
    "data = []\n",
    "\n",
    "# Create a search cursor to access the data\n",
    "with arcpy.da.SearchCursor(input_table, field_names) as cursor:\n",
    "    for row in cursor:\n",
    "        # Append each row to the data list\n",
    "        data.append(row)\n"
   ]
  },
  {
   "cell_type": "markdown",
   "metadata": {},
   "source": [
    "#### Print the first 10 rows to see how it looks\n",
    "* Note that the output is a list of tuples, not lists\n",
    "* Also, there is a coordinate pair from the **Shape** field"
   ]
  },
  {
   "cell_type": "code",
   "execution_count": null,
   "metadata": {},
   "outputs": [],
   "source": [
    "# Print first 10 rows\n",
    "print(data[:10])"
   ]
  },
  {
   "cell_type": "markdown",
   "metadata": {},
   "source": [
    "#### 3 b. Create and write to the CSV file\n",
    "\n",
    "* In the Parameters section above, we just established the name of the CSV file\n",
    "* Now, we need to create and write to the CSV file...we will use the `csv` module\n",
    "* Then need to create a CSV writer object to:\n",
    "    * Write the field names as the header to the CSV file\n",
    "    * Write the data as separate lines to the CSV file\n",
    "\n",
    "**Again, note the additional comments in the code**"
   ]
  },
  {
   "cell_type": "markdown",
   "metadata": {},
   "source": [
    "### Creating and Writing to CSV Files\n",
    "[**Top**](#Outline)"
   ]
  },
  {
   "cell_type": "markdown",
   "metadata": {},
   "source": [
    "#### Creating Files\n",
    "\n",
    "* Writing files can be done using a `with open()` function\n",
    "    * For Python 3\n",
    "        * Use the `'w'` mode when opening the file, therefore:\n",
    "            * The file is automatically created if it doesn't exist\n",
    "            * **Or...**\n",
    "            * The file is ***Overwritten*** if it already exists\n",
    "        * Need to identify what creates a `newline` when writing to the file\n",
    "        \n",
    "    * For Python 2, use the `'wb'` write mode\n",
    "\n",
    "**File Access - Write Modes Only...**\n",
    "\n",
    "| Modes | Description |\n",
    "|:---:|:--- |\n",
    "| w | Opens a file for writing only. Overwrites the file if the file exists. If the file does not exist, creates a new file for writing. |\n",
    "| wb | Opens a file for writing only in binary format. Overwrites the file if the file exists. If the file does not exist, creates a new file for writing. |\n",
    "| w+ | Opens a file for both writing and reading. Overwrites the existing file if the file exists. If the file does not exist, creates a new file for reading and writing. |\n",
    "| wb+ | Opens a file for both writing and reading in binary format. Overwrites the existing file if the file exists. If the file does not exist, creates a new file for reading and writing. |\n",
    "\n",
    "**See [Tutorials Point: Python - File Handling](https://www.tutorialspoint.com/python/python_file_handling.htm)**\n",
    "\n",
    "\n",
    "#### Writing to CSV Files\n",
    "\n",
    "* **`csv.writer(file object)`** class to create a writing object\n",
    "\n",
    "\n",
    "* **`writerow(row)`** CSV writer method to write a single row\n",
    "\n",
    "\n",
    "* **`writerows(list of lists)`** CSV writer method to write many rows"
   ]
  },
  {
   "cell_type": "code",
   "execution_count": null,
   "metadata": {},
   "outputs": [],
   "source": [
    "''' Script '''\n",
    "\n",
    "# Create and open the output CSV file\n",
    "with open(output_csv, 'w', newline='') as csv_file:\n",
    "    # Creates CSV Writer object\n",
    "    csv_writer = csv.writer(csv_file)\n",
    "    \n",
    "    # Write the field names to the new CSV file\n",
    "    csv_writer.writerow(field_names)\n",
    "    \n",
    "    # Write the feature class or standalone table data to the new CSV file\n",
    "    csv_writer.writerows(data)\n",
    "\n",
    "# Message that the script is finished\n",
    "print(\"CSV file complete; located at {}\".format(output_csv))"
   ]
  },
  {
   "cell_type": "code",
   "execution_count": null,
   "metadata": {},
   "outputs": [],
   "source": [
    "# Python 2 with statement; For some reason, 'w' adds an extra line between rows, use 'wb' instead...\n",
    "with open(output_csv, 'wb') as csv_file:"
   ]
  },
  {
   "cell_type": "markdown",
   "metadata": {},
   "source": [
    "### 4. Finalize and Clean up the Notebook\n",
    "\n",
    "* Update the Notebook information\n",
    "* Delete any unnecessary cells\n",
    "* Comment out any unnecessary cells"
   ]
  },
  {
   "cell_type": "markdown",
   "metadata": {},
   "source": [
    "### 5. Run the Notebook\n",
    "\n",
    "* Open the **PA Unconventional Wells** map\n",
    "    * ArcGIS Notebooks will add any data created to the active or last active map\n",
    "* Try **Cell > Run All**\n",
    "* Refresh the **CSV** folder to see the new file"
   ]
  },
  {
   "cell_type": "markdown",
   "metadata": {},
   "source": [
    "### Final Standalone Script Code:"
   ]
  },
  {
   "cell_type": "code",
   "execution_count": null,
   "metadata": {
    "scrolled": true
   },
   "outputs": [],
   "source": [
    "# -*- coding: UTF-8 -*-\n",
    "\n",
    "''' Metadata, Copyright, License: \n",
    "------------------------------------------------------------------------\n",
    "Name:       Convert_Table_to_CSV.ipynb\n",
    "Purpose:    This script converts a table to a CSV table with selected\n",
    "            fields.\n",
    "Author:     Whitacre, James\n",
    "Created:    2024/04/10\n",
    "Version:    0.0.1\n",
    "Copyright:  Copyright <YYYY> <Your Name or Organization>\n",
    "License:    Licensed under the Apache License, Version 2.0 (the\n",
    "            \"License\"); you may not use this file except in compliance\n",
    "            with the License. You may obtain a copy of the License at\n",
    "            http://www.apache.org/licenses/LICENSE-2.0\n",
    "            Unless required by applicable law or agreed to in writing,\n",
    "            software distributed under the License is distributed on an\n",
    "            \"AS IS\" BASIS, WITHOUT WARRANTIES OR CONDITIONS OF ANY KIND,\n",
    "            either express or implied. See the License for the specific\n",
    "            language governing permissions and limitations under the\n",
    "            License.\n",
    "------------------------------------------------------------------------\n",
    "'''\n",
    "\n",
    "''' Import Modules '''\n",
    "import arcpy\n",
    "import csv\n",
    "\n",
    "\n",
    "''' Parameters '''\n",
    "\n",
    "# Input feature class or standalone table\n",
    "input_table = arcpy.management.MakeFeatureLayer('https://services2.arcgis.com/eQgAMgHr2CRobt2r/arcgis/rest/services/UnconventionalWellsPA/FeatureServer/0',\n",
    "                                                'Unconventional Wells')\n",
    "\n",
    "# Identify list of field names to be exported\n",
    "field_names = ['Shape', 'PERMIT_NO', 'FARM_NAME', 'COUNTY', 'PROD_GAS_QUANT']\n",
    "\n",
    "# Output CSV file path and name\n",
    "output_csv = r'{Copy Home folder Path here...}\\CSV\\UnconventionalWells.csv'\n",
    "\n",
    "\n",
    "''' Script '''\n",
    "\n",
    "# Read the feature class or standalone table data\n",
    "\n",
    "# Create an empty list to append data to\n",
    "data = []\n",
    "\n",
    "# Create a search cursor to access the data\n",
    "with arcpy.da.SearchCursor(input_table, field_names) as cursor:\n",
    "    for row in cursor:\n",
    "        # Append each row to the data list\n",
    "        data.append(row)\n",
    "\n",
    "# Print first 10 rows\n",
    "# print(data[:10])\n",
    "\n",
    "\n",
    "# Create and open the output CSV file\n",
    "with open(output_csv, 'w', newline='') as csv_file:\n",
    "    # Creates CSV Writer object\n",
    "    csv_writer = csv.writer(csv_file)\n",
    "    \n",
    "    # Write the field names to the new CSV file\n",
    "    csv_writer.writerow(field_names)\n",
    "    \n",
    "    # Write the feature class or standalone table data to the new CSV file\n",
    "    csv_writer.writerows(data)\n",
    "\n",
    "# Message that the script is finished\n",
    "print(\"CSV file complete; located at {}\".format(output_csv))"
   ]
  },
  {
   "cell_type": "markdown",
   "metadata": {},
   "source": [
    "## Challenge: \n",
    "\n",
    "### How might you change the code to use fewer lines? \n",
    "\n",
    "***Hint:*** *Is there anywhere you might be able to use list comprehension?*\n"
   ]
  },
  {
   "cell_type": "markdown",
   "metadata": {},
   "source": [
    "---\n",
    "\n",
    "# Break\n",
    "---\n",
    "[**Top**](#Outline)\n",
    "\n",
    "10 - 15 minutes"
   ]
  },
  {
   "cell_type": "markdown",
   "metadata": {},
   "source": [
    "# VI. Adding Geoprocessing Tools to Scripts\n",
    "---\n",
    "[**Top**](#Outline)"
   ]
  },
  {
   "cell_type": "markdown",
   "metadata": {},
   "source": [
    "* So far we haven't worked with many geoprocessing tools...So let's work on a few!\n",
    "* The trick is to first run the tools in ArcGIS Pro, then Copy Python Command\n",
    "* This method will GREATLY help document workflows much easier!\n",
    "\n",
    "\n",
    "## New Scenario:\n",
    "\n",
    "> A client wants to estimate the acreage of unconventional well pads in each county for the entire Commonwealth of Pennsylvania. They need the data as a CSV table.\n",
    "\n",
    "\n",
    "### Pseudo Code:\n",
    "\n",
    "* Select Drilled and Producing Wells\n",
    "* Buffer each well 'farm' at 100 m to estimate the well pad area\n",
    "* Summarize acreage of all well pads in each county\n",
    "* Export the summary statistics as a CSV table\n"
   ]
  },
  {
   "cell_type": "markdown",
   "metadata": {},
   "source": [
    "## Run the ArcGIS Pro Tools First!"
   ]
  },
  {
   "cell_type": "markdown",
   "metadata": {},
   "source": [
    "* **This is where the rubber hits the road with problem solving in GIS...and where the GIS professional thrives!!!**\n",
    "* **This will be a rough as we will go through the GIS problem solving process together!**\n",
    "\n",
    "### ArcGIS Pro [Geoprocessing Options](https://pro.arcgis.com/en/pro-app/3.1/help/analysis/geoprocessing/basics/geoprocessing-options.htm)\n",
    "\n",
    "* Set options for running geoprocessing tools and scripts\n",
    "    * [X] Allow geoprocessing tools to overwrite existing datasets\n",
    "    * [ ] Remove layers that reference data overwritten by geoprocessing tools\n",
    "    * [X] Add output datasets to an open map\n",
    "    * [X] Display disabled parameters\n",
    "    * [ ] Enable Undo toggled on by default\n",
    "    * [X] Display data paths as shortened names\n",
    "    * [X] Analyze script and model tools for ArcGIS Pro compatibility\n",
    "    * [ ] Open messages window automatically after running a tool\n",
    "\n",
    "### Geoprocessing Tools to Run\n",
    "\n",
    "1. Select ***OR*** Select Layer By Attribute\n",
    "\n",
    "\n",
    "2. Buffer ***OR*** Pairwise Buffer\n",
    "    * Method: Planar or Geodesic\n",
    "    * Dissolve Type: Which option? What field?\n",
    "\n",
    "\n",
    "3. Summary Statistics ***OR*** Summarize Within ***OR*** Calculate Geometry Attributes\n",
    "\n",
    "\n",
    "4. Convert Table to CSV ***OR*** Export Table\n"
   ]
  },
  {
   "cell_type": "markdown",
   "metadata": {},
   "source": [
    "### Copy Code Below"
   ]
  },
  {
   "cell_type": "code",
   "execution_count": null,
   "metadata": {},
   "outputs": [],
   "source": [
    "# Select Drilled and Producing Wells\n",
    "\n",
    "\n",
    "# Buffer each well 'farm' at 100 m to estimate the well pad area\n",
    "\n",
    "\n",
    "# Summarize acreage of all well pads in each county\n",
    "\n",
    "\n",
    "# Export the summary statistics as a CSV table\n",
    "\n"
   ]
  },
  {
   "cell_type": "markdown",
   "metadata": {
    "heading_collapsed": true
   },
   "source": [
    "### Answer"
   ]
  },
  {
   "cell_type": "code",
   "execution_count": null,
   "metadata": {
    "hidden": true
   },
   "outputs": [],
   "source": [
    "# Select Drilled and Producing Wells\n",
    "arcpy.management.SelectLayerByAttribute(\n",
    "    in_layer_or_view=\"Unconventional Wells\",\n",
    "    selection_type=\"NEW_SELECTION\",\n",
    "    where_clause=\"WELL_STAGE IN ('Drilled', 'Producing')\",\n",
    "    invert_where_clause=None\n",
    ")\n",
    "\n",
    "# Buffer each well 'farm' at 100 m to estimate the well pad area\n",
    "arcpy.analysis.Buffer(\n",
    "    in_features=\"Unconventional Wells\",\n",
    "    out_feature_class=r\"{Copy Home folder Path here...}\\PythonForArcGIS.gdb\\UnconventionalWells_Buffer_100m\",\n",
    "    buffer_distance_or_field=\"100 Meters\",\n",
    "    line_side=\"FULL\",\n",
    "    line_end_type=\"ROUND\",\n",
    "    dissolve_option=\"LIST\",\n",
    "    dissolve_field=\"COUNTY\",\n",
    "    method=\"GEODESIC\"\n",
    ")\n",
    "\n",
    "# Calculate acreage of all well pads in each county\n",
    "arcpy.management.CalculateGeometryAttributes(\n",
    "    in_features=\"UnconventionalWells_Buffer_100m\",\n",
    "    geometry_property=\"Area_ac AREA_GEODESIC\",\n",
    "    length_unit=\"\",\n",
    "    area_unit=\"ACRES_US\",\n",
    "    coordinate_system='PROJCS[\"WGS_1984_Web_Mercator_Auxiliary_Sphere\",GEOGCS[\"GCS_WGS_1984\",DATUM[\"D_WGS_1984\",SPHEROID[\"WGS_1984\",6378137.0,298.257223563]],PRIMEM[\"Greenwich\",0.0],UNIT[\"Degree\",0.0174532925199433]],PROJECTION[\"Mercator_Auxiliary_Sphere\"],PARAMETER[\"False_Easting\",0.0],PARAMETER[\"False_Northing\",0.0],PARAMETER[\"Central_Meridian\",0.0],PARAMETER[\"Standard_Parallel_1\",0.0],PARAMETER[\"Auxiliary_Sphere_Type\",0.0],UNIT[\"Meter\",1.0]]',\n",
    "    coordinate_format=\"SAME_AS_INPUT\"\n",
    ")\n",
    "\n",
    "# Export the summary statistics as a CSV table\n",
    "''' Import Modules '''\n",
    "import csv\n",
    "\n",
    "\n",
    "''' Parameters '''\n",
    "\n",
    "# Input feature class or standalone table\n",
    "input_table = \"UnconventionalWells_Buffer_100m\"\n",
    "\n",
    "# Identify list of field names to be exported\n",
    "field_names = ['COUNTY', 'Area_ac']\n",
    "\n",
    "# Output CSV file path and name\n",
    "output_csv = r'{Copy Home folder Path here...}\\CSV\\Unconventional_Wells_Pad_Area_County.csv'\n",
    "\n",
    "\n",
    "''' Script '''\n",
    "\n",
    "# Read the feature class or standalone table data\n",
    "\n",
    "# Create an empty list to append data to\n",
    "data = []\n",
    "\n",
    "# Create a search cursor to access the data\n",
    "with arcpy.da.SearchCursor(input_table, field_names) as cursor:\n",
    "    for row in cursor:\n",
    "        # Append each row to the data list\n",
    "        data.append(row)\n",
    "\n",
    "# Print first 10 rows\n",
    "# print(data[:10])\n",
    "\n",
    "\n",
    "# Create and open the output CSV file\n",
    "with open(output_csv, 'w', newline='') as csv_file:\n",
    "    # Creates CSV Writer object\n",
    "    csv_writer = csv.writer(csv_file)\n",
    "    \n",
    "    # Write the field names to the new CSV file\n",
    "    csv_writer.writerow(field_names)\n",
    "    \n",
    "    # Write the feature class or standalone table data to the new CSV file\n",
    "    csv_writer.writerows(data)\n",
    "\n",
    "# Message that the script is finished\n",
    "print(\"CSV file complete; located at {}\".format(output_csv))"
   ]
  },
  {
   "cell_type": "markdown",
   "metadata": {},
   "source": [
    "# VII. Creating Custom ArcGIS Script Tools\n",
    "---\n",
    "[**Top**](#Outline)"
   ]
  },
  {
   "cell_type": "markdown",
   "metadata": {},
   "source": [
    "**Now, let's go back to the Convert Table to CSV script...**\n",
    "\n",
    "## Scenario Update:\n",
    "\n",
    "> Now you have a new intern starting and this standalone script is now getting used for many data requests, so it is getting annoying having to manually open the script in the  ArcGIS Notebook, update the variables, and then run the code. You think, \"Man it would be nice to have this as a tool in ArcGIS Pro...why hasn't Esri created this tool?\""
   ]
  },
  {
   "cell_type": "markdown",
   "metadata": {},
   "source": [
    "## What is an ArcGIS Script Tool?\n",
    "[**Top**](#Outline)"
   ]
  },
  {
   "cell_type": "markdown",
   "metadata": {},
   "source": [
    "<img style=\"float: right; padding: 20px\" alt=\"Script tool in Catalog Pane\" src=\"https://pro.arcgis.com/en/pro-app/latest/arcpy/geoprocessing_and_python/GUID-7BD1FF4E-4334-4E0B-BA51-9856DA8071FF-web.png\" />\n",
    "\n",
    "An ArcGIS Script Tool enables turning Python scripts and functionality into custom geoprocessing tools that look and act like the tools included with ArcGIS Pro. A script tool provides many advantages:\n",
    "\n",
    "* Custom script tools are an integral part of geoprocessing\n",
    "    * Act like any other ArcGIS tool that you can open from the Catalog pane\n",
    "    * Can be used in ModelBuilder, the Python Window, an ArcGIS Notebook, and standalone scripts\n",
    "* Enables writing messages and errors to the Geoprocessing History and tool dialog box\n",
    "* Can add parameter validation to ensure inputs are correct\n",
    "* Uses built-in documentation tools that can be customized\n",
    "* When run as a script tool in ArcGIS Pro, `arcpy` is fully aware\n",
    "    * Settings made in the application, such as `arcpy.env.overwriteOutput` and `arcpy.env.scratchWorkspace`, are available from `arcpy` in your script tool."
   ]
  },
  {
   "cell_type": "markdown",
   "metadata": {},
   "source": [
    "### Comparing Python Script Tools, Standalone Scripts, and ModelBuilder"
   ]
  },
  {
   "cell_type": "markdown",
   "metadata": {},
   "source": [
    "| Python Script Tool | Python Standalone Script | ModelBuilder |\n",
    "|:---- |:---- |:---- |\n",
    "| Textual programming language | Textual programming language | Visual Programming language |\n",
    "| Easy to learn with very flexible structure | Easy to learn with very flexible structure | Relatively easier to learn for GIS beginners, but restrictive structure |\n",
    "| Lower-level geoprocessing tasks (e.g. cursors, loops)  | Lower-level geoprocessing tasks (e.g. cursors, loops) | Lower-level geoprocessing tasks may not be possible |\n",
    "| More advanced error handling | More advanced error handling | Errors handled by the tools in the model |\n",
    "| Can use other Python modules and wrap other software (e.g. R) | Can use other Python modules and wrap other software (e.g. R) | Restricted by ArcToolbox tools |\n",
    "| Uses the ArcGIS Tool dialog | Must use an ArcGIS Notebook, Python Window, IDE, or Command Line | Uses the ArcGIS Tool dialog |\n",
    "\n",
    "---"
   ]
  },
  {
   "cell_type": "markdown",
   "metadata": {},
   "source": [
    "## Create a Script Tool\n",
    "[**Top**](#Outline)"
   ]
  },
  {
   "cell_type": "markdown",
   "metadata": {},
   "source": [
    "### Scenario Update\n",
    "\n",
    "> Ok, so by now hopefully the light bulb should have gone off, and you should be thinking, \"Oh cool, I can make my own ArcGIS Script Tool!\" But, where should you start when creating a script tool? I am so glad you asked! First, we need to modify the standalone script to work in a script tool.\n",
    "\n",
    "To create a script tool in a custom toolbox, we need a few things (luckily we already have a few!):\n",
    "\n",
    "* [X] A project toolbox (created when you create a new ArcGIS Pro Project!)\n",
    "* [ ] A script tool\n",
    "* [X] A script\n",
    "* [ ] A precise definition of the parameters of your script\n",
    "\n",
    "\n",
    "**See [ArcPy Documentation: A quick tour of creating tools with Python](https://pro.arcgis.com/en/pro-app/latest/arcpy/geoprocessing_and_python/a-quick-tour-of-creating-tools-in-python.htm)**"
   ]
  },
  {
   "cell_type": "markdown",
   "metadata": {},
   "source": [
    "### 1. Create a new Script Tool in the project Toolbox"
   ]
  },
  {
   "cell_type": "markdown",
   "metadata": {},
   "source": [
    "* Follow the demonstration to create a new Script Tool\n",
    "    * **See [ArcPy Documentation: Add a Script Tool](https://pro.arcgis.com/en/pro-app/latest/arcpy/geoprocessing_and_python/adding-a-script-tool.htm) for detailed instructions**\n",
    "\n",
    "\n",
    "* **General Properties**\n",
    "    * Name: **ConvertTableToCSV**\n",
    "    * Label: **Convert Table to CSV**\n",
    "    * Description: **This script tool converts a table to a CSV table with selected fields.**\n",
    "    * [X] Store tool with relative path"
   ]
  },
  {
   "cell_type": "markdown",
   "metadata": {},
   "source": [
    "#### ArcGIS Toolboxes\n",
    "\n",
    "There are three toolbox formats in ArcGIS Pro:\n",
    "\n",
    "* **ArcGIS toolbox** — This toolbox format is stored as an .atbx file on disk. This toolbox format stores tools, scripts, and models. It provides better cross-release compatibility and persistence, improved performance and scalability, and less possibility of file corruption due to binary storage, as this format is JSON based with an open specification compared to the legacy toolbox format (.tbx) described below. You can create toolsets, add new model and script tools, change properties, and copy and paste tools from legacy toolboxes into the new toolbox format using the Catalog pane.\n",
    "* **Legacy toolbox** — This toolbox format is stored as a .tbx file on disk or in a database.\n",
    "* **Python toolbox** — This toolbox format is stored as a .pyt file on disk. All properties of a Python toolbox and its tools are defined using Python code.\n",
    "\n",
    "Starting with ArcGIS Pro 3.0, you can't create legacy toolboxes (.tbx) in a project. However, you can still add existing legacy toolboxes to a project and edit them."
   ]
  },
  {
   "cell_type": "markdown",
   "metadata": {},
   "source": [
    "### 2. Setup parameters for the Script Tool"
   ]
  },
  {
   "cell_type": "markdown",
   "metadata": {},
   "source": [
    "<img style=\"float: right; padding: 20px\" alt=\"Define the script tool parameters\" src=\"https://pro.arcgis.com/en/pro-app/latest/arcpy/geoprocessing_and_python/GUID-060F0529-474A-4566-A3B2-654B24D07FE4-web.png\" />\n",
    "\n",
    "* **Parameter Options**   \n",
    "    * **Label**: This how the parameter will be labeled in the tool dialog\n",
    "    * **Name**: Note that it is the same as the script parameter variable...more on this in a bit!\n",
    "    * **Data Type**: Note the many different types!\n",
    "    * **Type**: Required vs. Optional vs. Derived\n",
    "    * **Direction**: Is the parameter an input or an output?\n",
    "    * **Category**: These are user-defined categories to help organize parameters on the tool dialog...we won't use it here\n",
    "    * **Filter**: Certain Data Types can be filtered (e.g., polygon feature layer only)\n",
    "    * **Dependency**: Certain Data Types can have dependencies (e.g., Fields from a table can be loaded into the parameter list)\n",
    "    * **Default**: Can be used if there is a common value usually used...we won't use it here\n",
    "    * **Environment**: Can set the default value for a parameter to the value of an environment setting\n",
    "    * **Symbology**: If output is a feature set, raster, TIN, or layer, specify the location of a layer file (.lyrx); When tool is run and output is added to display, it will draw using the symbology in the layer file\n",
    "\n",
    "**See [ArcPy Documentation: Setting script tool parameters](https://pro.arcgis.com/en/pro-app/latest/arcpy/geoprocessing_and_python/setting-script-tool-parameters.htm)**\n",
    "\n",
    "\n",
    "* **Parameters**\n",
    "    * Set the parameters as described in the table below\n",
    "    * **Bold** indicates those that need edited or that are not default\n",
    "\n",
    "| Label | Name | Data Type | Type | Direction | Category | Filter | Dependency | Default | Environment | Symbology |\n",
    "| :---- | :---- | :---- | :---- | :---- | :---- | :---- | :---- | :---- | :---- | :---- |\n",
    "| **Input Table** | **input_table** | **Table View** | Required | Input |\n",
    "| **Field Names** | **field_names** | **[Field]<br>&nbsp;&nbsp;&nbsp;&nbsp;[&check;] Multiple values** | Required | Input |  | **Field<br>&nbsp;&nbsp;&nbsp;&nbsp;[&check;] All except Blob, Raster, XML** | **input_table** |\n",
    "| **Output CSV Table** | **output_csv** | **File** | Required | **Output** |  | **File<br>&nbsp;&nbsp;&nbsp;&nbsp;csv;txt** |   \n",
    "\n",
    "\n",
    "* **Execution**\n",
    "    * We'll come back to this!\n",
    "\n",
    "\n",
    "* **Validation**\n",
    "    * We'll come back to this!"
   ]
  },
  {
   "cell_type": "markdown",
   "metadata": {},
   "source": [
    "## Prepare Script for ArcGIS Script Tool\n",
    "[**Top**](#Outline)"
   ]
  },
  {
   "cell_type": "markdown",
   "metadata": {},
   "source": [
    "### 1. Create a copy of the ArcGIS Script Tool Template Python script file\n",
    "\n",
    "* Copy **ArcGIS_Script_Tool_Template.py** to the **Scripts** folder\n",
    "* Name it **Convert_Table_to_CSV.py**\n",
    "* Open the script file in a code editor"
   ]
  },
  {
   "cell_type": "markdown",
   "metadata": {},
   "source": [
    "### Challenge: \n",
    "\n",
    "Can you figure out how to do this with Python?"
   ]
  },
  {
   "cell_type": "markdown",
   "metadata": {},
   "source": [
    "#### Review the ArcGIS Script Tool Template\n",
    "\n",
    "* Note that the ArcGIS Notebook Template is pretty much the same\n",
    "* Note that the script created in the ArcGIS Notebook is already implementing most of the template elements\n",
    "* Also note that the template conforms to the **[PEP 8 -- Style Guide for Python Code](https://peps.python.org/pep-0008/)**"
   ]
  },
  {
   "cell_type": "code",
   "execution_count": null,
   "metadata": {},
   "outputs": [],
   "source": [
    "# -*- coding: UTF-8 -*-\n",
    "\n",
    "# Follow the Style Guide for Python Code: https://www.python.org/dev/peps/pep-0008/\n",
    "# Replace sections below enclosed by brackets \"<>\" with appropriate identifying information, but do not include the brackets. \n",
    "# Delete lines 3-6\n",
    "\n",
    "''' Metadata, Copyright, License: \n",
    "------------------------------------------------------------------------\n",
    "Name:       <FileName>.py\n",
    "Purpose:    <Purpose>\n",
    "Usage:      <Usage>\n",
    "Author:     <Name, Your>\n",
    "Source:     <Web link, Author, Acknowledgments - Optional>\n",
    "Created:    <YYYY/MM/DD>\n",
    "Modified:   <YYYY/MM/DD>\n",
    "Version:    #.#.#\n",
    "Copyright:  Copyright <YYYY> <Your Name or Organization>\n",
    "License:    Licensed under the Apache License, Version 2.0 (the\n",
    "            \"License\"); you may not use this file except in compliance\n",
    "            with the License. You may obtain a copy of the License at\n",
    "            http://www.apache.org/licenses/LICENSE-2.0\n",
    "            Unless required by applicable law or agreed to in writing,\n",
    "            software distributed under the License is distributed on an\n",
    "            \"AS IS\" BASIS, WITHOUT WARRANTIES OR CONDITIONS OF ANY KIND,\n",
    "            either express or implied. See the License for the specific\n",
    "            language governing permissions and limitations under the\n",
    "            License.\n",
    "------------------------------------------------------------------------\n",
    "'''\n",
    "\n",
    "''' Import Modules '''\n",
    "import arcpy\n",
    "\n",
    "\n",
    "''' Functions '''\n",
    "def function_name(var_1, var_2):\n",
    "    \"\"\"Docstring...Style Guide: https://www.python.org/dev/peps/pep-0257/\n",
    "\n",
    "    Parameters:\n",
    "    var_1: data type\n",
    "        Description...\n",
    "    \n",
    "    var_2: data type\n",
    "        Description...\n",
    "    \"\"\"\n",
    "    # Function Code\n",
    "\n",
    "    return\n",
    "\n",
    "\n",
    "''' Parameters '''\n",
    "# Param Name (Param Type; Param Notes)\n",
    "param_0 = arcpy.GetParameterAsText(0)\n",
    "# Param Name (Param Type; Param Notes)\n",
    "param_1 = arcpy.GetParameterAsText(1)\n",
    "\n",
    "\n",
    "''' Script '''\n",
    "\n",
    "# Environments\n",
    "\n",
    "# Variables\n",
    "\n",
    "# Processes"
   ]
  },
  {
   "cell_type": "markdown",
   "metadata": {},
   "source": [
    "### 2. Copy script from ArcGIS Notebook and modify script parameters\n",
    "\n",
    "* In order for a script tool to input parameters into the tool, we need to use the `arcpy.GetParameterAsText()` or `arcpy.GetParameter()` functions\n",
    "    * Note the number in the parentheses; this indicates the index location of parameter in the Script Tool\n",
    "* It is also best practice to make comments on how the parameters should be set up in the Script Tool so someone can recreate the parameters from the script itself\n",
    "* This will make a bit more sense when we create the Script Tool in an ArcGIS Toolbox"
   ]
  },
  {
   "cell_type": "code",
   "execution_count": null,
   "metadata": {},
   "outputs": [],
   "source": [
    "''' Parameters '''\n",
    "\n",
    "''' Update Code...'''\n",
    "\n",
    "# Input Table (Table View)\n",
    "input_table = arcpy.GetParameterAsText(0) \n",
    "\n",
    "# Output Fields (Field, Multiple values: Yes; Filter: Field [NOT Shape, Blob, Raster, XML]; Dependency: input_table)\n",
    "field_names = arcpy.GetParameterAsText(1) \n",
    "\n",
    "# Output CSV Table (File; Output; Filter: File [csv;txt])\n",
    "output_csv = arcpy.GetParameterAsText(2)\n",
    "\n",
    "''' End Update Code...'''"
   ]
  },
  {
   "cell_type": "markdown",
   "metadata": {},
   "source": [
    "### 3. Add ArcPy elements to expand the script tool functionality\n",
    "\n",
    "* **[Progressors](https://pro.arcgis.com/en/pro-app/arcpy/geoprocessing_and_python/understanding-the-progress-dialog-in-script-tools.htm)**\n",
    "\n",
    "    * Show messages in the Geoprocessing pane progress bar while a tool is running\n",
    "    * Good for passing messages about upcoming tasks or information in the script\n",
    "    * Can help see how far along a specific task is to completion\n",
    "\n",
    "\n",
    "* **[Messages, Warnings, and Errors](https://pro.arcgis.com/en/pro-app/arcpy/geoprocessing_and_python/understanding-messaging-in-script-tools.htm)**\n",
    "\n",
    "    * Essentially acts like the Python `print()` function, but in the Details of script\n",
    "    * Good for passing messages about optional tasks that completed, are anomalies/uncommon occurrences, or any other important message useful for being stored in the Geoprocessing History\n",
    "    * Warnings can relay warning messages and you will see the warning icon: <img style=\"display: inline-block; vertical-align: bottom;\" alt=\"Warning\" title=\"Warning\" src=\"https://pro.arcgis.com/en/pro-app/help/analysis/geoprocessing/basics/GUID-2D010E07-27FF-4EFC-9384-703D00609FB6-web.png\" width=\"25\">\n",
    "    * Errors can be created to stop the script from running any further and relay an error messages and you will see the error icon: <img style=\"display: inline-block; vertical-align: bottom;\" alt=\"Error\" title=\"Error\" src=\"https://pro.arcgis.com/en/pro-app/help/analysis/geoprocessing/basics/GUID-70911207-0FFE-46FC-8168-CEAEEE1A84C1-web.png\" width=\"25\">\n",
    "\n",
    "\n",
    "#### Add some Progressors and a Message to the Script\n",
    "\n",
    "1. Add a step progressor to track writing the rows\n",
    "\n",
    "\n",
    "2. Reset the progressor and add a default progressor to notify that the CSV file is being created\n",
    "\n",
    "\n",
    "3. Add a message to let users know that the script completed and how many rows and field were written"
   ]
  },
  {
   "cell_type": "code",
   "execution_count": null,
   "metadata": {},
   "outputs": [],
   "source": [
    "''' Script '''\n",
    "\n",
    "''' New Code...'''\n",
    "\n",
    "# Set the progressor, first count the number of records\n",
    "rows = int(arcpy.managemene.GetCount(input_table)[0])\n",
    "arcpy.SetProgressor('step', '{0} rows in dataset...'.format(rows), 0, rows, 1)\n",
    "\n",
    "''' End New Code'''\n",
    "\n",
    "\n",
    "# Read the feature class or standalone table data\n",
    "# Create an empty list to append data to\n",
    "data = []\n",
    "\n",
    "# Create a search cursor to access the data\n",
    "with arcpy.da.SearchCursor(input_table, field_names) as cursor:\n",
    "    for row in cursor:\n",
    "        # Append each row to the data list\n",
    "        data.append(row)\n",
    "        # Update the progressor position\n",
    "        arcpy.SetProgressorPosition()\n",
    "\n",
    "        \n",
    "''' New Code...'''\n",
    "\n",
    "# Reset and create new progressor to show that CSV file is being created\n",
    "arcpy.ResetProgressor()\n",
    "arcpy.SetProgressor('default', 'Creating CSV file...')\n",
    "\n",
    "''' End New Code'''\n",
    "\n",
    "\n",
    "# Open the new output CSV file\n",
    "with open(output_csv, 'w', newline='') as csv_file:\n",
    "    # Creates CSV Writer object\n",
    "    csv_writer = csv.writer(csv_file)\n",
    "    \n",
    "    # Write the field names to the new CSV file\n",
    "    csv_writer.writerow(field_names)\n",
    "    \n",
    "    # Write the feature class or standalone table data to the new CSV file\n",
    "    csv_writer.writerows(data)\n",
    "\n",
    "    \n",
    "# Message that the script is finished\n",
    "arcpy.AddMessage('CSV file complete: {0} rows and {1} fields exported.'.format(rows, len(field_names)))"
   ]
  },
  {
   "cell_type": "markdown",
   "metadata": {},
   "source": [
    "### 4. Add the script to the Script Tool\n",
    "\n",
    "* Follow the demonstration to create a new Script Tool\n",
    "    * **See [ArcPy Documentation: Add a Script Tool](https://pro.arcgis.com/en/pro-app/arcpy/geoprocessing_and_python/adding-a-script-tool.htm) for detailed instructions**\n"
   ]
  },
  {
   "cell_type": "markdown",
   "metadata": {},
   "source": [
    "### 5. Test the Script Tool\n",
    "\n",
    "* Did it work?\n",
    "* If you got an error, what kind of error is it? Can you figure out where the error is in the code? \n",
    "\n",
    "\n",
    "***Hint*: Click View Details**\n",
    "\n",
    "---"
   ]
  },
  {
   "cell_type": "markdown",
   "metadata": {},
   "source": [
    "## Handling Errors and Debugging\n",
    "[**Top**](#Outline)"
   ]
  },
  {
   "cell_type": "markdown",
   "metadata": {
    "heading_collapsed": true
   },
   "source": [
    "### Three types of errors in Python\n",
    "\n",
    "\n",
    "- **Syntax Errors** - prevents code from running\n",
    "\n",
    "\n",
    "- **Exceptions** - code will stop running mid-process\n",
    "\n",
    "\n",
    "- **Logic Errors** - code will run, but produces undesired results\n",
    "\n",
    "  \n",
    "### What is debugging?\n",
    "\n",
    "\n",
    "- Methodological process for finding errors in the script\n",
    "\n",
    "\n",
    "- Debugging methods don't usually tell you why, but rather where the issue is occurring\n",
    "\n",
    "\n",
    "- Examples include:\n",
    "\n",
    "  - Carefully reviewing error messages (we just did this!)\n",
    "  - Adding **`arcpy.AddMessage()`** to track the process and pinpoint where the error is (`print()` statements will work in standalone scripts) \n",
    "  - Selectively commenting out code while testing\n",
    "  - Using a Python IDE debugger (we won't cover this...sorry)\n",
    "\n",
    "\n",
    "### Add some `arcpy.AddMessage()` statements and Comment out some code\n",
    "\n",
    "\n",
    "- Recall the line number from the error...what might we want to look into?\n",
    "\n",
    "\n",
    "- Comment out the entire Script section\n",
    "\n",
    "\n",
    "- In the script, add a descriptive **`arcpy.AddMessage()`** statement after the Parameters section, but before the Script section\n",
    "\n",
    "    - Cycle through each parameter variable\n",
    "    - Save the script in the IDE and re-run the script tool after any changes\n",
    "\n",
    "\n",
    "- Where do you notice any anomalies?\n",
    "\n",
    "    - ***HINT***: Recall the review of cursors...\n",
    "\n",
    "\n",
    "Note: For future reference, if a **`arcpy.AddMessage()`** statement does not execute, then that is the process to check for issues/errors"
   ]
  },
  {
   "cell_type": "code",
   "execution_count": null,
   "metadata": {
    "hidden": true
   },
   "outputs": [],
   "source": [
    "''' Parameters '''\n",
    "# Input Table (Table View)\n",
    "input_table = arcpy.GetParameterAsText(0) \n",
    "\n",
    "# Output Fields (Field; MultiValue: Yes; Filter: field [NOT Shape, Blob, Raster, XML])\n",
    "field_names = arcpy.GetParameterAsText(1) \n",
    "\n",
    "# Output CSV Table (File; Direction: Output; Filter: File [csv, txt])\n",
    "output_csv = arcpy.GetParameterAsText(2)\n",
    "\n",
    "\n",
    "''' Add Error Handling Code...'''\n",
    "\n",
    "# Add a message to test the parameter input\n",
    "arcpy.AddMessage(table) # field_names output_csv\n",
    "\n",
    "''' End Error Handling Code...'''\n",
    "\n",
    "\n",
    "''' Script '''\n",
    "# Comment out everything below here..."
   ]
  },
  {
   "cell_type": "markdown",
   "metadata": {
    "hidden": true
   },
   "source": [
    "#### Fix the Error\n",
    "\n",
    "* For the problematic parameter add:\n",
    "\n",
    "**`arcpy.GetParameterAsText(#).split(';')`**\n",
    "\n",
    "\n",
    "* Re-run the script tool to see how the parameter changes\n",
    "\n",
    "\n",
    "* Un-comment the Script section, Save the script, and re-run to see if there are other errors\n",
    "    \n",
    "    * **Any other errors? Use your problem solving skills to debug!!**"
   ]
  },
  {
   "cell_type": "markdown",
   "metadata": {},
   "source": [
    "### Handling Errors Using conditional statements\n",
    "* Replace the following code for the identified process\n",
    "* Note the indents after the **`if:`** statement\n",
    "* Try to test the error by changing a field name\n"
   ]
  },
  {
   "cell_type": "markdown",
   "metadata": {},
   "source": [
    "### Handling Errors Using `try:` and `except:`\n",
    "\n",
    "* **`try:`** and **`except:`** statements are used for when you don't want your script to stop if there is an error\n",
    "```python\n",
    "    try:\n",
    "        # Some code that might have an error...\n",
    "        print(\"two\" + 2)\n",
    "        \n",
    "    except:\n",
    "        print(\"Error!\")\n",
    "```\n",
    "* Note the indents after the **`try:`** and **`except:`** statements\n",
    "\n",
    "\n",
    "**Add the following `try:` and `except:` statement before executing the processes to test the error.**\n"
   ]
  },
  {
   "cell_type": "markdown",
   "metadata": {},
   "source": [
    "## Tool Parameter Validation\n",
    "[**Top**](#Outline)"
   ]
  },
  {
   "cell_type": "markdown",
   "metadata": {},
   "source": [
    "### Scenario Update:\n",
    "\n",
    "> Some of your geodatabase feature classes and tables have field aliases that are much easier for the users of the CSV files to understand. So, you would like to add an option to output the aliases as either the header or an additional row of the CSV table. \n",
    "\n",
    "> However, sometimes tables have field aliases that are the same as the field names. So, you would like to only have the new alias parameter show up if the fields aliases are different than the field names.\n",
    "\n",
    "\n",
    "### This requires Script Tool Validation\n",
    "\n",
    "Adding this code is a bit more complicated...I will do my best to explain!\n",
    "\n",
    "#### [Validation](https://pro.arcgis.com/en/pro-app/arcpy/geoprocessing_and_python/understanding-validation-in-script-tools.htm)\n",
    "\n",
    "* Provides custom behavior for the script tool dialog box, such as enabling and disabling parameters, providing default values, or modifying filter lists.\n",
    "* Helps validate data inputs and outputs and check for errors BEFORE running the script\n",
    "* Some validation is managed by ArcGIS, while some needs to be coded\n",
    "\n",
    "**See [ArcPy Documentation: Customizing script tool behavior](https://pro.arcgis.com/en/pro-app/latest/arcpy/geoprocessing_and_python/customizing-script-tool-behavior.htm)**"
   ]
  },
  {
   "cell_type": "markdown",
   "metadata": {},
   "source": [
    "### 1. Add a new parameter to the Script Tool\n",
    "\n",
    "* Add the parameter code below after the last parameter in the script"
   ]
  },
  {
   "cell_type": "code",
   "execution_count": null,
   "metadata": {},
   "outputs": [],
   "source": [
    "''' Parameters '''\n",
    "\n",
    "'''Add New Parameter...'''\n",
    "# Add Field Aliases to CSV Table (String; Type: Optional; Filter:  Value List [NONE, AS_HEADER, AS_ROW]; Default: NONE)\n",
    "alias_incl = arcpy.GetParameterAsText(3)"
   ]
  },
  {
   "cell_type": "markdown",
   "metadata": {},
   "source": [
    "### 2. Modify the Script Tool code as below\n",
    "\n",
    "* Add the code snippets below into the script as shown"
   ]
  },
  {
   "cell_type": "code",
   "execution_count": null,
   "metadata": {},
   "outputs": [],
   "source": [
    "''' Script '''\n",
    "\n",
    "# Set the progressor, first count the number of records\n",
    "rows = int(arcpy.managemene.GetCount(input_table)[0])\n",
    "arcpy.SetProgressor('step', '{0} rows in dataset...'.format(rows), 0, rows, 1)\n",
    "\n",
    "\n",
    "# Read the feature class or standalone table data\n",
    "# Create an empty list to append data to\n",
    "data = []\n",
    "\n",
    "# Create a search cursor to access the data\n",
    "with arcpy.da.SearchCursor(input_table, field_names) as cursor:\n",
    "    for row in cursor:\n",
    "        # Append each row to the data list\n",
    "        data.append(row)\n",
    "        # Update the progressor position\n",
    "        arcpy.SetProgressorPosition()\n",
    "\n",
    "''' New Code...'''\n",
    "\n",
    "# Create a describe object of the input table\n",
    "desc = arcpy.Describe(input_table)\n",
    "\n",
    "# If aliases are included: Create a list of all of the field aliases in the table\n",
    "if alias_incl != 'NONE':\n",
    "    # Create a list of all of the fields in the table\n",
    "    aliases = [field.aliasName for field in desc.fields if field.name in field_names]\n",
    "\n",
    "''' End New Code'''\n",
    "\n",
    "\n",
    "# Reset and create new progressor to show that CSV file is being created\n",
    "arcpy.ResetProgressor()\n",
    "arcpy.SetProgressor('default', 'Creating CSV file...')\n",
    "\n",
    "\n",
    "# Open the new output CSV file\n",
    "with open(output_csv, 'w', newline='') as csv_file:\n",
    "    # Creates CSV Writer object\n",
    "    csv_writer = csv.writer(csv_file)\n",
    "    \n",
    "    ''' Modify Code '''\n",
    "    \n",
    "    # Write aliases or fields names as the header to the output CSV file\n",
    "    if alias_incl == 'AS_HEADER':\n",
    "        csv_writer.writerow(aliases)\n",
    "        arcpy.AddMessage('Aliases written as the header...')\n",
    "    else:\n",
    "        csv_writer.writerow(field_names)\n",
    "\n",
    "    # Write aliases as a row to output CSV file if 'AS_ROW' is selected\n",
    "    if alias_incl == 'AS_ROW':\n",
    "        csv_writer.writerow(aliases)\n",
    "        arcpy.AddMessage('Aliases written as a row...')\n",
    "    \n",
    "    ''' End Modify Code '''\n",
    "    \n",
    "    # Write the feature class or standalone table data to the new CSV file\n",
    "    csv_writer.writerows(data)\n",
    "\n",
    "\n",
    "# Message that the script is finished\n",
    "arcpy.AddMessage('CSV file complete: {0} rows and {1} fields exported.'.format(rows, len(field_names)))"
   ]
  },
  {
   "cell_type": "markdown",
   "metadata": {},
   "source": [
    "### 3. Add validation to the Script Tool\n",
    "\n",
    "* Review the **Validation** code below\n",
    "* Open the **Convert Table to CSV** script tool **Properties**\n",
    "* Click **Validation**\n",
    "* Copy the **Validation** code below"
   ]
  },
  {
   "cell_type": "code",
   "execution_count": null,
   "metadata": {},
   "outputs": [],
   "source": [
    "class ToolValidator:\n",
    "  # Class to add custom behavior and properties to the tool and tool parameters.\n",
    "\n",
    "    def __init__(self):\n",
    "        # set self.params for use in other function\n",
    "        self.params = arcpy.GetParameterInfo()\n",
    "\n",
    "    def initializeParameters(self):\n",
    "        # Customize parameter properties. \n",
    "        # This gets called when the tool is opened.\n",
    "\n",
    "        # Disable the optional alias parameter\n",
    "        self.params[3].enabled = False\n",
    "\n",
    "        return\n",
    "\n",
    "    def updateParameters(self):\n",
    "        # Modify parameter values and properties.\n",
    "        # This gets called each time a parameter is modified, before \n",
    "        # standard validation.\n",
    "        \n",
    "        # Check if the parameters have a value and have been validated\n",
    "        if self.params[0].value and not self.params[0].hasBeenValidated:\n",
    "            try:\n",
    "                # Create a describe object for 'Input Table'\n",
    "                desc = arcpy.Describe(self.params[0].value)\n",
    "\n",
    "                # Check if 'Input Table' contains aliases, and if so enable Add Field Aliases to CSV Table (optional)' parameter\n",
    "                aliases = [field.aliasName for field in desc.fields if field.aliasName != field.name]\n",
    "                if aliases:\n",
    "                    self.params[3].enabled = True\n",
    "                else:\n",
    "                    self.params[3].enabled = False\n",
    "\n",
    "            except:\n",
    "                pass\n",
    "\n",
    "        return\n",
    "\n",
    "    def updateMessages(self):\n",
    "        # Customize messages for the parameters.\n",
    "        # This gets called after standard validation.\n",
    "        return\n",
    "\n",
    "    # def isLicensed(self):\n",
    "    #     # set tool isLicensed.\n",
    "    # return True\n",
    "\n",
    "    # def postExecute(self):\n",
    "    #     # This method takes place after outputs are processed and\n",
    "    #     # added to the display.\n",
    "    # return"
   ]
  },
  {
   "cell_type": "markdown",
   "metadata": {},
   "source": [
    "### 4. Test the Script Tool\n",
    "\n",
    "* Test the Script Tool on the **Illinois Counties** layer in the **Illinois** map\n",
    "    * Did it work?\n",
    "    * If you got an error, what kind of error is it? \n",
    "    * Is the error in the code? If not, can you figure out where the error is?\n",
    "\n",
    "\n",
    "***Hint*: Check Field Names parameter 'Field list settings' on the Tool Dialog in the Geoprocessing Pane**\n",
    "\n",
    "---"
   ]
  },
  {
   "cell_type": "markdown",
   "metadata": {},
   "source": [
    "## Documenting Script Tools\n",
    "[**Top**](#Outline)"
   ]
  },
  {
   "cell_type": "markdown",
   "metadata": {},
   "source": [
    "* Right click on the Script Tool\n",
    "\n",
    "\n",
    "* Click Edit Metadata\n",
    "    * Borrow and steal from Esri's script tools\n",
    "        * Good example: [Table To Excel](https://pro.arcgis.com/en/pro-app/latest/tool-reference/conversion/table-to-excel.htm)\n",
    "    * Be very descriptive, but concise\n",
    "\n",
    "\n",
    "* Save metadata edits\n",
    "\n",
    "\n",
    "* Open the script tool and view the help\n",
    "\n",
    "---"
   ]
  },
  {
   "cell_type": "markdown",
   "metadata": {},
   "source": [
    "# VIII. Conclusion and Moving Forward\n",
    "[**Top**](#Outline)"
   ]
  },
  {
   "cell_type": "markdown",
   "metadata": {},
   "source": [
    "## Start using python in your everyday workflows!\n",
    "\n",
    "* Resist the temptation to fall back on ModelBuilder\n",
    "* Read Python and ArcPy documentation...and read it again!\n",
    "* Collaborate with and try to teach colleagues\n",
    "* Get involved with a local development group...Esri has some\n",
    "\n",
    "---"
   ]
  },
  {
   "cell_type": "code",
   "execution_count": null,
   "metadata": {},
   "outputs": [],
   "source": [
    "print('Thank you! Goodbye!')"
   ]
  }
 ],
 "metadata": {
  "anaconda-cloud": {},
  "kernelspec": {
   "display_name": "ArcGISPro",
   "language": "python",
   "name": "python3"
  },
  "language_info": {
   "file_extension": ".py",
   "mimetype": "text/x-python",
   "name": "python",
   "version": "3.11.10"
  }
 },
 "nbformat": 4,
 "nbformat_minor": 4
}
