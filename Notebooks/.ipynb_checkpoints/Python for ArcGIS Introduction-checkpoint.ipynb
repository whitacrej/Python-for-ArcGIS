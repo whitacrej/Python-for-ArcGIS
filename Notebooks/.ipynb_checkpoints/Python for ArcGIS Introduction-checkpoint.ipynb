{
 "cells": [
  {
   "cell_type": "markdown",
   "metadata": {},
   "source": [
    "# Python for ArcGIS Introduction\n",
    "---"
   ]
  },
  {
   "cell_type": "markdown",
   "metadata": {},
   "source": [
    "## Description"
   ]
  },
  {
   "cell_type": "markdown",
   "metadata": {},
   "source": [
    "Programming tools are now a standard feature within GIS software packages and allow GIS users to automate, speed up, and become more precise in their data management and analytic work. This workshop is designed for GIS users who have little to no experience with computer programming and will cover core programming concepts related to GIS using the Python programming language. The workshop will focus on guiding participants through hands-on exercises designed to provide the essential skills to programmatically manipulate data as part of a GIS workflow. This workshop is designed to be preparation for the following workshop on **Advanced Python for ArcGIS, but may be taken independently**.\n",
    "\n",
    "### Specific Topics Include:\n",
    "* Core Python programming concepts\n",
    "* Introduction to ArcPy site package for ArcGIS\n",
    "* Working with geospatial data using Python and ArcPy\n",
    "* Simple data management and geoprocessing tasks"
   ]
  },
  {
   "cell_type": "markdown",
   "metadata": {},
   "source": [
    "# Outline\n",
    "---"
   ]
  },
  {
   "cell_type": "markdown",
   "metadata": {},
   "source": [
    "<table style=\"width: 95%; margin-left: auto; margin-right: auto;\">\n",
    "<thead>\n",
    "  <tr>\n",
    "    <th style=\"font-size: large; text-align: center; width: 47.5%\">Part I</th>\n",
    "    <th style=\"font-size: large; text-align: center; width: 5%\">\n",
    "\n",
    "**[Break](#Break)**</th>\n",
    "    <th style=\"font-size: large; text-align: center; width: 47.5%\">Part II</th>\n",
    "  </tr>\n",
    "</thead>\n",
    "<tbody>\n",
    "  <tr>\n",
    "    <td style=\"vertical-align: center; padding: 20px; font-size: large;\">\n",
    "\n",
    "[**I. Introduction**](#I.-Introduction)\n",
    "\n",
    "[**II. Data and Software**](#II.-Data-and-Software)\n",
    "* [Downloads](#Downloads)\n",
    "* [ArcGIS Pro](#ArcGIS-Pro)\n",
    "* [ArcGIS Notebooks](#ArcGIS-Notebooks)\n",
    "* [Python Window](#Python-Window)\n",
    "\n",
    "[**III. Python Basics**](#III.-Python-Basics)\n",
    "* [What is Python?](#What-is-Python?)\n",
    "* [Print Function](#Print-Function)\n",
    "* [Variables](#Variables)\n",
    "* [Basic Data Types](#Basic-Data-Types)\n",
    "    * [Strings](#Strings)\n",
    "    * [Numbers](#Numbers)\n",
    "    * [Booleans](#Booleans)\n",
    "    * [Lists](#Lists)\n",
    "    * [Tuples](#Tuples)\n",
    "    * [Sets](#Sets)\n",
    "    * [Dictionaries](#Dictionaries)\n",
    "* [Data Type Conversion](#Data-Type-Conversion)\n",
    "* [Simple Math with Python](#Simple-Math-with-Python)\n",
    "* [Python Syntax and Style](#Python-Syntax-and-Style)\n",
    "* [Conditional Statements and Decision Making](#Conditional-Statements-and-Decision-Making)\n",
    "* [Loops](#Loops)\n",
    "* [Functions](#Functions)\n",
    "* [Classes and Methods](#Classes-and-Methods)</td>\n",
    "    <td style=\"background-color: #808080\"></td>\n",
    "    <td style=\"vertical-align: center; padding: 20px; font-size: large;\">\n",
    "\n",
    "[**IV. Calculate Fields Using Python**](#IV.-Calculate-Fields-Using-Python)\n",
    "\n",
    "\n",
    "[**V. Introduction to ArcPy**](#V.-Introduction-to-ArcPy)\n",
    "\n",
    "* [What is ArcPy?](#What-is-ArcPy?)\n",
    "* [`import` Statements](#import-Statements)\n",
    "* [ArcPy Help Documentation](#ArcPy-Help-Documentation)\n",
    "\n",
    "[**VI. Using ArcPy**](#VI.-Using-ArcPy)\n",
    "\n",
    "* [Describing Data](#Describing-Data)\n",
    "    * [System Paths vs. Catalog Paths](#System-Paths-vs.-Catalog-Paths)\n",
    "    * [Formatting Strings](#Formatting-Strings)\n",
    "* [Listing Data](#Listing-Data)\n",
    "    * [Geoprocessing Environment Settings](#Geoprocessing-Environment-Settings)\n",
    "    * [List Comprehensions](#List-Comprehensions)\n",
    "* [Geoprocessing Tools](#Geoprocessing-Tools)\n",
    "\n",
    "[**VII. Conclusion**](#VII.-Conclusion)</td>\n",
    "  </tr>\n",
    "</tbody>\n",
    "</table>"
   ]
  },
  {
   "cell_type": "markdown",
   "metadata": {},
   "source": [
    "# I. Introduction\n",
    "---\n",
    "[**Top**](#Outline)"
   ]
  },
  {
   "cell_type": "markdown",
   "metadata": {},
   "source": [
    "## Instructors"
   ]
  },
  {
   "cell_type": "markdown",
   "metadata": {},
   "source": [
    "<img style=\"float: right; padding: 20px\" alt=\"Image of James Whitacre\" src=\"https://github.com/whitacrej/Python-for-ArcGIS/blob/main/Notebooks/Images/JamesWhitacre.jpg?raw=true\" width=\"300\" height=\"300\" />\n",
    "\n",
    "### James Whitacre\n",
    "\n",
    "**Chief, GIS Services Division | Pennsylvania Game Commission**\n",
    "\n",
    "jawhitacre@pa.gov\n",
    "\n",
    "James Whitacre is Chief of the GIS Services Division of the Pennsylvania Game Commission where he leads, manages, and provides vision for the Agency’s geospatial and mapping program. Formerly, he was the GIS Research Scientist for the Carnegie Museum of Natural History where he managed the GIS Lab at Powdermill Nature Reserve, the Museum’s environmental research center, and supported museum staff and affiliated researchers with geospatial technologies and needs. Whitacre was also the GIS Manager from 2011 to 2014 at the Museum. Before returning to the Museum in 2018, Whitacre was the GIS Specialist for the Main Library at the University of Illinois at Urbana-Champaign where he provided GIS consultations for researchers and scholars, and taught GIS workshops to promote the use of GIS in research. Whitacre holds a Bachelor of Arts in Zoology from Ohio Wesleyan University and a Master of Science in Geography, concentrating on GIS and cartography, from Indiana University of Pennsylvania. Whitacre is past board member and Past President of Keystone GIS (formerly PaMAGIC)."
   ]
  },
  {
   "cell_type": "markdown",
   "metadata": {},
   "source": [
    "<img style=\"float: right; padding: 20px\" alt=\"Image of Emily Clees\" src=\"https://github.com/whitacrej/Python-for-ArcGIS/blob/main/Notebooks/Images/EmilyClees.jpg?raw=true\" width=\"300\" height=\"300\" />\n",
    "\n",
    "\n",
    "### Emily Clees\n",
    "\n",
    "**Geospatial Specialist II, Northcentral Region, GIS Services Division | Pennsylvania Game Commission**\n",
    "\n",
    "eclees@pa.gov\n",
    "\n",
    "Emily Clees is a Geospatial Specialist II for the Northcentral Region of the Pennsylvania Game Commission where she completes quality control checks on collected data, runs analysis for regional and state-wide projects, and creates tools to help visualize data collected in the Pennsylvania Game Commission. Prior to her role as a Geospatial Specialist, she received a Bachelor of Science in Environmental Resource Management with a minor in GIS and a Master of Science in Forest Resources from Penn State. Emily also received a GIS certificate from Penn State World Campus."
   ]
  },
  {
   "cell_type": "markdown",
   "metadata": {},
   "source": [
    "## Welcome to Python Bootcamp!"
   ]
  },
  {
   "cell_type": "markdown",
   "metadata": {},
   "source": [
    "<img style=\"float: right; padding: 20px\" alt=\"Boot Camp\" src=\"http://clipart-library.com/image_gallery/11714.jpg\" width=\"300\" />\n",
    "\n",
    "* That is what this will feel like!! And that is what is intended!\n",
    "* Lots of information in a short amount of time...your brain will hurt!\n",
    "* You may feel lost at first...practice and perseverance will help (I will try to go slow!)\n",
    "* Have patience...it will take time for it all to settle into your head...and heart!"
   ]
  },
  {
   "cell_type": "markdown",
   "metadata": {},
   "source": [
    "## Philosophy Over Practice"
   ]
  },
  {
   "cell_type": "markdown",
   "metadata": {},
   "source": [
    "* I am not a traditional Python developer...my journey comes only through GIS\n",
    "* I will be presenting a philosophy of how to approach Python in ArcGIS\n",
    "* The focus will be on:\n",
    "    * Foundational principles\n",
    "    * Methods for how to systematically approach a project that would benefit from Python\n",
    "* There will be some practice today, but it will be minimal\n",
    "* Practice will be on YOU after the workshop!!! You will only get better if you dive in and start implementing Python in your everyday work.\n",
    "\n",
    "<p style=\"text-align: center; font-size: x-large; font-weight: bold; line-height: 1.25;\">Why do I teach Python?<br>Because of <a href=\"https://www.volvobuses.com/en/news/2019/jul/the-three-point-seat-belt-an-innovation-that-saved-over-1-million-lives.html\" target=\"_blank\">Volvo and Seatbelts</a>!</p>"
   ]
  },
  {
   "cell_type": "markdown",
   "metadata": {},
   "source": [
    "# II. Data and Software\n",
    "---\n",
    "[**Top**](#Outline)"
   ]
  },
  {
   "cell_type": "markdown",
   "metadata": {},
   "source": [
    "## Downloads\n",
    "[**Top**](#Outline)"
   ]
  },
  {
   "cell_type": "markdown",
   "metadata": {},
   "source": [
    "* Go to repo at **https://github.com/whitacrej/Python-For-ArcGIS**\n",
    "* Click **Code** then click **Download Zip**\n",
    "* **Extract** zip file to your Desktop or other well-known folder"
   ]
  },
  {
   "cell_type": "markdown",
   "metadata": {},
   "source": [
    "## ArcGIS Pro\n",
    "[**Top**](#Outline)"
   ]
  },
  {
   "cell_type": "markdown",
   "metadata": {},
   "source": [
    "* Recommended to use latest version 3.4+ or 2.9+\n",
    "* Minimum version of 2.7+ required\n",
    "\n",
    "**See [ArcGIS Pro Documentation](https://www.esri.com/en-us/arcgis/products/arcgis-pro/resources)**"
   ]
  },
  {
   "cell_type": "markdown",
   "metadata": {},
   "source": [
    "### ArcGIS Pro vs. ArcMap"
   ]
  },
  {
   "cell_type": "markdown",
   "metadata": {},
   "source": [
    "* Stop using ArcMap! Seriously...it's time! ArcMap is currently in mature support and is being retired March 2026 (see [ArcMap Life Cycle](https://support.esri.com/en-us/products/arcmap/life-cycle))\n",
    "* Oh, you HAVE to use it? Stop...but...\n",
    "    * Nearly everything in this workshop still applies!!!\n",
    "    * Except:\n",
    "        * ArcMap does not use ArcGIS Notebooks...Use a code editor or the Python Window instead\n",
    "        * ArcMap uses Python 2, which is being deprecated...just like ArcMap!\n",
    "        * I'll point out a few other things that are different along the way...\n",
    "* No, sorry, I don't have time to address every ArcMap concern...stop using it..."
   ]
  },
  {
   "cell_type": "markdown",
   "metadata": {},
   "source": [
    "## ArcGIS Notebooks\n",
    "[**Top**](#Outline)"
   ]
  },
  {
   "cell_type": "markdown",
   "metadata": {},
   "source": [
    "* Built on top of **[Jupyter Notebook](https://jupyter.org/)**\n",
    "* Included and integrated with ArcGIS Pro (starting at version 2.5)\n",
    "* Optimized for ArcGIS Pro and Python 3\n",
    "* Used to easily and quickly write and run code directly in ArcGIS Pro\n",
    "\n",
    "\n",
    "### Python in ArcGIS Notebooks\n",
    "\n",
    "* Can perform analysis and immediately view results in a geographic context, interact with the emerging data, document and automate your workflow, and save it for later use or share it\n",
    "* ALL Python functionality in ArcGIS Pro is available through ArcGIS Notebooks\n",
    "* Provides access to content in your map allowing for interactive workflows\n",
    "\n",
    "\n",
    "### Markdown and HTML in ArcGIS Notebooks\n",
    "\n",
    "* ArcGIS Notebooks utilize Markdown and HTML markup languages to format Markdown cells in a Notebook\n",
    "* Markdown:\n",
    "    * Lightweight markup language that you can use to add formatting elements to plaintext text documents\n",
    "    * One of the world’s most popular markup languages\n",
    "    * Markdown syntax is added to text to indicate which words and phrases should look different\n",
    "* HTML:\n",
    "    * Stands for Hyper Text Markup Language\n",
    "    * The standard markup language for creating Web pages\n",
    "    * Describes the structure of a Web page and tell the browser how to display the content\n",
    "* This Notebook uses Markdown and HTML **EXTENSIVLEY** to make it look the way it does!\n",
    "* We will not go over Markdown in detail, but will a little bit\n",
    "\n",
    "\n",
    "**See:**\n",
    "* **[ArcGIS Notebooks Get Started](https://pro.arcgis.com/en/pro-app/arcpy/get-started/pro-notebooks.htm)**\n",
    "* **[The Markdown Guide](https://www.markdownguide.org/)**\n",
    "* **[W3 Schools HTML Tutorial](https://www.w3schools.com/html/html_intro.asp)**"
   ]
  },
  {
   "cell_type": "markdown",
   "metadata": {},
   "source": [
    "### Create a new ArcGIS Notebook"
   ]
  },
  {
   "cell_type": "markdown",
   "metadata": {},
   "source": [
    "<img style=\"float: right; padding: 20px\" alt=\"ArcGIS Notebook\" width=\"539px\" src=\"https://pro.arcgis.com/en/pro-app/latest/arcpy/get-started/GUID-A23406B5-1690-4694-AC77-6A18D3E8F18C-web.png\" />\n",
    "\n",
    "* Click the **Insert** tab, and click the **New Notebook** dropdown, and click <img style=\"display: inline-block; vertical-align: bottom;\" alt=\"New Notebook\" title=\"New Notebook\" src=\"https://pro.arcgis.com/en/pro-app/latest/arcpy/get-started/GUID-81D9C66A-5C7F-49D4-9F62-0CDDD212114F-web.png\" width=\"20\"> **New Notebook**\n",
    "* In the **Catalog Pane**, **right-click on the folder** where you want to create it, click **New** (at the top), the click <img style=\"display: inline-block; vertical-align: bottom;\" alt=\"New Notebook\" title=\"New Notebook\" src=\"https://pro.arcgis.com/en/pro-app/arcpy/get-started/GUID-81D9C66A-5C7F-49D4-9F62-0CDDD212114F-web.png\" width=\"20\"> **Notebook**\n",
    "\n",
    "#### **We will be using ArcGIS Notebooks for nearly all our coding int he workshop!!!**\n",
    "#### **I will go over tips and tricks as we go!**"
   ]
  },
  {
   "cell_type": "markdown",
   "metadata": {},
   "source": [
    "## Python Window\n",
    "[**Top**](#Outline)"
   ]
  },
  {
   "cell_type": "markdown",
   "metadata": {},
   "source": [
    "* Allows for running geoprocessing tools while also taking advantage of other Python modules and libraries\n",
    "* Can be used for single-line code (e.g., for geoprocessing tools)\n",
    "* Can be used for testing syntax and longer, more complex scripts that might be used for automating workflows\n",
    "* Available in both ArcGIS Pro and ArcMap\n",
    "* Replaces the Command Line from earlier releases of ArcGIS (pre-10.x)\n",
    "\n",
    "**See [Python Window](https://pro.arcgis.com/en/pro-app/arcpy/get-started/python-window.htm)**"
   ]
  },
  {
   "cell_type": "markdown",
   "metadata": {},
   "source": [
    "### Open the Python Window"
   ]
  },
  {
   "cell_type": "markdown",
   "metadata": {},
   "source": [
    "<img style=\"float: right; padding: 20px\" alt=\"ArcGIS Pro Python Window\" width=\"514px\" src=\"https://pro.arcgis.com/en/pro-app/arcpy/get-started/GUID-1EB12362-97FD-4E0E-A371-A0B857B1BD86-web.png\" />\n",
    "\n",
    "* Click the **View** tab, and click the <img style=\"display: inline-block; vertical-align: bottom;\" alt=\"New Notebook\" title=\"New Notebook\" src=\"https://pro.arcgis.com/en/pro-app/latest/arcpy/get-started/GUID-F74F7524-FFFD-4C0E-9B52-CB4BA5A9DAC9-web.png\" width=\"25\"> **Python Window** button\n",
    "* Dock the Python Window to the bottom of ArcGIS Pro and Hide it\n",
    "\n",
    "#### Python Window Components\n",
    "\n",
    "* Bottom section is the interactive Python prompt\n",
    "  * This is where code is entered\n",
    "\n",
    "* Top section is the transcript of the code ran and the output\n",
    "\n",
    "* Code is generally executed one line at a time and displayed immediately. Exceptions include:\n",
    "  * Multi-line constructs (such as `if` statements)\n",
    "  * Hitting ENTER at the end of multi-line code will run it (you may need to hit ENTER a few times when you are ready to run the code)\n",
    "  * Shift + Enter will allow multiple lines to be written\n",
    "\n",
    "* Other features of the Python window\n",
    "  * Autocompletion\n",
    "  * Conditional and Iteration execution\n",
    "  * Scripts can be saved and reused or opened with another code editor"
   ]
  },
  {
   "cell_type": "markdown",
   "metadata": {},
   "source": [
    "## Following Along..."
   ]
  },
  {
   "cell_type": "markdown",
   "metadata": {},
   "source": [
    "* The screen may be hard to see...so have everything open on your screen to follow along.\n",
    "* Turn Line Numbers on:\n",
    "    * On the Notebook, click **View** and click **Toggle Line Numbers**\n",
    "    * This will help reference specific lines of code when I want to point out something, or if you have a question\n",
    "* Toggle between applications and ArcGIS Pro Views\n",
    "    * Use Alt + Tab keyboard shortcut to toggle between application windows\n",
    "    * Use Ctrl + Tab to toggle between ArcGIS Pro Views (this also works in browsers to toggle between tabs!)\n",
    "\n",
    "<p style=\"text-align: center; font-size: x-large; font-weight: bold; line-height: 1.25;\">A word on keyboard shortcuts...<br>LEARN THEM AND USE THEM!!!<br>I will point some out as we go along.</p>"
   ]
  },
  {
   "cell_type": "markdown",
   "metadata": {},
   "source": [
    "# III. Python Basics\n",
    "---\n",
    "[**Top**](#Outline)"
   ]
  },
  {
   "cell_type": "markdown",
   "metadata": {},
   "source": [
    "## What is Python?\n",
    "[**Top**](#Outline)"
   ]
  },
  {
   "cell_type": "markdown",
   "metadata": {},
   "source": [
    "* Python is an interpreted, object-oriented, high-level programming language with dynamic semantics\n",
    "* Good for scripting and for application development\n",
    "* Simple, easy to learn syntax emphasizing readability (**Great for beginners!!!**)\n",
    "* Has high-level built in data structures\n",
    "* Supports modules, libraries, and packages, which encourages program modularity and code reuse\n",
    "* Increases productivity due to no compilation step\n",
    "* Debugging Python programs is easy; often the quickest way to debug a program is to add a few `print` statements to the code\n",
    "* Open-source and freely distributed\n",
    "\n",
    "**See [Python Software Foundation: What is Python Executive Summary](https://www.python.org/doc/essays/blurb/) for more information**\n",
    "\n",
    "**See [Python in ArcGIS Pro](https://pro.arcgis.com/en/pro-app/latest/arcpy/get-started/installing-python-for-arcgis-pro.htm)**"
   ]
  },
  {
   "cell_type": "markdown",
   "metadata": {},
   "source": [
    "### Some General Notes and Tips "
   ]
  },
  {
   "cell_type": "markdown",
   "metadata": {},
   "source": [
    "* Learning a programming language is like learning a new foreign language\n",
    "    * There is grammar, or syntax\n",
    "    * There is vocabulary, or tools, functions, methods, and modules\n",
    "    * It's a new way of thinking\n",
    "* People will refer to good code as being *'Pythonic'*\n",
    "* Just like in ArcGIS, there is more than one way to do many things!\n",
    "* Python and ArcGIS documentation sources are invaluable!!\n",
    "    * You should reference them often and always have them ready when you are actively coding!!\n",
    "    * Developing the skills to read and understand documentation is ESSENTIAL!!\n",
    "    * Developing the skills to search for Python code examples is also ESSENTIAL!! Why write code when someone has already done for you!\n",
    "\n",
    "**Disclaimer: The way I teach Python is specific to ArcGIS and covers the most important elements I have found to be helpful for beginners. Other Python instructors might emphasize other aspects more than I may.**"
   ]
  },
  {
   "cell_type": "markdown",
   "metadata": {},
   "source": [
    "### Print Function\n",
    "[**Top**](#Outline)"
   ]
  },
  {
   "cell_type": "markdown",
   "metadata": {},
   "source": [
    "* What is the `print()` function?\n",
    "    * A way to make your script talk back to you\n",
    "    * A way to see what a variable is\n",
    "    * It is used frequently!!\n",
    "\n",
    "\n",
    "* How to use the print function\n",
    "    * Type `print()`*\n",
    "    * Add the variable or string within the parentheses `()`\n",
    "\n",
    "**Using just `print` without `()` is improper syntax in Python 3. In Python 2 `print` without `()` is actually proper syntax. You should be aware of this if you are working with older code intended for Python 2.**"
   ]
  },
  {
   "cell_type": "code",
   "execution_count": null,
   "metadata": {},
   "outputs": [],
   "source": [
    "# Click Run above to run the code\n",
    "# Or hit Ctrl + Enter on the keyboard!\n",
    "\n",
    "# This WILL work in Python 2 and Python 3!!!\n",
    "print('Python is so cool!')"
   ]
  },
  {
   "cell_type": "code",
   "execution_count": null,
   "metadata": {
    "scrolled": true
   },
   "outputs": [],
   "source": [
    "# This WILL NOT work in Python 3 (i.e., ArcGIS Pro)\n",
    "print 'Python is so cool!'"
   ]
  },
  {
   "cell_type": "code",
   "execution_count": null,
   "metadata": {},
   "outputs": [],
   "source": [
    "# Printing multiple arguments\n",
    "import os # We'll talk about this later!!\n",
    "print('My name is', os.getlogin(), 'and I am', 40)"
   ]
  },
  {
   "cell_type": "markdown",
   "metadata": {},
   "source": [
    "#### Your turn!\n",
    "\n",
    "1. Add a new cell below \n",
    "2. Type a `print` statement!"
   ]
  },
  {
   "cell_type": "markdown",
   "metadata": {},
   "source": [
    "### Variables\n",
    "[**Top**](#Outline)"
   ]
  },
  {
   "cell_type": "markdown",
   "metadata": {},
   "source": [
    "* What is a variable?\n",
    "    * Reserved memory locations to store values for repeated use in the code\n",
    "    * When you create a variable you reserve space in memory for the value\n",
    "    * Stored as a specific data type (e.g., string, integer, floating point, list, dictionary, etc.)\n",
    "    * Value and data type can be changed, or reassigned, very simply\n",
    "\n",
    "* How to set, or declare, a variable\n",
    "    * No explicit declaration needed\n",
    "    * Type a descriptive word that represent what you want to store for use later\n",
    "    * Type the equals sign: `=`\n",
    "    * Type what the variable equals"
   ]
  },
  {
   "cell_type": "code",
   "execution_count": null,
   "metadata": {},
   "outputs": [],
   "source": [
    "# Create variables\n",
    "food = 'cheese'\n",
    "food_count = 6"
   ]
  },
  {
   "cell_type": "code",
   "execution_count": null,
   "metadata": {},
   "outputs": [],
   "source": [
    "print(food)\n",
    "print(food_count)"
   ]
  },
  {
   "cell_type": "markdown",
   "metadata": {},
   "source": [
    "#### Cool tips..."
   ]
  },
  {
   "cell_type": "code",
   "execution_count": null,
   "metadata": {},
   "outputs": [],
   "source": [
    "# Create multiple variables\n",
    "food, food_count = 'bread', 100"
   ]
  },
  {
   "cell_type": "code",
   "execution_count": null,
   "metadata": {},
   "outputs": [],
   "source": [
    "print(food)\n",
    "print(food_count)"
   ]
  },
  {
   "cell_type": "code",
   "execution_count": null,
   "metadata": {},
   "outputs": [],
   "source": [
    "# Make mulitple variables the same value\n",
    "food1 = food2 = food3 = 'banana'"
   ]
  },
  {
   "cell_type": "code",
   "execution_count": null,
   "metadata": {},
   "outputs": [],
   "source": [
    "print(food1)\n",
    "print(food2)\n",
    "print(food3)"
   ]
  },
  {
   "cell_type": "markdown",
   "metadata": {},
   "source": [
    "### Basic Data Types\n",
    "[**Top**](#Outline)"
   ]
  },
  {
   "cell_type": "markdown",
   "metadata": {},
   "source": [
    "| Data Type | Examples |\n",
    "|:--- |:---|\n",
    "| String | **`“cheese”`** or **`'Food Time'`** |\n",
    "| Integer Number | **`68`** or **`23456`** or **`0`** |\n",
    "| Float Number | **`345.67`** or **`28.1`** or **`98.0`** |\n",
    "| Boolean | **`True`** or **`False`** |\n",
    "| List | **`[“apple”, “orange”]`** |\n",
    "| Tuple | **`(“apple”, “orange”)`** |\n",
    "| Dictionary | **`{“lat”:39.799, “lon”:-89.64}`** |"
   ]
  },
  {
   "cell_type": "markdown",
   "metadata": {
    "collapsed": true,
    "jupyter": {
     "outputs_hidden": true
    }
   },
   "source": [
    "### Strings\n",
    "[**Top**](#Outline)"
   ]
  },
  {
   "cell_type": "markdown",
   "metadata": {
    "collapsed": true,
    "jupyter": {
     "outputs_hidden": true
    }
   },
   "source": [
    "* What is a string?\n",
    "    * Contiguous set of characters represented in quotation marks\n",
    "    * Simply put, it is text values\n",
    "    * Number characters are not treated like numbers (i.e., `1 != '1'`)\n",
    "\n",
    "\n",
    "* What can you do with a string?\n",
    "    * Concatenation\t(ex: `'cheese ' + 'whiz'` will equal `'cheese whiz'`) *Note the space!!*\n",
    "        * Plus (+) sign is the string concatenation operator (can only operate on all string values: `'cheese' + 1` is an error)\n",
    "        * Asterisk (*) is the repetition operator: `'cheese' ** 3` is `'cheesecheesecheese'`\n",
    "\n",
    "    * Slicing (e.g.:  `'cheese'[1:4]` will equal `'hee'` as the index starts a 0)\n",
    "\n",
    "| String Slicing |\n",
    "|:---: |\n",
    "| ![Python Slicing](https://github.com/whitacrej/Python-for-ArcGIS/blob/main/Notebooks/Images/string_slice.png?raw=true) |"
   ]
  },
  {
   "cell_type": "code",
   "execution_count": null,
   "metadata": {
    "scrolled": true
   },
   "outputs": [],
   "source": [
    "# Test math with strings?? Yup! Concatenation!\n",
    "print('cheese ' + 'whiz') # Note the space...\n",
    "print('cheese' * 3) # Note no space..."
   ]
  },
  {
   "cell_type": "code",
   "execution_count": null,
   "metadata": {
    "scrolled": true
   },
   "outputs": [],
   "source": [
    "# Test some slicing operations\n",
    "print('cheese'[1:4])"
   ]
  },
  {
   "cell_type": "code",
   "execution_count": null,
   "metadata": {
    "scrolled": true
   },
   "outputs": [],
   "source": [
    "print('cheese'[:2])"
   ]
  },
  {
   "cell_type": "code",
   "execution_count": null,
   "metadata": {
    "scrolled": true
   },
   "outputs": [],
   "source": [
    "print('cheese'[:-2])"
   ]
  },
  {
   "cell_type": "code",
   "execution_count": null,
   "metadata": {
    "scrolled": true
   },
   "outputs": [],
   "source": [
    "print('cheese'[2:])"
   ]
  },
  {
   "cell_type": "code",
   "execution_count": null,
   "metadata": {
    "scrolled": true
   },
   "outputs": [],
   "source": [
    "print('cheese'[-2:])"
   ]
  },
  {
   "cell_type": "markdown",
   "metadata": {
    "collapsed": true,
    "jupyter": {
     "outputs_hidden": true
    }
   },
   "source": [
    "### Numbers\n",
    "[**Top**](#Outline)"
   ]
  },
  {
   "cell_type": "markdown",
   "metadata": {
    "collapsed": true,
    "jupyter": {
     "outputs_hidden": true
    }
   },
   "source": [
    "* Number datatypes store numeric values that act like numbers (e.g., for math operations)\n",
    "\n",
    "\n",
    "* **Integer**: Number **without** decimal\n",
    "\n",
    "\n",
    "* **Float**: Number **with** decimal\n",
    "\n",
    "\n",
    "* What can you do with numbers?\n",
    "    * Simple math - e.g: `5 + 7 – 3`\n",
    "    * Math with variables - e.g.:\n",
    "        \n",
    "```python\n",
    "\n",
    "    three = 3\n",
    "    5 + 7 – three\n",
    "```\n",
    "\n",
    "\n",
    "**In ArcGIS, feature class attribute tables will have long and short integers and float and double precision numbers. In Python, integers are treated like long and float is treated like double precision.**"
   ]
  },
  {
   "cell_type": "code",
   "execution_count": null,
   "metadata": {},
   "outputs": [],
   "source": [
    "# All integers\n",
    "print(5 + 7 - 3)"
   ]
  },
  {
   "cell_type": "code",
   "execution_count": null,
   "metadata": {},
   "outputs": [],
   "source": [
    "# Float!\n",
    "three = 3.3\n",
    "print(type(three))"
   ]
  },
  {
   "cell_type": "code",
   "execution_count": null,
   "metadata": {},
   "outputs": [],
   "source": [
    "# Converts to a float...\n",
    "print(5 + 7 - three)"
   ]
  },
  {
   "cell_type": "markdown",
   "metadata": {
    "collapsed": true,
    "jupyter": {
     "outputs_hidden": true
    }
   },
   "source": [
    "### Booleans\n",
    "[**Top**](#Outline)"
   ]
  },
  {
   "cell_type": "markdown",
   "metadata": {
    "collapsed": true,
    "jupyter": {
     "outputs_hidden": true
    }
   },
   "source": [
    "* Boolean values are `True` or `False`\n",
    "* Used for evaluating whether something is `True` or `False`\n",
    "* The following will be evaluated as `False`:\n",
    "    * `None`\n",
    "    * `False`\n",
    "    * Zero of any numeric type (i.e., `0`)\n",
    "    * Any empty sequence (e.g., `''`,`()`,`[]`)\n",
    "    * Any empty dictionary (e.g., `{}`)\n",
    "* Use the `bool()` function to evaluate a variable's Boolean value"
   ]
  },
  {
   "cell_type": "code",
   "execution_count": null,
   "metadata": {},
   "outputs": [],
   "source": [
    "# What Boolean value will each variable evaluate to? \n",
    "a = True # Note Title Case!\n",
    "print(bool(a))"
   ]
  },
  {
   "cell_type": "code",
   "execution_count": null,
   "metadata": {},
   "outputs": [],
   "source": [
    "b = 'False'\n",
    "print(bool(b))"
   ]
  },
  {
   "cell_type": "code",
   "execution_count": null,
   "metadata": {},
   "outputs": [],
   "source": [
    "c = ''\n",
    "print(bool(c))"
   ]
  },
  {
   "cell_type": "code",
   "execution_count": null,
   "metadata": {},
   "outputs": [],
   "source": [
    "d = 0\n",
    "print(bool(d))"
   ]
  },
  {
   "cell_type": "code",
   "execution_count": null,
   "metadata": {},
   "outputs": [],
   "source": [
    "e = 1 # Try negative 1!\n",
    "print(bool(e))"
   ]
  },
  {
   "cell_type": "code",
   "execution_count": null,
   "metadata": {},
   "outputs": [],
   "source": [
    "f = [1]\n",
    "print(bool(f))"
   ]
  },
  {
   "cell_type": "code",
   "execution_count": null,
   "metadata": {},
   "outputs": [],
   "source": [
    "g = []\n",
    "print(bool(g))"
   ]
  },
  {
   "cell_type": "markdown",
   "metadata": {},
   "source": [
    "### Lists\n",
    "[**Top**](#Outline)"
   ]
  },
  {
   "cell_type": "markdown",
   "metadata": {},
   "source": [
    "* What is a list?\n",
    "    * Series of ordered items or objects\n",
    "    * Compound data type\n",
    "    * Enclosed by square brackets `[]` and items separated with commas `,`\n",
    "    * Lists are mutable (i.e., items and number of items can be changed, replaced, added, or deleted)\n",
    "\n",
    "\n",
    "* How are lists used?\n",
    "    * Find one or a range of items\n",
    "```python\n",
    "\n",
    "        fruit_list = ['apples', 'oranges', 'bananas']\n",
    "        fruit_list[1] # returns oranges\n",
    "        fruit_list[1:2] # returns ['oranges']\n",
    "        fruit_list[1:3] # returns ['oranges', 'bananas']\n",
    "```\n",
    "\n",
    "    * Iterate through it (use a loop)\n",
    "```python\n",
    "\n",
    "        fruit_list = ['apples', 'oranges', 'bananas']\n",
    "\n",
    "        for fruit in fruit_list:\n",
    "        # Do something...\n",
    "            print(fruit)\n",
    "```\n",
    "    * Change list values\n",
    "```python\n",
    "\n",
    "        fruit_list[1] = 'peaches'\n",
    "        fruit_list.append('cherries')\n",
    "        fruit_list.remove('apples')\n",
    "\n",
    "        print(fruit_list) # returns ['peaches', 'bananas', 'cherries']\n",
    "```\n",
    "\n",
    "**See [Tutorials Point: Python - Lists](https://www.tutorialspoint.com/python/python_lists.htm)**"
   ]
  },
  {
   "cell_type": "code",
   "execution_count": null,
   "metadata": {},
   "outputs": [],
   "source": [
    "# Create a list\n",
    "fruit_list = ['apples', 'oranges', 'bananas']\n",
    "print(fruit_list)"
   ]
  },
  {
   "cell_type": "code",
   "execution_count": null,
   "metadata": {},
   "outputs": [],
   "source": [
    "# How long is the list?\n",
    "print(len(fruit_list))"
   ]
  },
  {
   "cell_type": "code",
   "execution_count": null,
   "metadata": {},
   "outputs": [],
   "source": [
    "# Test list slicing\n",
    "print(fruit_list[1])"
   ]
  },
  {
   "cell_type": "code",
   "execution_count": null,
   "metadata": {},
   "outputs": [],
   "source": [
    "print(fruit_list[-1])"
   ]
  },
  {
   "cell_type": "code",
   "execution_count": null,
   "metadata": {},
   "outputs": [],
   "source": [
    "# Why does this look different?\n",
    "print(fruit_list[1:2])"
   ]
  },
  {
   "cell_type": "code",
   "execution_count": null,
   "metadata": {},
   "outputs": [],
   "source": [
    "print(fruit_list[1:3])"
   ]
  },
  {
   "cell_type": "code",
   "execution_count": null,
   "metadata": {},
   "outputs": [],
   "source": [
    "# Iterate over the list with a for loop...more on this later        \n",
    "for fruit in fruit_list:\n",
    "    print(fruit)"
   ]
  },
  {
   "cell_type": "code",
   "execution_count": null,
   "metadata": {},
   "outputs": [],
   "source": [
    "# Change the list...\n",
    "fruit_list[1] = 'peaches'\n",
    "fruit_list.append('cherries') # This is called a 'Method'...more on that later!\n",
    "fruit_list.remove('apples')\n",
    "del fruit_list[1]"
   ]
  },
  {
   "cell_type": "code",
   "execution_count": null,
   "metadata": {},
   "outputs": [],
   "source": [
    "# What happened to the original fruits?\n",
    "print(fruit_list)"
   ]
  },
  {
   "cell_type": "markdown",
   "metadata": {},
   "source": [
    "### Tuples\n",
    "[**Top**](#Outline)"
   ]
  },
  {
   "cell_type": "markdown",
   "metadata": {},
   "source": [
    "* What is a tuple?\n",
    "    * Similar to a list, but enclosed by parentheses `()`\n",
    "    * Immutable (i.e., not changeable; read-only)\n",
    "\n",
    "\n",
    "* How are tuples used?\n",
    "    * Find one or a range of items\n",
    "```python\n",
    "\n",
    "        fruit_tuple = ('apples', 'oranges', 'bananas')\n",
    "        fruit_tuple[1] # returns oranges\n",
    "        fruit_tuple[1:2] # returns (oranges,)\n",
    "        fruit_tuple[1:3] # returns (oranges, bananas)\n",
    "```\n",
    "    * Iterate through it (use a loop)\n",
    "```python\n",
    "\n",
    "        fruit_tuple = ('apples', 'oranges', 'bananas'])\n",
    "\n",
    "        for fruit in fruit_tuple:\n",
    "        # Do something...\n",
    "            print(fruit)\n",
    "```\n",
    "\n",
    "**Tuples are important when you need to preserve data that you don't want to change. In ArcGIS, cursors always create tuples for this reason...more on that later.**"
   ]
  },
  {
   "cell_type": "code",
   "execution_count": null,
   "metadata": {},
   "outputs": [],
   "source": [
    "# Create a tuple\n",
    "fruit_tuple = ('apples', 'oranges', 'bananas')\n",
    "print(fruit_tuple)"
   ]
  },
  {
   "cell_type": "code",
   "execution_count": null,
   "metadata": {},
   "outputs": [],
   "source": [
    "# Test tuple slicing\n",
    "print(fruit_tuple[1])"
   ]
  },
  {
   "cell_type": "code",
   "execution_count": null,
   "metadata": {},
   "outputs": [],
   "source": [
    "print(fruit_tuple[1:2]) # Is there a comma at the end? Why is that?"
   ]
  },
  {
   "cell_type": "code",
   "execution_count": null,
   "metadata": {},
   "outputs": [],
   "source": [
    "print(fruit_tuple[1:3])"
   ]
  },
  {
   "cell_type": "code",
   "execution_count": null,
   "metadata": {},
   "outputs": [],
   "source": [
    "# Iterate over the tuple with a for loop...more on this later        \n",
    "for fruit in fruit_tuple:\n",
    "    print(fruit)"
   ]
  },
  {
   "cell_type": "code",
   "execution_count": null,
   "metadata": {},
   "outputs": [],
   "source": [
    "# Try to assign a value to a index 1 of the tuple...oops!\n",
    "fruit_tuple[1] = 'peaches' # Invalid syntax with tuple, this will produce an error, but it will work for a list"
   ]
  },
  {
   "cell_type": "markdown",
   "metadata": {},
   "source": [
    "### Sets\n",
    "[**Top**](#Outline)"
   ]
  },
  {
   "cell_type": "markdown",
   "metadata": {},
   "source": [
    "* What is a set?\n",
    "    * Unordered collection with no duplicate elements\n",
    "    * Curly braces `{}` or the `set()` function can be used to create sets\n",
    "    * Note: to create an empty set you have to use `set()`, not `{}`; the latter creates an empty dictionary, a data structure that we discuss in the next section.\n",
    "\n",
    "* How are sets uses?\n",
    "    * Basic uses include membership testing and eliminating duplicate entries\n",
    "```python\n",
    "\n",
    "        basket = {'apple', 'orange', 'apple', 'pear', 'orange', 'banana'} # Returns unique list items (i.e., no duplicates: {'orange', 'banana', 'pear', 'apple'}\n",
    "\n",
    "        basket_list = ['apple', 'orange', 'apple', 'pear', 'orange', 'banana']\n",
    "        basket = set(basket_list) # Converts a list to a set and returns unique list items: {'orange', 'banana', 'pear', 'apple'}\n",
    "\n",
    "        unique_chars = set('abracadabra') # Returns unique characters: {'a', 'r', 'b', 'c', 'd'} (Are the characters in order?)\n",
    "```\n",
    "\n",
    "    * Set objects also support mathematical operations like union, intersection, difference, and symmetric difference.\n",
    "```python\n",
    "\n",
    "        a = set('abracadabra')\n",
    "        b = set('alacazam')\n",
    "\n",
    "        print(a) # Returns unique letters in a: {'a', 'r', 'b', 'c', 'd'}\n",
    "\n",
    "        print(a - b) # Returns letters in a but not in b (difference): {'r', 'd', 'b'}\n",
    "\n",
    "        print(a | b) # Returns letters in a or b or both (union): {'a', 'c', 'r', 'd', 'b', 'm', 'z', 'l'}\n",
    "\n",
    "        print(a & b) # Returns letters in both a and b (intersect): {'a', 'c'}\n",
    "\n",
    "        print(a ^ b) # Returns letters in a or b but not both (symmetric difference): {'r', 'd', 'b', 'm', 'z', 'l'}\n",
    "```\n",
    "\n",
    "**Note: Sets are good to know about, but we will not work with them in much detail in this workshop.**"
   ]
  },
  {
   "cell_type": "code",
   "execution_count": null,
   "metadata": {},
   "outputs": [],
   "source": [
    "# Create a set...this is uncommon\n",
    "basket_set = {'apple', 'orange', 'apple', 'pear', 'orange', 'banana'}\n",
    "print(basket_set)"
   ]
  },
  {
   "cell_type": "code",
   "execution_count": null,
   "metadata": {},
   "outputs": [],
   "source": [
    "# Convert a list to a set...this is VERY common!\n",
    "basket_list = ['apple', 'orange', 'apple', 'pear', 'orange', 'banana']\n",
    "basket_set = set(basket_list)\n",
    "print(basket_set)"
   ]
  },
  {
   "cell_type": "code",
   "execution_count": null,
   "metadata": {},
   "outputs": [],
   "source": [
    "# Convert a set to a list...this is also VERY common!\n",
    "basket_list_unique = list(basket_set)\n",
    "print(basket_list_unique)"
   ]
  },
  {
   "cell_type": "code",
   "execution_count": null,
   "metadata": {},
   "outputs": [],
   "source": [
    "# Test if a value is in the set\n",
    "print('orange' in basket_set)\n",
    "print('crabgrass' in basket_set)"
   ]
  },
  {
   "cell_type": "code",
   "execution_count": null,
   "metadata": {},
   "outputs": [],
   "source": [
    "# Perform set operations on unique letters from two words\n",
    "a = set('abracadabra')\n",
    "b = set('alacazam')\n",
    "\n",
    "print(a)\n",
    "print(b)"
   ]
  },
  {
   "cell_type": "code",
   "execution_count": null,
   "metadata": {},
   "outputs": [],
   "source": [
    "# Difference (in a, not in b \n",
    "print(a - b)"
   ]
  },
  {
   "cell_type": "code",
   "execution_count": null,
   "metadata": {},
   "outputs": [],
   "source": [
    "# Union (in a or b)\n",
    "print(a | b)"
   ]
  },
  {
   "cell_type": "code",
   "execution_count": null,
   "metadata": {},
   "outputs": [],
   "source": [
    "# Intersect (in a and b)\n",
    "print(a & b)"
   ]
  },
  {
   "cell_type": "code",
   "execution_count": null,
   "metadata": {},
   "outputs": [],
   "source": [
    "# Symmetric difference (not (in a and b))\n",
    "print(a ^ b)"
   ]
  },
  {
   "cell_type": "markdown",
   "metadata": {},
   "source": [
    "### Dictionaries\n",
    "[**Top**](#Outline)"
   ]
  },
  {
   "cell_type": "markdown",
   "metadata": {},
   "source": [
    "* What is a dictionary?\n",
    "    * An ordered set of `key:value` pairs enclosed by curly brackets `{}`\n",
    "        * [As of version 3.7, dictionaries are ordered](https://docs.python.org/3.7/whatsnew/3.7.html). They were unordered previously!\n",
    "    * Indexed by **Keys** that must be unique values and are typically strings (i.e., in quotes), but can be other Python data types\n",
    "    * Each key is a **Value** that can be any Python object\n",
    "    * Sometimes referred to as 'associative memories' or 'associative arrays'\n",
    "\n",
    "\n",
    "* How are dictionaries used?\n",
    "    * Find the value that goes with a key\n",
    "```python\n",
    "\n",
    "        dict_ex = {'key':'value', 'lat':39.98, 'long': -89.65}\n",
    "        dict_ex['key'] # Returns value\n",
    "        dict_ex['lat'] # Returns 39.98\n",
    "        dict_ex['long'] # Returns -89.65\n",
    "```\n",
    "    * Get a list of keys\n",
    "```python\n",
    "\n",
    "        dict_ex.keys() # Returns dict_keys(['key', 'lat', 'long'])\n",
    "        list(dict_ex) # Returns ['key', 'lat', 'long']\n",
    "```\n",
    "\n",
    "    * Get a list of values\n",
    "```python\n",
    "\n",
    "        dict_ex.values() # returns ['value', 39.98, -89.65]\n",
    "```\n",
    "\n",
    "    \n",
    "**Note: Dictionaries are good to know about, but we will not work with them in much detail in this workshop.**"
   ]
  },
  {
   "cell_type": "code",
   "execution_count": null,
   "metadata": {},
   "outputs": [],
   "source": [
    "# Create a dictionary\n",
    "dict_ex = {'key':'value', 'lat':39.98, 'long': -89.65}"
   ]
  },
  {
   "cell_type": "code",
   "execution_count": null,
   "metadata": {},
   "outputs": [],
   "source": [
    "# Get dictionary values by key\n",
    "print(dict_ex['key'])\n",
    "print(dict_ex['lat'])\n",
    "print(dict_ex['long'])"
   ]
  },
  {
   "cell_type": "code",
   "execution_count": null,
   "metadata": {},
   "outputs": [],
   "source": [
    "# Get dictionary keys\n",
    "print(dict_ex.keys())\n",
    "print(list(dict_ex))"
   ]
  },
  {
   "cell_type": "code",
   "execution_count": null,
   "metadata": {},
   "outputs": [],
   "source": [
    "# Get all dictionary values\n",
    "print(dict_ex.values())"
   ]
  },
  {
   "cell_type": "markdown",
   "metadata": {
    "collapsed": true,
    "jupyter": {
     "outputs_hidden": true
    }
   },
   "source": [
    "## Data Type Conversion\n",
    "[**Top**](#Outline)"
   ]
  },
  {
   "cell_type": "markdown",
   "metadata": {
    "collapsed": true,
    "jupyter": {
     "outputs_hidden": true
    }
   },
   "source": [
    "* Converting between data types is common\n",
    "* There are built-in functions to deal with this\n",
    "* Example: You want to concatenate a numerical value into a string\n",
    "* There are also functions to determine what the data type is of a variable"
   ]
  },
  {
   "cell_type": "code",
   "execution_count": null,
   "metadata": {},
   "outputs": [],
   "source": [
    "# Run the following code...What happens?\n",
    "x = 99\n",
    "print(\"There are \" + x + \" files.\")"
   ]
  },
  {
   "cell_type": "code",
   "execution_count": null,
   "metadata": {},
   "outputs": [],
   "source": [
    "# Change x to be str(x)\n",
    "print(\"There are \" + str(x) + \" files.\")"
   ]
  },
  {
   "cell_type": "code",
   "execution_count": null,
   "metadata": {},
   "outputs": [],
   "source": [
    "# Create different data type variables \n",
    "x = 99\n",
    "s = \"99\"\n",
    "l = [s, x]\n",
    "t = (s, x)"
   ]
  },
  {
   "cell_type": "code",
   "execution_count": null,
   "metadata": {},
   "outputs": [],
   "source": [
    "# Convert variable\n",
    "print(type(x))\n",
    "print([str(x)])"
   ]
  },
  {
   "cell_type": "code",
   "execution_count": null,
   "metadata": {},
   "outputs": [],
   "source": [
    "print(type(s))\n",
    "print([int(s)])"
   ]
  },
  {
   "cell_type": "code",
   "execution_count": null,
   "metadata": {},
   "outputs": [],
   "source": [
    "print(type(l))\n",
    "print(tuple(l))"
   ]
  },
  {
   "cell_type": "code",
   "execution_count": null,
   "metadata": {},
   "outputs": [],
   "source": [
    "print(type(t))\n",
    "print(list(t))"
   ]
  },
  {
   "cell_type": "code",
   "execution_count": null,
   "metadata": {},
   "outputs": [],
   "source": [
    "# Sometimes there can be errors!!\n",
    "er = '99/100'\n",
    "print([int(er)])"
   ]
  },
  {
   "cell_type": "markdown",
   "metadata": {},
   "source": [
    "## Simple Math with Python\n",
    "[**Top**](#Outline)"
   ]
  },
  {
   "cell_type": "markdown",
   "metadata": {},
   "source": [
    "### Python Arithmetic Operators\n",
    "\n",
    "| Operator | Description | Example |\n",
    "|:--- |:---|:---:|\n",
    "| `+` Addition | Adds values on either side of the operator. | `a + b = 30` |\n",
    "| `-` Subtraction | Subtracts right hand operand from left hand operand. | `a – b = -10` |\n",
    "| `*` Multiplication | Multiplies values on either side of the operator | `a * b = 200` |\n",
    "| `/` Division | Divides left hand operand by right hand operand | `b / a = 2` |\n",
    "| `%` Modulus | Divides left hand operand by right hand operand and returns remainder | `b % a = 0` |\n",
    "| `**` Exponent | Performs exponential (power) calculation on operators | `a**b =10 to the power 20` |\n",
    "| `//` Floor Division | The division of operands where the result is the quotient in which the digits after the decimal point are removed. But if one of the operands is negative, the result is floored, i.e., rounded away from zero (towards negative infinity): | `9//2 = 4 and 9.0//2.0 = 4.0, -11//3 = -4, -11.0//3 = -4.0` |\n",
    "\n",
    "\n",
    "### More Examples\n",
    "\n",
    "|Operator | Explanation | Example | Result |\n",
    "|:---:|:--- |:---:|:---:|\n",
    "| `x + y` | x plus y | `1.5 + 2.5` | `4.0` |\n",
    "| `x - y` | x minus y | `3.3 - 2.2` | `1.1` |\n",
    "| `x * y` | x times y | `2.0 * 2.2` |  `4.4` |\n",
    "| `x / y` | x divided by y | `4.0 / 1.25` | `3.2` |\n",
    "| `x // y` | x divided by y (floor division) | `4.0 // 1.25`| `3.0` |\n",
    "| `x % y` | x modulo y | `8 % 3` | `2` |\n",
    "| `-x` | negative expression of x | `x = 5; -x` | `-5` |\n",
    "| `+x` | x is unchanged | `x = 5; +x` | `5` |\n",
    "| `x ** y` | x raised to the power of y | `2 ** 3` | `8` | \n",
    "\n",
    "\n",
    "**Source: [Calculate Field Python examples](https://pro.arcgis.com/en/pro-app/latest/tool-reference/data-management/calculate-field-examples.htm)**\n",
    "\n",
    "**When performing field calculations with a Python expression, Python math rules are in effect. For example, dividing two integer values will always produce an integer output (3 / 2 = 1). To get decimal output:**\n",
    "\n",
    "* One of the numbers in the operation must be a decimal value: `3.0/2 = 1.5`\n",
    "\n",
    "\n",
    "* Use the float function to explicitly convert the value to a float:\n",
    "\n",
    "\n",
    "```python\n",
    "\n",
    "    float(3)/2 = 1.5\n",
    "\n",
    "    # or\n",
    "\n",
    "    3/float(2) = 1.5\n",
    "```"
   ]
  },
  {
   "cell_type": "code",
   "execution_count": null,
   "metadata": {
    "scrolled": true
   },
   "outputs": [],
   "source": [
    "# Perform Python math\n",
    "print(1.5 + 2.5)"
   ]
  },
  {
   "cell_type": "code",
   "execution_count": null,
   "metadata": {
    "scrolled": true
   },
   "outputs": [],
   "source": [
    "print(3.3 - 2.2) # What the heck is going on here??? Search: python 3.3 - 2.2"
   ]
  },
  {
   "cell_type": "code",
   "execution_count": null,
   "metadata": {
    "scrolled": true
   },
   "outputs": [],
   "source": [
    "print(2.0 * 2.2)"
   ]
  },
  {
   "cell_type": "code",
   "execution_count": null,
   "metadata": {
    "scrolled": true
   },
   "outputs": [],
   "source": [
    "print(4.0 / 1.25)"
   ]
  },
  {
   "cell_type": "code",
   "execution_count": null,
   "metadata": {
    "scrolled": true
   },
   "outputs": [],
   "source": [
    "print(4.0 // 1.2)"
   ]
  },
  {
   "cell_type": "code",
   "execution_count": null,
   "metadata": {
    "scrolled": true
   },
   "outputs": [],
   "source": [
    "print(8 % 3)"
   ]
  },
  {
   "cell_type": "code",
   "execution_count": null,
   "metadata": {
    "scrolled": true
   },
   "outputs": [],
   "source": [
    "print(2 ** 3)"
   ]
  },
  {
   "cell_type": "code",
   "execution_count": null,
   "metadata": {
    "scrolled": true
   },
   "outputs": [],
   "source": [
    "x = 5 \n",
    "print(-x)\n",
    "print(+x)"
   ]
  },
  {
   "cell_type": "code",
   "execution_count": null,
   "metadata": {},
   "outputs": [],
   "source": [
    "# Rounding...may be different than how you were taught! \n",
    "# Search: python how does rounding work? and How does bankers rounding minimize rounding bias\n",
    "print(round(3.5))\n",
    "print(round(4.5))\n",
    "print(round(5.5))"
   ]
  },
  {
   "cell_type": "markdown",
   "metadata": {},
   "source": [
    "## Python Syntax and Style\n",
    "[**Top**](#Outline)"
   ]
  },
  {
   "cell_type": "markdown",
   "metadata": {},
   "source": [
    "### Python Syntax Rules"
   ]
  },
  {
   "cell_type": "markdown",
   "metadata": {},
   "source": [
    "* Variables cannot start with a number or have a space in it\n",
    "\n",
    "```python\n",
    "\n",
    "    1line = 5 # This will not work...\n",
    "\n",
    "    a line = 5 # Neither will this...\n",
    "    \n",
    "```\n",
    "\n",
    "* Here is a list of common ***reserved words***; do **NOT** use these as variable names:\n",
    "    * Basically, if it turns a color when you are done typing it, don’t use it as your variable’s name!\n",
    "    * There are likely many more reserved words!\n",
    "\n",
    "```python\n",
    "\n",
    "    and, del, from, not, while, as, elif, global, or, with, assert, else, if, pass, yield, break, except, import, \n",
    "    print, class, exec, in, raise, continue, finally, is, return, def, for, lambda, try\n",
    "\n",
    "```\n",
    "\n",
    "* Variable name capitalization matters!!\n",
    "\n",
    "```python\n",
    "\n",
    "    Cat != cat\n",
    "    \n",
    "```\n",
    "\n",
    "* Colons and indentation matters!!\n",
    "    * Typically 2 or 4 spaces (represented by '.')\n",
    "    * 4 spaces are preferred (using Tab in the IDE should do this automatically)\n",
    "    \n",
    "```python\n",
    "\n",
    "    # This will not work...\n",
    "    if x\n",
    "    print(x)\n",
    "\n",
    "    # But this will (periods are shown to emphasize the indentation):\n",
    "    if x:\n",
    "    ....print(x)\n",
    "    \n",
    "```\n",
    "\n",
    "* Quotations are a bit tricky, but very cool\n",
    "    * Single (`'`), double (`\"`) and triple-single and triple-double (`'''` or `\"\"\"`) quotes can be used to denote strings\n",
    "    * Make sure to end the string denotation with the same type of quote structure\n",
    "    * Single quotes (`'`) are the easiest to type (no Shift!!), so I default to them usually\n",
    "\n",
    "```python\n",
    "\n",
    "    # Quotation Examples\n",
    "    word1 = 'Dog'\n",
    "    word2 = \"'Dog'\"\n",
    "    word3 = '\"Dog\"'\n",
    "    print(word1, word2, word3)\n",
    "    # The three words above will print: Dog, 'Dog', and \"Dog\"\n",
    "\n",
    "    words1 = 'That's the dog's toy' # Is a syntax error\n",
    "    words2 = \"That's the dog's toy\" # Prints: That's the dog's toy\n",
    "\n",
    "    more_words = \"\"\"She said, \"Good dog!\" And the dog's tail wagged.\"\"\"\n",
    "    # Prints: She said, \"Good dog!\" And the dog's tail wagged.\n",
    "```\n",
    "\n",
    "* Backslashes can be confusing...\n",
    "\n",
    "```python\n",
    "\n",
    "    # These are all the same thing...\n",
    "    r'C:\\data\\things' # I generally prefer this method\n",
    "    'C:\\\\data\\\\things' # I use this method sometimes too\n",
    "    'C:/data/things'\n",
    "    \n",
    "```\n",
    "\n",
    "* Commenting is great!!\n",
    "    * Use it to help document and explain your code...we will do this throughout the workshop and in exercises!\n",
    "    * Comments are not run in code; they are ignored\n",
    "    * Blank lines are also ignored\n",
    "\n",
    "```python\n",
    "\n",
    "    # This is a block comment\n",
    "    ## So is this\n",
    "    ### The blank line below this one will be ignored\n",
    "\n",
    "    \"\"\" This is good for multi-line block comments\n",
    "    Notice that this line is still a comment\n",
    "    Use block comments as much as you need, but not too much\n",
    "    Don't forget to close the multi-line comment\"\"\"\n",
    "\n",
    "    s = 'something' # This is an in-line comment...use these sparingly in your code\n",
    "    \n",
    "```"
   ]
  },
  {
   "cell_type": "markdown",
   "metadata": {},
   "source": [
    "### Python Code Styling"
   ]
  },
  {
   "cell_type": "markdown",
   "metadata": {},
   "source": [
    "#### What is  'Code Style'?\n",
    "\n",
    "* How code is written when more than one possible syntax method is available (e.g., 4-space indentation vs. 2-space indentation)\n",
    "* Code style is determined by conventions and standards\n",
    "* While code may be syntactically correct, it may not be stylistically correct \n",
    "\n",
    "#### Why is Code Style Important?\n",
    "\n",
    "* Code is read much more often than it is written, therefore, it is important **HOW** we write code so that is can be more human-readable\n",
    "* Code style should be consistent and follow industry best practices\n",
    "* Helps to balance human-readability with machine-readability\n",
    "\n",
    "**See:**\n",
    "* **[PEP 8 -- Style Guide for Python Code](https://peps.python.org/pep-0008/)**\n",
    "* **[Google Python Style Guide](https://google.github.io/styleguide/pyguide.html)**\n",
    "\n",
    "#### Naming Conventions\n",
    "\n",
    "* This is more important than you may realize!!!\n",
    "* Familiarize yourself with the different types in the [PEP 8 -- Style Guide for Python Code](https://peps.python.org/pep-0008/)!!\n",
    "* Note that all lowercase and underscores are used OFTEN!!! Prescribed style for variable and function names...Why?\n",
    "    * Easier and faster to type!! No shift keystroke required...\n",
    "    * Easier and faster to read\n",
    "        * Think about when you read UPPERCASE vs. lowercase\n",
    "        * We read lowercase letters WAY more than we read UPPERCASE letters, therefore the brain identifies words better in lowercase\n",
    "* Start using similar naming conventions in your everyday work with file and folder names!!"
   ]
  },
  {
   "cell_type": "markdown",
   "metadata": {},
   "source": [
    "## Conditional Statements and Decision Making\n",
    "[**Top**](#Outline)"
   ]
  },
  {
   "cell_type": "markdown",
   "metadata": {},
   "source": [
    "<img style=\"float: right; padding: 10px\" alt=\"Decision Making\" src=\"https://www.tutorialspoint.com/python/images/decision_making.jpg\" />\n",
    "\n",
    "* Many times, we need code to make decisions\n",
    "* Some decisions are easy, while others are complex\n",
    "* Decisions are made by evaluating whether something is `True` or `False`\n",
    "\n",
    "**Source: [Tutorials Point: Python - Decision Making](https://www.tutorialspoint.com/python/python_decision_making.htm)**"
   ]
  },
  {
   "cell_type": "markdown",
   "metadata": {},
   "source": [
    "### `if` Statements\n",
    "\n",
    "* `if` statement - one decision/option\n",
    "```python\n",
    "\n",
    "    # If 'x' is True\n",
    "    if x == 100: # Note the colon (:) and the double equals sign (==)\n",
    "        \n",
    "        # Do something or many things\n",
    "        x = x + 1 # Note the indentation\n",
    "        print(x)\n",
    "```\n",
    "\n",
    "* `if`...`else` statement - two decisions/options\n",
    "```python\n",
    "\n",
    "    # If 'x' is True\n",
    "    if x == 100:\n",
    "        # Do something or many things\n",
    "        x = x + 1\n",
    "        print(x)\n",
    "\n",
    "    # If 'x' is NOT True\n",
    "    else:\n",
    "        # Do something else\n",
    "        x = x - 1\n",
    "        print(x)\n",
    "```\n",
    "\n",
    "* `if`...`elif`...`else` statement - many decisions/options\n",
    "```python\n",
    "\n",
    "    if x == 100:\n",
    "        x = x + 1\n",
    "        print(x)\n",
    "\n",
    "    # If 'x' is NOT True, try 'y'\n",
    "    elif y == 100:\n",
    "        y = x + y\n",
    "        print(y)\n",
    "\n",
    "    # If 'y' is NOT True, try 'z'\n",
    "    elif z == 100:\n",
    "        z = x ** y\n",
    "        print(z)\n",
    "\n",
    "    # If everything is NOT True\n",
    "    else:\n",
    "        w = y % z\n",
    "        print(w)\n",
    "```\n",
    "\n",
    "* `if` statements can be nested\n",
    "```python\n",
    "\n",
    "    if x == 100:\n",
    "        x = x + 1\n",
    "        print(x)\n",
    "\n",
    "        # If 'x' is True, AND 'y' is True\n",
    "        if y == 100: # ****Notice the second indent!!****\n",
    "            y = x + y\n",
    "            print(y)\n",
    "\n",
    "        # If 'x' is True, but 'y' is NOT True\n",
    "        else:\n",
    "            z = x ** y\n",
    "            print(z)\n",
    "\n",
    "    # If 'x' is NOT True\n",
    "    else:\n",
    "        w = y % z\n",
    "        print(w)\n",
    "```\n",
    "\n",
    "**Note: No `end if` is required like many other coding languages! Just unindent to show the end of the section.**"
   ]
  },
  {
   "cell_type": "markdown",
   "metadata": {},
   "source": [
    "### Comparison Operators\n",
    "\n",
    "| Operator | Description | Example |\n",
    "| :---: | :--- | :---: |\n",
    "| == | If the values of two operands are equal, then the condition becomes true. | (1 == 2) is NOT true |\n",
    "| != | If values of two operands are not equal, then condition becomes true. | (1 != 2) is true |\n",
    "| <> | If values of two operands are not equal, then condition becomes true. *This is the same as != operator, but is deprecated and not valid in Python 3.* | (1 <> 2) is true |\n",
    "| > | If the value of left operand is greater than the value of right operand, then condition becomes true. | (1 > 2) is not true. |\n",
    "| < | If the value of left operand is less than the value of right operand, then condition becomes true. | (1 < 2) is true. |\n",
    "| >= | If the value of left operand is greater than or equal to the value of right operand, then condition becomes true. | (1 >= 2) is not true.|\n",
    "| <= | If the value of left operand is less than or equal to the value of right operand, then condition becomes true. | (1 <= 2) is true. |\n",
    "| and | Called Logical AND operator. If both the operands are true then then condition becomes true. | (a and b) is true |\n",
    "|or | Called Logical OR Operator. If any of the two operands are non zero then then condition becomes true. | (a or b) is true |\n",
    "| not | Called Logical NOT Operator. Use to reverses the logical state of its operand. If a condition is true then Logical NOT operator will make false. | not(a && b) is false |\n",
    "| in | Evaluates to true if it finds a variable in the specified sequence and false otherwise. | x in y, here in results in a 1 if x is a member of sequence y |\n",
    "| not in | Evaluates to true if it does not find a variable in the specified sequence and false otherwise. | x not in y, here not in results in a 1 if x is not a member of sequence y |\n",
    "\n",
    "**Adapted from: [Tutorials Point: Python - Basic Operators](https://www.tutorialspoint.com/python/python_basic_operators.htm)**\n"
   ]
  },
  {
   "cell_type": "code",
   "execution_count": null,
   "metadata": {},
   "outputs": [],
   "source": [
    "# Test conditional statements\n",
    "a = 21\n",
    "b = 10\n",
    "c = 0"
   ]
  },
  {
   "cell_type": "code",
   "execution_count": null,
   "metadata": {},
   "outputs": [],
   "source": [
    "# Equals operator...note double = for comparison\n",
    "if a == b:\n",
    "    print(\"Line 1 - a is equal to b\")\n",
    "else:\n",
    "    print(\"Line 1 - a is not equal to b\")"
   ]
  },
  {
   "cell_type": "code",
   "execution_count": null,
   "metadata": {},
   "outputs": [],
   "source": [
    "# Not operator\n",
    "if a != b:\n",
    "    print(\"Line 2 - a is not equal to b\")\n",
    "else:\n",
    "    print(\"Line 2 - a is equal to b\")"
   ]
  },
  {
   "cell_type": "code",
   "execution_count": null,
   "metadata": {},
   "outputs": [],
   "source": [
    "# This is not valid in Python 3:\n",
    "if a <> b: \n",
    "   print(\"Line 3 - a is not equal to b\")\n",
    "else:\n",
    "   print(\"Line 3 - a is equal to b\")"
   ]
  },
  {
   "cell_type": "code",
   "execution_count": null,
   "metadata": {},
   "outputs": [],
   "source": [
    "# Less than\n",
    "if a < b:\n",
    "    print(\"Line 4 - a is less than b\")\n",
    "else:\n",
    "    print(\"Line 4 - a is not less than b\")"
   ]
  },
  {
   "cell_type": "code",
   "execution_count": null,
   "metadata": {},
   "outputs": [],
   "source": [
    "# Greater than\n",
    "if a > b:\n",
    "    print(\"Line 5 - a is greater than b\")\n",
    "else:\n",
    "    print(\"Line 5 - a is not greater than b\")"
   ]
  },
  {
   "cell_type": "code",
   "execution_count": null,
   "metadata": {},
   "outputs": [],
   "source": [
    "a = 5;\n",
    "b = 20;"
   ]
  },
  {
   "cell_type": "code",
   "execution_count": null,
   "metadata": {},
   "outputs": [],
   "source": [
    "# Less than or equal to\n",
    "if a <= b:\n",
    "    print(\"Line 6 - a is either less than or equal to  b\")\n",
    "else:\n",
    "    print(\"Line 6 - a is neither less than nor equal to  b\")"
   ]
  },
  {
   "cell_type": "code",
   "execution_count": null,
   "metadata": {},
   "outputs": [],
   "source": [
    "# Greater than or equal to\n",
    "if b >= a:\n",
    "    print(\"Line 7 - b is either greater than or equal to b\")\n",
    "else:\n",
    "    print(\"Line 7 - b is neither greater than nor equal to b\")"
   ]
  },
  {
   "cell_type": "markdown",
   "metadata": {},
   "source": [
    "## Loops\n",
    "[**Top**](#Outline)"
   ]
  },
  {
   "cell_type": "markdown",
   "metadata": {},
   "source": [
    "<img style=\"float: right; padding: 10px\" alt=\"Loop Architecture\" src=\"https://www.tutorialspoint.com/python/images/loop_architecture.jpg\" />\n",
    "\n",
    "* Code is generally executed consecutively\n",
    "* Loops allow for a block of code to be executed several times\n",
    "* Two basic types: `for` and `while` loops\n",
    "\n",
    "**See [Tutorials Point: Python - Loops](https://www.tutorialspoint.com/python/python_loops.htm)**"
   ]
  },
  {
   "cell_type": "markdown",
   "metadata": {},
   "source": [
    "### `for` Loops\n",
    "<img style=\"float: right; padding: 10px\" alt=\"Loop Architecture\" src=\"https://www.tutorialspoint.com/python/images/forloop.jpg\" />\n",
    "\n",
    "* Work on ordered lists and other sequences\n",
    "* Repeats a block of code for each element of the list\n",
    "* When the end of the list is reached, the loop ends\n",
    "\n",
    "```python\n",
    "\n",
    "    for item in list_of_items:\n",
    "        # Do some code...\n",
    "```"
   ]
  },
  {
   "cell_type": "code",
   "execution_count": null,
   "metadata": {},
   "outputs": [],
   "source": [
    "# Test a loop on a list\n",
    "a_list = ['a', 'b', 'c', 'd']\n",
    "\n",
    "for item in a_list:\n",
    "    print(item)"
   ]
  },
  {
   "cell_type": "markdown",
   "metadata": {},
   "source": [
    "### `while` Loops\n",
    "<img style=\"float: right; padding: 10px\" alt=\"Loop Architecture\" src=\"https://www.tutorialspoint.com/python/images/while.jpg\" />\n",
    "\n",
    "* Executes the code block while a given condition is true\n",
    "* Requires an exit condition, otherwise it could be an infinite loop (this is bad!!)\n",
    "\n",
    "```python\n",
    "\n",
    "    i = 0 # This is called a sentry variable\n",
    "    while i <= 10:\n",
    "        print(i)\n",
    "        i += 1 # Increment the sentry variable to ensure the exit condition\n",
    "```\n",
    "\n",
    "\n",
    "`i += 1` *is another way to increment a numeric value by a constant value (in this case `1`).*\n",
    "\n",
    "**See [Tutorials Point: Python Assignment Operators Example](https://www.tutorialspoint.com/python/assignment_operators_example.htm) for other similar augmented operations. Python is full of these types of tricks!**\n"
   ]
  },
  {
   "cell_type": "code",
   "execution_count": null,
   "metadata": {},
   "outputs": [],
   "source": [
    "i = 0\n",
    "\n",
    "while i <= 10:\n",
    "    print(i)\n",
    "    i += 1"
   ]
  },
  {
   "cell_type": "markdown",
   "metadata": {},
   "source": [
    "## Functions\n",
    "[**Top**](#Outline)"
   ]
  },
  {
   "cell_type": "markdown",
   "metadata": {},
   "source": [
    "* Block of organized, reusable code\n",
    "* Performs a single, related action\n",
    "* Good when a function needs to be reused a lot\n",
    "* Many built-in functions (like `print()` and `str()`)\n",
    "* Users can create their own function, commonly referred to as *user-defined* functions\n",
    "\n",
    "### Defining Functions\n",
    "\n",
    "* Function blocks begin with the keyword def followed by the function name and parentheses `()`.\n",
    "\n",
    "\n",
    "* Any input parameters or arguments should be placed within these parentheses. You can also define parameters inside these parentheses.\n",
    "\n",
    "\n",
    "* The first statement of a function can be an optional statement - the documentation string of the function or docstring.\n",
    "\n",
    "\n",
    "* The code block within every function starts with a colon (:) and is indented.\n",
    "\n",
    "\n",
    "* The statement return [expression] exits a function, optionally passing back an expression to the caller. A return statement with no arguments is the same as return None.\n",
    "\n",
    "```python\n",
    "\n",
    "    # Basic Function syntax\n",
    "\n",
    "    def function_name( parameters ):\n",
    "        \"\"\"function_docstring\"\"\" # This is optional, note triple-quotes\n",
    "        # Function code\n",
    "        return # expression\n",
    "```\n",
    "\n",
    "**Source: [Tutorials Point: Python - Functions](https://www.tutorialspoint.com/python/python_functions.htm)**"
   ]
  },
  {
   "cell_type": "code",
   "execution_count": null,
   "metadata": {},
   "outputs": [],
   "source": [
    "def tax_calc(bill, percent):\n",
    "    \"\"\"Calculates percent tax of restaurant bill.\"\"\"\n",
    "    tax = bill * percent\n",
    "    print('Tax: ${:0.2f}'.format(tax))\n",
    "    return tax\n",
    "\n",
    "def tip_calc(bill, percent):\n",
    "    \"\"\"Calculates percent tip of restaurant bill.\"\"\"\n",
    "    tip = bill * percent\n",
    "    print('Tip: ${:0.2f}'.format(tip))\n",
    "    return tip\n",
    "\n",
    "def total_bill(bill, tax, tip):\n",
    "    \"\"\"Calculates the total restaurant bill.\"\"\"\n",
    "    total = bill + tax + tip\n",
    "    print('Total: ${:0.2f}'.format(total))\n",
    "    return total"
   ]
  },
  {
   "cell_type": "code",
   "execution_count": null,
   "metadata": {},
   "outputs": [],
   "source": [
    "# Change the meal_cost value a few times to see how the results change\n",
    "meal_cost = 100\n",
    "tax_perc = 0.08\n",
    "tip_perc = 0.15\n",
    "print('Bill: ${:0.2f}'.format(meal_cost))"
   ]
  },
  {
   "cell_type": "code",
   "execution_count": null,
   "metadata": {},
   "outputs": [],
   "source": [
    "meal_tax = tax_calc(meal_cost, tax_perc)\n",
    "meal_tip = tip_calc(meal_cost, tip_perc)\n",
    "meal_total = total_bill(meal_cost, meal_tax, meal_tip)"
   ]
  },
  {
   "cell_type": "markdown",
   "metadata": {},
   "source": [
    "## Classes and Methods\n",
    "[**Top**](#Outline)"
   ]
  },
  {
   "cell_type": "markdown",
   "metadata": {},
   "source": [
    "* Python is an Object-Oriented Language\n",
    "* Objects are a defined data structure that contain data and code, and that behave in a specific way\n",
    "* Class is:\n",
    "    * A defined prototype for an object that defines a set of attributes that characterize any object of the class\n",
    "    * The attributes are data members (class variables and instance variables) and methods, accessed via dot notation.\n",
    "    * Can have multiple instances in a script\n",
    "* Method is a special kind of function defined in and for the Class\n",
    "\n",
    "**We will work with classes A LOT!! But, we will not create classes.**\n",
    "\n",
    "**Source: [Tutorials Point: Python - Object Oriented](https://www.tutorialspoint.com/python/python_classes_objects.htm)**"
   ]
  },
  {
   "cell_type": "code",
   "execution_count": null,
   "metadata": {},
   "outputs": [],
   "source": [
    "# Create a list\n",
    "fruit_list = ['apples', 'oranges', 'bananas']"
   ]
  },
  {
   "cell_type": "code",
   "execution_count": null,
   "metadata": {},
   "outputs": [],
   "source": [
    "# Check data type\n",
    "print(type(fruit_list)) # What do you notice about the output?"
   ]
  },
  {
   "cell_type": "code",
   "execution_count": null,
   "metadata": {},
   "outputs": [],
   "source": [
    "# Test the list append method\n",
    "fruit_list.append('cherries')\n",
    "print(fruit_list)"
   ]
  },
  {
   "cell_type": "code",
   "execution_count": null,
   "metadata": {},
   "outputs": [],
   "source": [
    "# Let's explore some list methods...use Tab to explore!\n",
    "fruit_list.\n",
    "\n",
    "# Try .count...what else is needed? Search: python list count method"
   ]
  },
  {
   "cell_type": "code",
   "execution_count": null,
   "metadata": {},
   "outputs": [],
   "source": [
    "# Try sorted() vs. .sort...\n",
    "print(sorted(fruit_list))\n",
    "print(fruit_list)"
   ]
  },
  {
   "cell_type": "code",
   "execution_count": null,
   "metadata": {},
   "outputs": [],
   "source": [
    "fruit_list.sort()\n",
    "print(fruit_list)"
   ]
  },
  {
   "cell_type": "markdown",
   "metadata": {},
   "source": [
    "## Now we are ready to put our Python knowledge into practice!"
   ]
  },
  {
   "cell_type": "markdown",
   "metadata": {},
   "source": [
    "# Break\n",
    "---\n",
    "[**Top**](#Outline)\n",
    "\n",
    "10 - 15 minutes"
   ]
  },
  {
   "cell_type": "markdown",
   "metadata": {},
   "source": [
    "# IV. Calculate Fields Using Python\n",
    "---\n",
    "[**Top**](#Outline)"
   ]
  },
  {
   "cell_type": "markdown",
   "metadata": {},
   "source": [
    "* **A great place to practice Python in ArcGIS is by calculating fields**\n",
    "\n",
    "\n",
    "* ArcGIS Pro: \n",
    "    * Python 3, Arcade, and SQL can be used to calculate fields; Python 3 is the default\n",
    "    * Must use the Calculate Field geoprocessing tool; Field Calculator Window is removed\n",
    "\n",
    "\n",
    "* ArcMap:\n",
    "    * Python and VB Script can be used to calculate fields; VB Script is the default, so Python needs to be set as the parser\n",
    "    * Can use the Calculate Field geoprocessing tool or Field Calculator Window\n",
    "\n",
    "\n",
    "* Simple expressions use the Expression parameter\n",
    "* More complex calculations can use the Code Block parameter (tool) or the Pre-Logic Script Code block (window)\n",
    "* **Note: Python can be difficult to debug and check for errors when calculating fields**\n",
    "\n",
    "| ArcGIS Pro Calculate Field Tool    | .................................... |    ArcMap Field Calculator Window |\n",
    "| :----: | :----: | :----: |\n",
    "| ![ArcGIS Pro Calculate Field Tool](https://github.com/whitacrej/Python-for-ArcGIS/blob/main/Notebooks/Images/CalculateFieldTool.png?raw=true)    |  |    ![ArcMap Field Calculator](https://github.com/whitacrej/Python-for-ArcGIS/blob/main/Notebooks/Images/FieldCalculator.png?raw=true) |"
   ]
  },
  {
   "cell_type": "markdown",
   "metadata": {},
   "source": [
    "## Calculating Fields Using Python"
   ]
  },
  {
   "cell_type": "markdown",
   "metadata": {},
   "source": [
    "### 1. Open the *Illinois* Map\n",
    "\n",
    "\n",
    "### 2. Open the Attribute Table for the 'Illinois Counties' Layer\n",
    "* We see that there is a field named 'AREA', but we don't know the units.\n",
    "* Note the other fields\n",
    "\n",
    "\n",
    "### 3. Open the Calculate Field tool in the Geoprocessing Pane\n",
    "\n",
    "\n",
    "### 4. Enter the following parameters into the Calculate Field tool\n",
    "* Input Table: **Illinois Counties** (This parameter will stay the same for this entire exercise)\n",
    "* Field Name: **Area_Test**\n",
    "* Field Type: **Double**\n",
    "\n",
    "\n",
    "\n",
    "\n",
    "### 5. See the [Calculate Field Python examples](https://pro.arcgis.com/en/pro-app/tool-reference/data-management/calculate-field-examples.htm) ArcGIS Pro help documentation\n",
    "* This page is a great resource\n",
    "* Notice the different examples\n",
    "* Find the 'Code samples-geometry' section\n",
    "* These expressions can be used in lieu of the **Calculate Geometry Attributes** tool\n",
    "\n",
    "\n",
    "### 6. Enter the following code in the expression box and click Run\n",
    "\n",
    "\n",
    "### 7. Delete the 'Area_Test' field when finished"
   ]
  },
  {
   "cell_type": "code",
   "execution_count": null,
   "metadata": {},
   "outputs": [],
   "source": [
    "\"\"\" Note: The following code is intended to be used to calculate an attribute table field in \n",
    "ArcGIS using the Field Calculator window or Calculate Field tool. \"\"\"\n",
    "\n",
    "# First try square meters\n",
    "\n",
    "!Shape.area@squaremeters!\n",
    "\n",
    "# How close are the values compared to the AREA field?\n",
    "\n",
    "\n",
    "# Second, try square miles \n",
    "\n",
    "!Shape.area@squaremiles!\n",
    "\n",
    "# Are these values closer to the AREA field? Do you think we can get better?\n",
    "\n",
    "\n",
    "# Now try\n",
    "\n",
    "!Shape.geodesicArea@squaremiles!\n",
    "\n",
    "# Which method is more accurate? Why do you think that is?\n",
    "\n",
    "\n",
    "# One last trick, type:\n",
    "\n",
    "None\n",
    "\n",
    "# This will make all the values NULL in the field...it is good to know about!"
   ]
  },
  {
   "cell_type": "markdown",
   "metadata": {},
   "source": [
    "## Calculating Fields Using Python (continued)"
   ]
  },
  {
   "cell_type": "markdown",
   "metadata": {},
   "source": [
    "**Now we know the units, but we want to calculate the population density. We also want to know the difference between the median and average household income.**\n",
    "\n",
    "### 1. Calculate two fields with the following parameters:\n",
    "* Field Name: **Density_Sqmi**\n",
    "* Field Type: **Double**\n",
    "\n",
    "    \n",
    "* Field Name: **Diff_Income**\n",
    "* Field Type: **Double**\n",
    "    \n",
    "### 2. Calculate the fields using the Python expressions below"
   ]
  },
  {
   "cell_type": "code",
   "execution_count": null,
   "metadata": {},
   "outputs": [],
   "source": [
    "\"\"\" Note: The following code is intended to be used to calculate an attribute table field in \n",
    "ArcGIS using the Field Calculator window or Calculate Field tool. \"\"\"\n",
    "\n",
    "# Density_Sqmi calculation\n",
    "\n",
    "!ACSTOTPOP! / !AREA!\n",
    "\n",
    "#######################################################\n",
    "\n",
    "# Diff_Income calculation\n",
    "\n",
    "!ACSAVGHINC! - !ACSMEDHINC!\n"
   ]
  },
  {
   "cell_type": "markdown",
   "metadata": {},
   "source": [
    "## Calculating Fields Using Python (continued)"
   ]
  },
  {
   "cell_type": "markdown",
   "metadata": {},
   "source": [
    "Now we would like to have three more fields for a short name, a long name, and a name with the area.\n",
    "\n",
    "### 1. Calculate three fields with the following parameters:\n",
    "* Field Name: **Name_Long**\n",
    "* Field Type: **Text**\n",
    "\n",
    "\n",
    "* Field Name: **Name_Short**\n",
    "* Field Type: **Text**\n",
    "\n",
    "\n",
    "* Field Name: **Name_Area**\n",
    "* Field Type: **Text**\n",
    "\n",
    "### 2. Calculate the fields using the Python expressions below"
   ]
  },
  {
   "cell_type": "code",
   "execution_count": null,
   "metadata": {},
   "outputs": [],
   "source": [
    "\"\"\" Note: The following code is intended to be used to calculate an attribute table field in \n",
    "ArcGIS using the Field Calculator window or Calculate Field tool. \"\"\"\n",
    "\n",
    "# Name_Long =\n",
    "!NAME! + ', ' + !STATE_NAME!\n",
    "\n",
    "#######################################################\n",
    "\n",
    "# Name_Short =\n",
    "!NAME!.replace(' County', '')\n",
    "\n",
    "# Note the first parameter...what do you notice?\n",
    "\n",
    "#######################################################\n",
    "\n",
    "# Name_Area =\n",
    "!NAME! + ' (Area: ' + !AREA! + ' SqMi)'\n",
    "\n",
    "# Did it work? Why or why not? Hint: Check the ArcMap Results window if you can't figure it out\n",
    "# Change the expression to be correct...\n",
    "\n",
    "\n",
    "# Name_Area can also be calculated this way...\n",
    "\n",
    "# Name_Area =\n",
    "' '.join([!NAME!, '(Area:', str(!AREA!), 'SqMi)'])\n",
    "\n",
    "# What do you notice that is different with the elements being joined? I'm looking for 2 specific things...\n",
    "# Hint: Don't space out on me...and...0, 1, 2, 3\n",
    "\n",
    "\n",
    "# Or this way...\n",
    "\n",
    "# Name_Area =\n",
    "'{0} (Area: {1} SqMi)'.format(!NAME!, !AREA!)\n",
    "\n",
    "# Or even better, this way...\n",
    "\n",
    "# Name_Area =\n",
    "f'{!NAME!} (Area: {!AREA!} SqMi)'\n",
    "\n",
    "# Note the last two methods are the best practice...and that you do not need to convert the AREA to a string!\n",
    "# More on this later..."
   ]
  },
  {
   "cell_type": "markdown",
   "metadata": {},
   "source": [
    "## Calculating Fields Using Python (continued)"
   ]
  },
  {
   "cell_type": "markdown",
   "metadata": {},
   "source": [
    "Now we would like to classify the median income levels.\n",
    "\n",
    "### 1. Add a field with the following parameters:\n",
    "* Field Name: **Income_Level**\n",
    "* Field Type: **Text**\n",
    "\n",
    "\n",
    "### 2. Calculate the fields using the Python expression and code block below\n",
    "\n",
    "    \n",
    "### 3. When you have completed the calculation, open the result from the History pane\n",
    "* How does this look different?"
   ]
  },
  {
   "cell_type": "code",
   "execution_count": null,
   "metadata": {},
   "outputs": [],
   "source": [
    "\"\"\" Note: The following code is intended to be used to calculate an attribute table field in \n",
    "ArcGIS using the Field Calculator window or Calculate Field tool. \"\"\"\n",
    "\n",
    "# Expression:\n",
    "# Income_Level = \n",
    "income_level(!ACSMEDHINC!, 35000, 60000)\n",
    "\n",
    "# Code Block:\n",
    "def income_level(median_income, low_income, mid_income):\n",
    "    \"\"\"Classifies median income levels given low income and middle income values\"\"\"\n",
    "    if median_income < low_income:\n",
    "        return 'Low Income'\n",
    "    elif low_income <= median_income < mid_income:\n",
    "        return 'Middle Income'\n",
    "    else:\n",
    "        return 'High Income'"
   ]
  },
  {
   "cell_type": "markdown",
   "metadata": {},
   "source": [
    "## Calculating Fields Using Python (continued)"
   ]
  },
  {
   "cell_type": "markdown",
   "metadata": {},
   "source": [
    "Now we would like to know how many vertices are in each feature...just for fun!\n",
    "\n",
    "We will use an example from the ArcGIS Help Documentation: [Calculate Field Python examples](https://pro.arcgis.com/en/pro-app/tool-reference/data-management/calculate-field-examples.htm)\n",
    "\n",
    "### 1. Calculate a field with the following parameters:\n",
    "* Field Name: **Vertex_Count**\n",
    "* Field Type: **Long Integer**\n",
    "\n",
    "\n",
    "### 2. Calculate the fields using the Python expression and code block below\n",
    "\n",
    "**Copy and Paste** the code below; it is for demonstrating that while loops can be used in the Field Calculator"
   ]
  },
  {
   "cell_type": "code",
   "execution_count": null,
   "metadata": {},
   "outputs": [],
   "source": [
    "\"\"\" Note: The following code is intended to be used to calculate an attribute table field in \n",
    "ArcGIS using the Field Calculator window or Calculate Field tool.\"\"\"\n",
    "\n",
    "# Expression:\n",
    "# Vertex_Count = \n",
    "VertexCount(!Shape!)\n",
    "\n",
    "# Code Block:\n",
    "def VertexCount(feat):    \n",
    "    partnum = 0\n",
    "\n",
    "    # Count the number of points in the current multipart feature\n",
    "    partcount = feat.partCount\n",
    "    pntcount = 0\n",
    "\n",
    "    # Enter while loop for each part in the feature (if a singlepart \n",
    "    # feature this will occur only once)\n",
    "    while partnum < partcount:\n",
    "        part = feat.getPart(partnum)\n",
    "        pnt = part.next()\n",
    "\n",
    "        # Enter while loop for each vertex\n",
    "        while pnt:\n",
    "            pntcount += 1   \n",
    "            pnt = part.next()\n",
    "            \n",
    "            # If pnt is null, either the part is finished or there \n",
    "            # is an interior ring\n",
    "            if not pnt: \n",
    "                pnt = part.next()\n",
    "        partnum += 1\n",
    "    return pntcount"
   ]
  },
  {
   "cell_type": "markdown",
   "metadata": {},
   "source": [
    "## Future Challenge: Try using Python with map labels in ArcGIS"
   ]
  },
  {
   "cell_type": "markdown",
   "metadata": {},
   "source": [
    "# V. Introduction to ArcPy\n",
    "---\n",
    "[**Top**](#Outline)"
   ]
  },
  {
   "cell_type": "markdown",
   "metadata": {},
   "source": [
    "## What is ArcPy?\n",
    "[**Top**](#Outline)"
   ]
  },
  {
   "cell_type": "markdown",
   "metadata": {},
   "source": [
    "> ArcPy is a Python site package that provides a useful and productive way to perform geographic data analysis, data conversion, data management, and map automation with Python.\n",
    "\n",
    "> This package provides a rich and native Python experience offering code completion (type a keyword and a dot to get a pop-up list of properties and methods supported by that keyword; select one to insert it) and reference documentation for each function, module, and class.\n",
    "\n",
    "> The additional power of using ArcPy is that Python is a general-purpose programming language. It is interpreted and dynamically typed and is suited for interactive work and quick prototyping of one-off programs known as scripts while being powerful enough to write large applications in. ArcGIS applications written with ArcPy benefit from the development of additional modules in numerous niches of Python by GIS professionals and programmers from many different disciplines.\n",
    "\n",
    "**From [ArcGIS Pro Help Documentation - What is ArcPy?](https://pro.arcgis.com/en/pro-app/arcpy/get-started/what-is-arcpy-.htm)**"
   ]
  },
  {
   "cell_type": "markdown",
   "metadata": {},
   "source": [
    "### Python in ArcGIS"
   ]
  },
  {
   "cell_type": "markdown",
   "metadata": {},
   "source": [
    "* First introduced at ArcGIS Desktop 9.0 with Python 2 and `arcgisscripting` site package\n",
    "* ArcGIS Desktop 10 introduced `arcpy` site package\n",
    "* ArcGIS Pro uses Python 3 `arcpy` site package\n",
    "* ArcGIS Pro integrates **[Conda](https://docs.conda.io/en/latest/)** to manage Python packages and modules via the **[Python Package Manager](https://pro.arcgis.com/en/pro-app/arcpy/get-started/what-is-conda.htm)**\n",
    "* ArcPy is the primary desktop Python site package designed exclusively for ArcGIS Desktop\n",
    "* **[ArcGIS API for Python](https://pro.arcgis.com/en/pro-app/arcpy/get-started/arcgis-api-for-python.htm)** is designed for ArcGIS Online and ArcGIS Enterprise\n",
    "    * We will not go over this API in this workshop"
   ]
  },
  {
   "cell_type": "markdown",
   "metadata": {},
   "source": [
    "## What is a Python Module?"
   ]
  },
  {
   "cell_type": "markdown",
   "metadata": {},
   "source": [
    "* Extensions that can be imported and used in Python scripts to expand the built-in capabilities\n",
    "* Contain pre-written code to help out with specialized tasks and defines functions, classes and variables for those tasks\n",
    "* Also allows you to logically organize your Python code\n",
    "* Single file consisting of Python code and also includes executable code\n",
    "* Modules are imported into a script using the **`import`** statement\n",
    "* Many times you need to download and install new modules; but ArcGIS Pro includes many of the most popular ones\n",
    "* Also called libraries"
   ]
  },
  {
   "cell_type": "markdown",
   "metadata": {},
   "source": [
    "## What is a Python Site Package?"
   ]
  },
  {
   "cell_type": "markdown",
   "metadata": {},
   "source": [
    "* Like a module, but contains a collections of modules, functions, and classes\n",
    "* Site packages and modules both add functionality to Python"
   ]
  },
  {
   "cell_type": "markdown",
   "metadata": {},
   "source": [
    "## `import` Statements\n",
    "[**Top**](#Outline)"
   ]
  },
  {
   "cell_type": "markdown",
   "metadata": {},
   "source": [
    "* We aren’t able to use everything Python has to offer without importing modules\n",
    "* Only need to import a module once in a script\n",
    "* Customary to import everything at the beginning of your script\n",
    "```python\n",
    "\n",
    "    # Best practice is to stack each import statement\n",
    "    import arcpy\n",
    "    import os\n",
    "    import sys\n",
    "    \n",
    "    # But this is still correct syntax (Remember the Style Guide!!)\n",
    "    import arcpy, os, sys\n",
    "    \n",
    "    # This can sometimes make things simpler; you can use a.whatever instead of arcpy.whatever\n",
    "    import arcpy as a\n",
    "    \n",
    "    # Do this if you only want a specific part of the site package/module\n",
    "    from arcpy import da\n",
    "    \n",
    "    # This also works, but should be used sparingly\n",
    "    from arcpy.sa import *\n",
    "```"
   ]
  },
  {
   "cell_type": "markdown",
   "metadata": {},
   "source": [
    "## Importing ArcPy"
   ]
  },
  {
   "cell_type": "markdown",
   "metadata": {},
   "source": [
    "* To work with ArcPy outside of ArcGIS Pro, you must `import` it\n",
    "* Once imported, you can now use all the modules, functions, classes, methods, and geoprocessing tools\n",
    "\n",
    "**See [Importing ArcPy](https://pro.arcgis.com/en/pro-app/arcpy/get-started/importing-arcpy.htm) for more information**"
   ]
  },
  {
   "cell_type": "code",
   "execution_count": null,
   "metadata": {},
   "outputs": [],
   "source": [
    "# Recommended to import the ArcPy site package and other modules first in your script\n",
    "# This may take a while if you are working outside of ArcGIS\n",
    "\n",
    "import arcpy"
   ]
  },
  {
   "cell_type": "markdown",
   "metadata": {},
   "source": [
    "## ArcPy Help Documentation\n",
    "[**Top**](#Outline)"
   ]
  },
  {
   "cell_type": "markdown",
   "metadata": {},
   "source": [
    "### Python and ArcPy Help\n",
    "* **[ArcGIS Python Help](https://pro.arcgis.com/en/pro-app/arcpy/main/arcgis-pro-arcpy-reference.htm)**\n",
    "* Contains help on functions and classes not listed in the tool documentation\n",
    "* Note the additional modules\n",
    "\n",
    "### Python and ArcPy Geoprocessing Tool Help\n",
    "* Each geoprocessing tool includes syntax and sample code for the Python window and stand-alone scripts\n",
    "* Includes detailed explanations of each parameter\n",
    "* See **[Calculate Field](https://pro.arcgis.com/en/pro-app/tool-reference/data-management/calculate-field.htm)** tool help as an example"
   ]
  },
  {
   "cell_type": "markdown",
   "metadata": {},
   "source": [
    "# VI. Using ArcPy\n",
    "---\n",
    "[**Top**](#Outline)"
   ]
  },
  {
   "cell_type": "markdown",
   "metadata": {},
   "source": [
    "## Describing Data\n",
    "[**Top**](#Outline)"
   ]
  },
  {
   "cell_type": "markdown",
   "metadata": {},
   "source": [
    "* Describing data allows to learn more about the data we are working with\n",
    "* Describe functions are useful when scripts may be dependent on the type of data being used\n",
    "* Good for controlling script flow and validating parameters\n",
    "* Many property groups and some properties exist for only some types\n",
    "\n",
    "**See [ArcPy Function - Describe](https://pro.arcgis.com/en/pro-app/arcpy/functions/describe.htm)**"
   ]
  },
  {
   "cell_type": "markdown",
   "metadata": {},
   "source": [
    "### System Paths vs. Catalog Paths\n",
    "[**Top**](#Outline)"
   ]
  },
  {
   "cell_type": "markdown",
   "metadata": {},
   "source": [
    "* System paths are recognized by the Windows operating system\n",
    "    * Files in folders\n",
    "    * e.g., Each Shapefile component (.shp, .shx, .dbf, .prj), TIFF Raster components (.tif, .prj), Word Documents (.docx), Compressed files (.zip)\n",
    "  \n",
    "* Catalog paths are only recognized by ArcGIS\n",
    "    * Used for feature classes and other data in geodatabases\n",
    "        * e.g.; Geodatabases (.gdb) not recognized as a folder, Shapefiles (.shp) recognized as one 'file', TIFF Raster (.tif) recognized as a raster file\n",
    "    * Contain 2 parts:\n",
    "        * Workspace - could be the geodatabase root or a feature dataset\n",
    "        * Base name - the feature class, raster, or other file types that can be saved in geodatabases\n",
    "\n",
    "* As an ArcGIS user and Python programmer, it is necessary to be aware of the context for how the path is being used"
   ]
  },
  {
   "cell_type": "code",
   "execution_count": null,
   "metadata": {},
   "outputs": [],
   "source": [
    "# Step 0: Get the ArcGIS Project Home (i.e. Default) folder path\n",
    "# Also, think about relative vs. absolute paths!!\n",
    "\n",
    "# Run this code in the Notebook and copy the path from output\n",
    "# Tip: You can use the ArcGIS Notebook 'Find and Replace' to replace all '{...}' with the aprx home folder\n",
    "# Tip: Copy Path in Catalog Pane!!! Always copy paths if you can!!!\n",
    "\n",
    "import arcpy\n",
    "\n",
    "aprx = arcpy.mp.ArcGISProject('CURRENT')\n",
    "\n",
    "aprx_folder = aprx.homeFolder\n",
    "\n",
    "print(aprx_folder)"
   ]
  },
  {
   "cell_type": "code",
   "execution_count": null,
   "metadata": {},
   "outputs": [],
   "source": [
    "# Exercise 1: Check if a file exists and what data type it is\n",
    "\n",
    "file_path = r'C:\\Python-for-ArcGIS\\CSV\\JeopardyContestants_LatLon.csv' # What kind of path is this? System or Catalog?\n",
    "print(arcpy.Exists(file_path))\n",
    "\n",
    "# What is the result?\n",
    "\n",
    "# Try again, but this time type the up arrow to cycle through the last few lines of code\n",
    "\n",
    "# Replace the '{...}' with the ArcGIS Pro Project Home folder location\n",
    "\n",
    "file_path = r'{...}\\CSV\\JeopardyContestants_LatLon.csv'\n",
    "print(arcpy.Exists(file_path))\n",
    "\n",
    "# Does it exist? Keep trying until you get the path correct and the result returns True\n",
    "\n",
    "print(arcpy.Describe(file_path).dataType)\n",
    "\n",
    "# What type of data is this?"
   ]
  },
  {
   "cell_type": "code",
   "execution_count": null,
   "metadata": {},
   "outputs": [],
   "source": [
    "# Exercise 2: Check if a feature class exists what data type it is\n",
    "\n",
    "# Replace the '{...}' with the ArcGIS Pro Project Home folder location\n",
    "\n",
    "feature_class = r'{...}\\PythonForArcGIS.gdb\\Illinois_Counties' # What kind of path is this? System or Catalog?\n",
    "\n",
    "print(arcpy.Exists(feature_class))\n",
    "\n",
    "print(arcpy.Describe(feature_class).dataType)\n",
    "\n",
    "# What type of data is this?"
   ]
  },
  {
   "cell_type": "code",
   "execution_count": null,
   "metadata": {},
   "outputs": [],
   "source": [
    "# Exercise 3: Check if a layer exists and data type it is\n",
    "\n",
    "layer_name = 'Illinois Counties' # What kind of path is this? System or Catalog?\n",
    "\n",
    "print(arcpy.Exists(layer_name))\n",
    "\n",
    "lyr_desc = arcpy.Describe(layer_name)\n",
    "\n",
    "# Note how this Describe function and variable look different than before...\n",
    "# We can have describe objects become variables to be used later\n",
    "\n",
    "print(lyr_desc.dataType)\n",
    "\n",
    "# What type of data is this?\n",
    "\n",
    "# For layers, there is a Describe property called 'dataElement' that accesses\n",
    "# the 'dataType' of what the layer is referencing\n",
    "\n",
    "print(lyr_desc.dataElement.dataType)\n",
    "\n",
    "# What type of data is this?"
   ]
  },
  {
   "cell_type": "markdown",
   "metadata": {},
   "source": [
    "### What is the difference between the last two `print()` results?\n",
    "\n",
    "### Lets look at the ArcPy Documentation:\n",
    "\n",
    "* **[Describe object properties](https://pro.arcgis.com/en/pro-app/arcpy/functions/describe-object-properties.htm)**\n",
    "* **[Layer properties](https://pro.arcgis.com/en/pro-app/arcpy/functions/layer-properties.htm)**"
   ]
  },
  {
   "cell_type": "code",
   "execution_count": null,
   "metadata": {},
   "outputs": [],
   "source": [
    "# Exercise 4: Get more Describe information about a layer\n",
    "\n",
    "lyr_datatype = lyr_desc.dataElement.dataType\n",
    "\n",
    "lyr_path = lyr_desc.path\n",
    "\n",
    "lyr_basename = lyr_desc.baseName\n",
    "\n",
    "lyr_spatialref = lyr_desc.spatialReference.name\n",
    "\n",
    "lyr_count = arcpy.management.GetCount(layer_name)\n",
    "\n",
    "# You may see the code for the Get Count tool written as below too.\n",
    "# This is the old style...but it is correct\n",
    "lyr_count = arcpy.GetCount_management(layer_name)\n",
    "\n",
    "\n",
    "# Here is a new way to format strings with inline variable substitution\n",
    "print('{0} is a {1} stored at {2} with a file name of {3} with the {4} coordinate system and contains {5} features.'\\\n",
    "      .format(layer_name, lyr_datatype, lyr_path, lyr_basename, lyr_spatialref, lyr_count))\n",
    "\n",
    "# The slash does not need to be typed, it is there for formatting purposes"
   ]
  },
  {
   "cell_type": "code",
   "execution_count": null,
   "metadata": {},
   "outputs": [],
   "source": [
    "# Here is another way to quickly format strings...this is my preferred method! Less code!!\n",
    "print(f'{layer_name} is a {lyr_datatype} stored at {lyr_path} with a file name of {lyr_basename}\\\n",
    "      with the {lyr_spatialref} coordinate system and contains {lyr_count} features.')\n",
    "\n",
    "# The slash does not need to be typed, it is there for formatting purposes"
   ]
  },
  {
   "cell_type": "markdown",
   "metadata": {},
   "source": [
    "### Formatting Strings\n",
    "[**Top**](#Outline)"
   ]
  },
  {
   "cell_type": "markdown",
   "metadata": {},
   "source": [
    "* Formatting strings pretty slick\n",
    "* Can save space and time\n",
    "\n",
    "**See [PyFormat](https://pyformat.info/) and [Python 3's f-Strings: An Improved String Formatting Syntax (Guide)]( https://realpython.com/python-f-strings/)**"
   ]
  },
  {
   "cell_type": "markdown",
   "metadata": {},
   "source": [
    "## Listing Data\n",
    "[**Top**](#Outline)"
   ]
  },
  {
   "cell_type": "markdown",
   "metadata": {},
   "source": [
    "* Helps with batch processing (primary reason for developing scripts)\n",
    "* Lists are good for integrating processes using loops (another primary reason for developing scripts)\n",
    "* Easy inventory of data (e.g., list of fields in a table; feature classes in a geodatabase)\n",
    "* In order to list data with some ArcPy List functions, the Geoprocessing Environment Settings class Workspace property needs to be set"
   ]
  },
  {
   "cell_type": "markdown",
   "metadata": {},
   "source": [
    "### Geoprocessing Environment Settings\n",
    "[**Top**](#Outline)"
   ]
  },
  {
   "cell_type": "markdown",
   "metadata": {},
   "source": [
    "<img style=\"float: right; padding: 20px\" alt=\"Environment Settings Hierarchy\" src=\"https://pro.arcgis.com/en/pro-app/tool-reference/environment-settings/GUID-A1A48C11-ED6D-4C5C-89EB-8870EBB13C41-web.gif\" />\n",
    "\n",
    "* Additional parameters that influence how tools run and/or their results\n",
    "* Corresponds to the 'Environments' found in geoprocessing tool dialog\n",
    "* Important for controlling certain aspects of geoprocessing tool outputs\n",
    "* Available in Python through the **`arcpy.env`** class properties that must be set in the code\n",
    "* Follows a hierarchy within ArcGIS for how geoprocessing environment settings are implemented (See image)\n",
    "    * Geoprocessing environment settings set in scripts **override** all other environment settings\n",
    "\n",
    "See:\n",
    "* **[What is a geoprocessing environment setting?](https://pro.arcgis.com/en/pro-app/tool-reference/environment-settings/what-is-a-geoprocessing-environment.htm)**\n",
    "* **[Using environment settings in Python](https://pro.arcgis.com/en/pro-app/arcpy/geoprocessing_and_python/using-environment-settings.htm)**\n",
    "* **[arcpy.env Class](https://pro.arcgis.com/en/pro-app/arcpy/classes/env.htm)**"
   ]
  },
  {
   "cell_type": "code",
   "execution_count": null,
   "metadata": {},
   "outputs": [],
   "source": [
    "# Exercise 1: List Files and Feature Classes\n",
    "\n",
    "# First, we must set the environmental settings\n",
    "\n",
    "# Replace the '{...}' with the ArcGIS Pro Project Home folder location\n",
    "# Tip: Copy as Path!!\n",
    "\n",
    "arcpy.env.workspace = r'{...}\\CSV'\n",
    "\n",
    "print(arcpy.ListFiles())\n",
    "\n",
    "# How many files are listed?\n",
    "\n",
    "arcpy.env.workspace = r'{...}\\PythonForArcGIS.gdb'\n",
    "\n",
    "print(arcpy.ListFiles())\n",
    "\n",
    "print(arcpy.ListFeatureClasses())\n",
    "\n",
    "# What is the difference between the two list functions?"
   ]
  },
  {
   "cell_type": "code",
   "execution_count": null,
   "metadata": {},
   "outputs": [],
   "source": [
    "# Exercise 2: List fields\n",
    "\n",
    "# Note that the environment setting is not needed!\n",
    "\n",
    "print(arcpy.ListFields('Illinois Counties'))\n",
    "\n",
    "# What is the result? Can you understand it? \n",
    "# What is actually being output in this case?\n",
    "# (Hint: What type/class of object is being displayed?)\n",
    "\n",
    "fields = arcpy.ListFields('Illinois Counties')\n",
    "print(type(fields[0]))\n",
    "\n",
    "# We can print each field name...\n",
    "for field in fields:\n",
    "    print(field.name) # '.name' is property of the Field class\n",
    "\n",
    "# Or the field aliases...\n",
    "for field in fields:\n",
    "    print(field.aliasName) # '.aliasName' is another property of the Field class"
   ]
  },
  {
   "cell_type": "markdown",
   "metadata": {},
   "source": [
    "### List Comprehensions\n",
    "[**Top**](#Outline)"
   ]
  },
  {
   "cell_type": "markdown",
   "metadata": {},
   "source": [
    "* Used for creating Python lists concisely and quickly\n",
    "* Consists of brackets containing an expression followed by a `for` clause\n",
    "* Optionally can have one or more `if` or `for` clauses\n",
    "* Result will be a new list resulting from evaluating the expression in the context of the `for` and `if` clauses\n",
    "* Always returns a list as a result\n",
    "\n",
    "See:\n",
    "* **[ArcPy ListFields](https://pro.arcgis.com/en/pro-app/arcpy/functions/listfields.htm)**\n",
    "* **[Learn Python: List Comprehensions](http://www.learnpython.org/en/List_Comprehensions)**\n",
    "* **[Python For Beginners: List Comprehensions in Python](http://www.pythonforbeginners.com/basics/list-comprehensions-in-python)**\n",
    "\n",
    "***Once you understand these, you are on your way to becoming a Python ninja!***"
   ]
  },
  {
   "cell_type": "code",
   "execution_count": null,
   "metadata": {},
   "outputs": [],
   "source": [
    "# Exercise 3: Create a list of field names\n",
    "\n",
    "# We can also create a list of the field names using a 'list comprehension'...they are VERY powerful\n",
    "\n",
    "field_list = [field.name for field in arcpy.ListFields('Illinois Counties')]\n",
    "\n",
    "print(field_list)\n",
    "\n",
    "# How does this result look differently than above in Step 2?"
   ]
  },
  {
   "cell_type": "code",
   "execution_count": null,
   "metadata": {},
   "outputs": [],
   "source": [
    "test_field = 'OBJECTID'\n",
    "\n",
    "if test_field in field_list:\n",
    "    print('{} exists'.format(test_field))\n",
    "else:\n",
    "    print('{} does not exist'.format(test_field))\n",
    "\n",
    "# Repeat the above code using a test field that you know doesn't exist to test the 'else:' statement code\n",
    "# Does it work?"
   ]
  },
  {
   "cell_type": "markdown",
   "metadata": {},
   "source": [
    "## Geoprocessing Tools\n",
    "[**Top**](#Outline)"
   ]
  },
  {
   "cell_type": "markdown",
   "metadata": {},
   "source": [
    "* ArcPy has access to all geoprocessing tools in ArcGIS Pro in addition to many non-tool functions\n",
    "* Geoprocessing tools have a fixed set of parameters that provide the tool with the information required for execution\n",
    "* Tools usually have input parameters that define the dataset or datasets that are typically used to generate new output data\n",
    "\n",
    "### Tool Parameters\n",
    "\n",
    "* Parameters have several important properties:\n",
    "    * Each parameter expects a specific data type or data types, such as feature class, integer, string, or raster\n",
    "    * A parameter expects either an input or output value\n",
    "    * A parameter either requires a value or is optional\n",
    "    * Each tool parameter has a unique name\n",
    "* When a tool is used in Python, its parameter values must be correctly set so it can execute when the script is run\n",
    "* Once a valid set of parameter values is provided, the tool is ready to be executed\n",
    "* Parameters are specified as either strings or objects.\n",
    "\n",
    "**See [Using tools in Python](https://pro.arcgis.com/en/pro-app/latest/arcpy/geoprocessing_and_python/using-tools-in-python.htm)**"
   ]
  },
  {
   "cell_type": "code",
   "execution_count": null,
   "metadata": {},
   "outputs": [],
   "source": [
    "# Exercise 1: Select Layer by Attribute\n",
    "import arcpy\n",
    "\n",
    "layer_name = 'Illinois Counties'\n",
    "\n",
    "expression = 'ACSMEDHINC <= 40000'\n",
    "\n",
    "arcpy.SelectLayerByAttribute_management(layer_name, 'NEW_SELECTION', expression)"
   ]
  },
  {
   "cell_type": "code",
   "execution_count": null,
   "metadata": {},
   "outputs": [],
   "source": [
    "# Now clear the selection\n",
    "arcpy.management.SelectLayerByAttribute(layer_name, 'CLEAR_SELECTION') \n",
    "\n",
    "# Note the difference in how the code is written...See note below"
   ]
  },
  {
   "cell_type": "markdown",
   "metadata": {},
   "source": [
    "## Tool organization in ArcPy\n",
    "\n",
    ">Geoprocessing tools are organized in two different ways. All tools are available as functions on ArcPy but are also available in modules matching the toolbox alias name. Although most of the examples in the help show tools organized as functions available from ArcPy, both approaches are equally valid. Which approach you use will come down to a matter of personal preference and coding habits. In the following example, the Get Count tool is shown using both approaches.\n",
    "\n",
    "From **<a href=\"https://pro.arcgis.com/en/pro-app/arcpy/geoprocessing_and_python/using-tools-in-python.htm#ESRI_SECTION1_9C29CCC8373B4623BF5FD1F31EFEDBF2\" target=\"_blank\">Using tools in Python - Tool organization in ArcPy</a>**"
   ]
  },
  {
   "cell_type": "code",
   "execution_count": null,
   "metadata": {},
   "outputs": [],
   "source": [
    "# Exercise 2: Run some geoprocessing tools\n",
    "\n",
    "# Ensure that a default geodatabase is set\n",
    "\n",
    "# Replace the '{...}' with the ArcGIS Pro Project Home folder location\n",
    "# Don't forget: Copy as Path!!\n",
    "\n",
    "arcpy.env.workspace = r'{...}\\PythonForArcGIS.gdb' # What does setting the environment here do?\n",
    "\n",
    "# Create a variable for dissolve fields\n",
    "dissolve_fields = ['STATE_NAME', 'ST_ABBREV']\n",
    "\n",
    "# New drag, drop, and roll trick...using tools from the toolbox!\n",
    "\n",
    "arcpy.management.Dissolve(layer_name, 'Illinois', dissolve_fields, '', 'SINGLE_PART', 'DISSOLVE_LINES')\n",
    "\n",
    "arcpy.management.PolygonToLine('Illinois', 'Illinois_Boundary')\n",
    "\n",
    "# You may want to rearrange your layers in the TOC"
   ]
  },
  {
   "cell_type": "code",
   "execution_count": null,
   "metadata": {},
   "outputs": [],
   "source": [
    "# Step 3: Run a series of Geoprocessing tool\n",
    "\n",
    "# Replace the '{...}' with the ArcGIS Pro Project Home folder location\n",
    "\n",
    "csv_file = r'{...}\\CSV\\JeopardyContestants_LatLon.csv'\n",
    "\n",
    "arcpy.management.CopyRows(csv_file, 'JeopardyContestants_Table')\n",
    "\n",
    "arcpy.management.MakeXYEventLayer('JeopardyContestants_Table', 'lon', 'lat', 'Jeopardy Contestants')\n",
    "\n",
    "# Note the quotes!!\n",
    "arcpy.analysis.Select('Jeopardy Contestants', 'JeopardyContestants',\n",
    "                      '\"lat\" IS NOT NULL OR \"lon\" IS NOT NULL')\n",
    "# Note the indent!!\n",
    "arcpy.analysis.Buffer('JeopardyContestants', 'JeopardyContestants_Buffer',\n",
    "                      '5 Miles', 'FULL', 'ROUND', 'ALL', '', 'GEODESIC')\n"
   ]
  },
  {
   "cell_type": "markdown",
   "metadata": {},
   "source": [
    "## Your turn:\n",
    "\n",
    "### 1: Write code to clip the buffer to the Illinois state layer\n",
    "    Be careful with which tool you choose...there are few tools named 'Clip...'\n",
    "\n",
    "### 2: Write code to intersect the new buffer to the Illinois Counties layer\n",
    "    You might need to check the tool's help documentation...\n",
    "\n",
    "### 3: Save your code as a Python file (.py) in a new 'Scripts' folder\n",
    "    Open the .py file and view it in a text editor (like Notepad++)\n",
    "    You may need to clean up the script for any mistakes or extraneous code (look back at your errors...and delete!)\n",
    "\n",
    "### 4. Load the Python file back into the Python window\n",
    "    Clear the Python transcript in ArcGIS\n",
    "    Try running the whole script at once\n",
    "    This is one way you can create, save, and reuse a script for use again!"
   ]
  },
  {
   "cell_type": "markdown",
   "metadata": {},
   "source": [
    "# VII. Conclusion\n",
    "---\n",
    "[**Top**](#Outline)"
   ]
  },
  {
   "cell_type": "markdown",
   "metadata": {},
   "source": [
    "## Python is simple to use and easy to learn!\n",
    "\n",
    "## The only way to get better is to practice and challenge yourself\n",
    "\n",
    "## Utilize Python and ArcGIS help documentation and forums\n",
    "\n",
    "## There is so much more to learn!!"
   ]
  },
  {
   "cell_type": "code",
   "execution_count": null,
   "metadata": {},
   "outputs": [],
   "source": [
    "print('Have a great lunch. Ta ta for now!')"
   ]
  }
 ],
 "metadata": {
  "anaconda-cloud": {},
  "kernelspec": {
   "display_name": "ArcGISPro",
   "language": "Python",
   "name": "python3"
  },
  "language_info": {
   "file_extension": ".py",
   "name": "python",
   "version": "3"
  }
 },
 "nbformat": 4,
 "nbformat_minor": 4
}
