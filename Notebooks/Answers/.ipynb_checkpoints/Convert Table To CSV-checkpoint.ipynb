{
 "cells": [
  {
   "cell_type": "markdown",
   "metadata": {},
   "source": [
    "# Outline\n",
    "---"
   ]
  },
  {
   "cell_type": "markdown",
   "metadata": {},
   "source": [
    "* [**Project Information**](#Project-Information)\n",
    "* [**Data Sources**](#Data-Sources)\n",
    "* [**Metadata, Copyright, License**](#Metadata,-Copyright,-License)\n",
    "* [**Import Modules**](#Import-Modules)\n",
    "* [**Parameter Variables**](#Parameter-Variables)\n",
    "* [**Script**](#Script)\n",
    "* [**Documentation and References**](#Documentation-and-References)"
   ]
  },
  {
   "cell_type": "markdown",
   "metadata": {},
   "source": [
    "# Project Information\n",
    "---\n",
    "[**Top**](#Outline)"
   ]
  },
  {
   "cell_type": "markdown",
   "metadata": {},
   "source": [
    "## Convert Table to CSV File\n",
    "\n",
    "\n",
    "## Description\n",
    "\n",
    "This script converts a table to a CSV table with selected fields.\n",
    "\n",
    "## Project Owner(s)\n",
    "\n",
    "Owners:\n",
    "\n",
    "| Name | Email | Phone|\n",
    "|:---|:---|:---|\n",
    "| James Whitacre | email@domain.com | (555) 555-5555  ext |"
   ]
  },
  {
   "cell_type": "markdown",
   "metadata": {},
   "source": [
    "# Data Sources\n",
    "---\n",
    "[**Top**](#Outline)"
   ]
  },
  {
   "cell_type": "markdown",
   "metadata": {},
   "source": [
    "**List all data sources including the following information:**\n",
    "\n",
    "## Pennsylvania Unconventional Natural Gas Wells Geodatabase\n",
    "- **Description:**\n",
    "> The Carnegie Museum of Natural History’s Pennsylvania Unconventional Natural Gas Wells Geodatabase is a compilation of eight datasets available from the PA DEP that have been unified and summarized to show the location and life, from permit to production, of unconventional natural gas wells in Pennsylvania.  All the source data is provided by the Pennsylvania Department of Environmental Protection (PA DEP). The geodatabase is specifically designed to meet the needs for research analyses and other non-commercial uses. Carnegie Museum of Natural History makes no warranty or guarantee with regard to the accuracy or completeness of the data. The geodatabase is updated quarterly. For the specific schedule, please see the Frequently Asked Questions.\n",
    "\n",
    "- **Service URL or Item Details: https://services2.arcgis.com/eQgAMgHr2CRobt2r/arcgis/rest/services/UnconventionalWellsPA/FeatureServer/0**\n",
    "- **Download Link: https://maps.carnegiemnh.org/index.php/projects/unconventional-wells/**"
   ]
  },
  {
   "cell_type": "markdown",
   "metadata": {},
   "source": [
    "# Metadata, Copyright, License\n",
    "---\n",
    "[**Top**](#Outline)"
   ]
  },
  {
   "cell_type": "code",
   "execution_count": null,
   "metadata": {},
   "outputs": [],
   "source": [
    "# -*- coding: UTF-8 -*-\n",
    "\n",
    "''' Metadata, Copyright, License: \n",
    "------------------------------------------------------------------------\n",
    "Name:       Convert_Table_to_CSV.ipynb\n",
    "Purpose:    This script converts a table to a CSV table with selected\n",
    "            fields.\n",
    "Author:     Whitacre, James\n",
    "Created:    2024/04/10\n",
    "Version:    0.0.1\n",
    "Copyright:  Copyright <YYYY> <Your Name or Organization>\n",
    "License:    Licensed under the Apache License, Version 2.0 (the\n",
    "            \"License\"); you may not use this file except in compliance\n",
    "            with the License. You may obtain a copy of the License at\n",
    "            http://www.apache.org/licenses/LICENSE-2.0\n",
    "            Unless required by applicable law or agreed to in writing,\n",
    "            software distributed under the License is distributed on an\n",
    "            \"AS IS\" BASIS, WITHOUT WARRANTIES OR CONDITIONS OF ANY KIND,\n",
    "            either express or implied. See the License for the specific\n",
    "            language governing permissions and limitations under the\n",
    "            License.\n",
    "------------------------------------------------------------------------\n",
    "'''"
   ]
  },
  {
   "cell_type": "markdown",
   "metadata": {},
   "source": [
    "# Import Modules\n",
    "---\n",
    "[**Top**](#Outline)"
   ]
  },
  {
   "cell_type": "code",
   "execution_count": null,
   "metadata": {},
   "outputs": [],
   "source": [
    "''' Import Modules '''\n",
    "import arcpy\n",
    "import csv"
   ]
  },
  {
   "cell_type": "markdown",
   "metadata": {},
   "source": [
    "# Parameter Variables\n",
    "---\n",
    "[**Top**](#Outline)"
   ]
  },
  {
   "cell_type": "code",
   "execution_count": null,
   "metadata": {
    "scrolled": false
   },
   "outputs": [],
   "source": [
    "''' Parameters '''\n",
    "\n",
    "# Input feature class or standalone table\n",
    "input_table = arcpy.management.MakeFeatureLayer('https://services2.arcgis.com/eQgAMgHr2CRobt2r/arcgis/rest/services/UnconventionalWellsPA/FeatureServer/0',\n",
    "                                                'Unconventional Wells')\n",
    "\n",
    "# Identify list of field names to be exported\n",
    "field_names = ['Shape', 'PERMIT_NO', 'FARM_NAME', 'COUNTY', 'PROD_GAS_QUANT']\n",
    "\n",
    "# Output CSV file path and name\n",
    "output_csv = r'{Copy Home folder Path here...}\\CSV\\UnconventionalWells.csv'\n"
   ]
  },
  {
   "cell_type": "markdown",
   "metadata": {},
   "source": [
    "# Script\n",
    "---\n",
    "[**Top**](#Outline)"
   ]
  },
  {
   "cell_type": "code",
   "execution_count": null,
   "metadata": {},
   "outputs": [],
   "source": [
    "''' Script '''\n",
    "\n",
    "# Read the feature class or standalone table data\n",
    "\n",
    "# Create an empty list to append data to\n",
    "data = []\n",
    "\n",
    "# Create a search cursor to access the data\n",
    "with arcpy.da.SearchCursor(input_table, field_names) as cursor:\n",
    "    for row in cursor:\n",
    "        # Append each row to the data list\n",
    "        data.append(row)\n",
    "\n",
    "# Print first 10 rows\n",
    "# print(data[:10])\n",
    "\n",
    "\n",
    "# Create and open the output CSV file\n",
    "with open(output_csv, 'w', newline='') as csv_file:\n",
    "    # Creates CSV Writer object\n",
    "    csv_writer = csv.writer(csv_file)\n",
    "    \n",
    "    # Write the field names to the new CSV file\n",
    "    csv_writer.writerow(field_names)\n",
    "    \n",
    "    # Write the feature class or standalone table data to the new CSV file\n",
    "    csv_writer.writerows(data)\n",
    "\n",
    "# Message that the script is finished\n",
    "print(\"CSV file complete; located at {}\".format(output_csv))"
   ]
  },
  {
   "cell_type": "markdown",
   "metadata": {},
   "source": [
    "# Documentation and References\n",
    "---\n",
    "[**Top**](#Outline)"
   ]
  },
  {
   "cell_type": "markdown",
   "metadata": {},
   "source": [
    "### [ArcPy Documentation: Data Access using cursors](https://pro.arcgis.com/en/pro-app/arcpy/get-started/data-access-using-cursors.htm)\n",
    "\n",
    "### [Python Documentation: CSV File Reading and Writing](https://docs.python.org/3/library/csv.html)\n"
   ]
  }
 ],
 "metadata": {
  "anaconda-cloud": {},
  "kernelspec": {
   "display_name": "ArcGISPro",
   "language": "Python",
   "name": "python3"
  },
  "language_info": {
   "file_extension": ".py",
   "name": "python",
   "version": "3"
  }
 },
 "nbformat": 4,
 "nbformat_minor": 1
}
